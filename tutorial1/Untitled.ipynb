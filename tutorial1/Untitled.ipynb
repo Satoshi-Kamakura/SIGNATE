{
 "cells": [
  {
   "cell_type": "code",
   "execution_count": 1,
   "metadata": {},
   "outputs": [
    {
     "name": "stderr",
     "output_type": "stream",
     "text": [
      "UsageError: unrecognized arguments: # notebook上でグラフを表示するおまじない\n"
     ]
    }
   ],
   "source": [
    "import pandas as pd\n",
    "import numpy as np\n",
    "from matplotlib import pyplot as plt\n",
    "from sklearn.linear_model import LinearRegression as LR # 線形回帰のモデル\n",
    "%matplotlib inline # notebook上でグラフを表示するおまじない\n"
   ]
  },
  {
   "cell_type": "code",
   "execution_count": 2,
   "metadata": {
    "collapsed": true
   },
   "outputs": [],
   "source": [
    "%matplotlib inline"
   ]
  },
  {
   "cell_type": "code",
   "execution_count": 3,
   "metadata": {},
   "outputs": [
    {
     "ename": "TypeError",
     "evalue": "'function' object is not subscriptable",
     "output_type": "error",
     "traceback": [
      "\u001b[0;31m---------------------------------------------------------------------------\u001b[0m",
      "\u001b[0;31mTypeError\u001b[0m                                 Traceback (most recent call last)",
      "\u001b[0;32m<ipython-input-3-adf4f05cb07d>\u001b[0m in \u001b[0;36m<module>\u001b[0;34m()\u001b[0m\n\u001b[0;32m----> 1\u001b[0;31m \u001b[0mtrain\u001b[0m \u001b[0;34m=\u001b[0m \u001b[0mpd\u001b[0m\u001b[0;34m.\u001b[0m\u001b[0mread_csv\u001b[0m\u001b[0;34m[\u001b[0m\u001b[0;34m'train.csv'\u001b[0m\u001b[0;34m]\u001b[0m\u001b[0;34m\u001b[0m\u001b[0m\n\u001b[0m",
      "\u001b[0;31mTypeError\u001b[0m: 'function' object is not subscriptable"
     ]
    }
   ],
   "source": [
    "train = pd.read_csv['train.csv']"
   ]
  },
  {
   "cell_type": "code",
   "execution_count": 4,
   "metadata": {
    "collapsed": true
   },
   "outputs": [],
   "source": [
    "train = pd.read_csv(\"train.csv\")"
   ]
  },
  {
   "cell_type": "code",
   "execution_count": 5,
   "metadata": {},
   "outputs": [
    {
     "data": {
      "text/html": [
       "<div>\n",
       "<style>\n",
       "    .dataframe thead tr:only-child th {\n",
       "        text-align: right;\n",
       "    }\n",
       "\n",
       "    .dataframe thead th {\n",
       "        text-align: left;\n",
       "    }\n",
       "\n",
       "    .dataframe tbody tr th {\n",
       "        vertical-align: top;\n",
       "    }\n",
       "</style>\n",
       "<table border=\"1\" class=\"dataframe\">\n",
       "  <thead>\n",
       "    <tr style=\"text-align: right;\">\n",
       "      <th></th>\n",
       "      <th>datetime</th>\n",
       "      <th>y</th>\n",
       "      <th>week</th>\n",
       "      <th>soldout</th>\n",
       "      <th>name</th>\n",
       "      <th>kcal</th>\n",
       "      <th>remarks</th>\n",
       "      <th>event</th>\n",
       "      <th>payday</th>\n",
       "      <th>weather</th>\n",
       "      <th>precipitation</th>\n",
       "      <th>temperature</th>\n",
       "    </tr>\n",
       "  </thead>\n",
       "  <tbody>\n",
       "    <tr>\n",
       "      <th>0</th>\n",
       "      <td>2013-11-18</td>\n",
       "      <td>90</td>\n",
       "      <td>月</td>\n",
       "      <td>0</td>\n",
       "      <td>厚切りイカフライ</td>\n",
       "      <td>NaN</td>\n",
       "      <td>NaN</td>\n",
       "      <td>NaN</td>\n",
       "      <td>NaN</td>\n",
       "      <td>快晴</td>\n",
       "      <td>--</td>\n",
       "      <td>19.8</td>\n",
       "    </tr>\n",
       "    <tr>\n",
       "      <th>1</th>\n",
       "      <td>2013-11-19</td>\n",
       "      <td>101</td>\n",
       "      <td>火</td>\n",
       "      <td>1</td>\n",
       "      <td>手作りヒレカツ</td>\n",
       "      <td>NaN</td>\n",
       "      <td>NaN</td>\n",
       "      <td>NaN</td>\n",
       "      <td>NaN</td>\n",
       "      <td>快晴</td>\n",
       "      <td>--</td>\n",
       "      <td>17.0</td>\n",
       "    </tr>\n",
       "    <tr>\n",
       "      <th>2</th>\n",
       "      <td>2013-11-20</td>\n",
       "      <td>118</td>\n",
       "      <td>水</td>\n",
       "      <td>0</td>\n",
       "      <td>白身魚唐揚げ野菜あん</td>\n",
       "      <td>NaN</td>\n",
       "      <td>NaN</td>\n",
       "      <td>NaN</td>\n",
       "      <td>NaN</td>\n",
       "      <td>快晴</td>\n",
       "      <td>--</td>\n",
       "      <td>15.5</td>\n",
       "    </tr>\n",
       "    <tr>\n",
       "      <th>3</th>\n",
       "      <td>2013-11-21</td>\n",
       "      <td>120</td>\n",
       "      <td>木</td>\n",
       "      <td>1</td>\n",
       "      <td>若鶏ピリ辛焼</td>\n",
       "      <td>NaN</td>\n",
       "      <td>NaN</td>\n",
       "      <td>NaN</td>\n",
       "      <td>NaN</td>\n",
       "      <td>快晴</td>\n",
       "      <td>--</td>\n",
       "      <td>15.2</td>\n",
       "    </tr>\n",
       "    <tr>\n",
       "      <th>4</th>\n",
       "      <td>2013-11-22</td>\n",
       "      <td>130</td>\n",
       "      <td>金</td>\n",
       "      <td>1</td>\n",
       "      <td>ビッグメンチカツ</td>\n",
       "      <td>NaN</td>\n",
       "      <td>NaN</td>\n",
       "      <td>NaN</td>\n",
       "      <td>NaN</td>\n",
       "      <td>快晴</td>\n",
       "      <td>--</td>\n",
       "      <td>16.1</td>\n",
       "    </tr>\n",
       "  </tbody>\n",
       "</table>\n",
       "</div>"
      ],
      "text/plain": [
       "     datetime    y week  soldout        name  kcal remarks event  payday  \\\n",
       "0  2013-11-18   90    月        0    厚切りイカフライ   NaN     NaN   NaN     NaN   \n",
       "1  2013-11-19  101    火        1     手作りヒレカツ   NaN     NaN   NaN     NaN   \n",
       "2  2013-11-20  118    水        0  白身魚唐揚げ野菜あん   NaN     NaN   NaN     NaN   \n",
       "3  2013-11-21  120    木        1      若鶏ピリ辛焼   NaN     NaN   NaN     NaN   \n",
       "4  2013-11-22  130    金        1    ビッグメンチカツ   NaN     NaN   NaN     NaN   \n",
       "\n",
       "  weather precipitation  temperature  \n",
       "0      快晴            --         19.8  \n",
       "1      快晴            --         17.0  \n",
       "2      快晴            --         15.5  \n",
       "3      快晴            --         15.2  \n",
       "4      快晴            --         16.1  "
      ]
     },
     "execution_count": 5,
     "metadata": {},
     "output_type": "execute_result"
    }
   ],
   "source": [
    "train.head()"
   ]
  },
  {
   "cell_type": "code",
   "execution_count": 6,
   "metadata": {},
   "outputs": [
    {
     "data": {
      "text/html": [
       "<div>\n",
       "<style>\n",
       "    .dataframe thead tr:only-child th {\n",
       "        text-align: right;\n",
       "    }\n",
       "\n",
       "    .dataframe thead th {\n",
       "        text-align: left;\n",
       "    }\n",
       "\n",
       "    .dataframe tbody tr th {\n",
       "        vertical-align: top;\n",
       "    }\n",
       "</style>\n",
       "<table border=\"1\" class=\"dataframe\">\n",
       "  <thead>\n",
       "    <tr style=\"text-align: right;\">\n",
       "      <th></th>\n",
       "      <th>y</th>\n",
       "      <th>soldout</th>\n",
       "      <th>kcal</th>\n",
       "      <th>payday</th>\n",
       "      <th>temperature</th>\n",
       "    </tr>\n",
       "  </thead>\n",
       "  <tbody>\n",
       "    <tr>\n",
       "      <th>count</th>\n",
       "      <td>207.000000</td>\n",
       "      <td>207.000000</td>\n",
       "      <td>166.000000</td>\n",
       "      <td>10.0</td>\n",
       "      <td>207.000000</td>\n",
       "    </tr>\n",
       "    <tr>\n",
       "      <th>mean</th>\n",
       "      <td>86.623188</td>\n",
       "      <td>0.449275</td>\n",
       "      <td>404.409639</td>\n",
       "      <td>1.0</td>\n",
       "      <td>19.252174</td>\n",
       "    </tr>\n",
       "    <tr>\n",
       "      <th>std</th>\n",
       "      <td>32.882448</td>\n",
       "      <td>0.498626</td>\n",
       "      <td>29.884641</td>\n",
       "      <td>0.0</td>\n",
       "      <td>8.611365</td>\n",
       "    </tr>\n",
       "    <tr>\n",
       "      <th>min</th>\n",
       "      <td>29.000000</td>\n",
       "      <td>0.000000</td>\n",
       "      <td>315.000000</td>\n",
       "      <td>1.0</td>\n",
       "      <td>1.200000</td>\n",
       "    </tr>\n",
       "    <tr>\n",
       "      <th>25%</th>\n",
       "      <td>57.000000</td>\n",
       "      <td>0.000000</td>\n",
       "      <td>386.000000</td>\n",
       "      <td>1.0</td>\n",
       "      <td>11.550000</td>\n",
       "    </tr>\n",
       "    <tr>\n",
       "      <th>50%</th>\n",
       "      <td>78.000000</td>\n",
       "      <td>0.000000</td>\n",
       "      <td>408.500000</td>\n",
       "      <td>1.0</td>\n",
       "      <td>19.800000</td>\n",
       "    </tr>\n",
       "    <tr>\n",
       "      <th>75%</th>\n",
       "      <td>113.000000</td>\n",
       "      <td>1.000000</td>\n",
       "      <td>426.000000</td>\n",
       "      <td>1.0</td>\n",
       "      <td>26.100000</td>\n",
       "    </tr>\n",
       "    <tr>\n",
       "      <th>max</th>\n",
       "      <td>171.000000</td>\n",
       "      <td>1.000000</td>\n",
       "      <td>462.000000</td>\n",
       "      <td>1.0</td>\n",
       "      <td>34.600000</td>\n",
       "    </tr>\n",
       "  </tbody>\n",
       "</table>\n",
       "</div>"
      ],
      "text/plain": [
       "                y     soldout        kcal  payday  temperature\n",
       "count  207.000000  207.000000  166.000000    10.0   207.000000\n",
       "mean    86.623188    0.449275  404.409639     1.0    19.252174\n",
       "std     32.882448    0.498626   29.884641     0.0     8.611365\n",
       "min     29.000000    0.000000  315.000000     1.0     1.200000\n",
       "25%     57.000000    0.000000  386.000000     1.0    11.550000\n",
       "50%     78.000000    0.000000  408.500000     1.0    19.800000\n",
       "75%    113.000000    1.000000  426.000000     1.0    26.100000\n",
       "max    171.000000    1.000000  462.000000     1.0    34.600000"
      ]
     },
     "execution_count": 6,
     "metadata": {},
     "output_type": "execute_result"
    }
   ],
   "source": [
    "train.describe()"
   ]
  },
  {
   "cell_type": "code",
   "execution_count": 7,
   "metadata": {},
   "outputs": [
    {
     "ename": "NameError",
     "evalue": "name 'test' is not defined",
     "output_type": "error",
     "traceback": [
      "\u001b[0;31m---------------------------------------------------------------------------\u001b[0m",
      "\u001b[0;31mNameError\u001b[0m                                 Traceback (most recent call last)",
      "\u001b[0;32m<ipython-input-7-e4cf4b8c221f>\u001b[0m in \u001b[0;36m<module>\u001b[0;34m()\u001b[0m\n\u001b[1;32m      1\u001b[0m \u001b[0mX_train\u001b[0m \u001b[0;34m=\u001b[0m \u001b[0mtrain\u001b[0m\u001b[0;34m[\u001b[0m\u001b[0;34m'temperature'\u001b[0m\u001b[0;34m]\u001b[0m\u001b[0;34m\u001b[0m\u001b[0m\n\u001b[1;32m      2\u001b[0m \u001b[0my_train\u001b[0m \u001b[0;34m=\u001b[0m \u001b[0mtrain\u001b[0m\u001b[0;34m[\u001b[0m\u001b[0;34m'y'\u001b[0m\u001b[0;34m]\u001b[0m\u001b[0;34m\u001b[0m\u001b[0m\n\u001b[0;32m----> 3\u001b[0;31m \u001b[0mX_test\u001b[0m  \u001b[0;34m=\u001b[0m \u001b[0mtest\u001b[0m\u001b[0;34m[\u001b[0m\u001b[0;34m'temperature'\u001b[0m\u001b[0;34m]\u001b[0m\u001b[0;34m\u001b[0m\u001b[0m\n\u001b[0m",
      "\u001b[0;31mNameError\u001b[0m: name 'test' is not defined"
     ]
    }
   ],
   "source": [
    "X_train = train['temperature']\n",
    "y_train = train['y']\n",
    "X_test  = test['temperature']"
   ]
  },
  {
   "cell_type": "code",
   "execution_count": 8,
   "metadata": {
    "collapsed": true
   },
   "outputs": [],
   "source": [
    "test=pd.read_csv(\"test.csv\")"
   ]
  },
  {
   "cell_type": "code",
   "execution_count": 9,
   "metadata": {
    "collapsed": true
   },
   "outputs": [],
   "source": [
    "X_test  = test['temperature']"
   ]
  },
  {
   "cell_type": "code",
   "execution_count": 10,
   "metadata": {},
   "outputs": [
    {
     "data": {
      "text/plain": [
       "0    19.8\n",
       "1    17.0\n",
       "2    15.5\n",
       "3    15.2\n",
       "4    16.1\n",
       "Name: temperature, dtype: float64"
      ]
     },
     "execution_count": 10,
     "metadata": {},
     "output_type": "execute_result"
    }
   ],
   "source": [
    "X_train.head()"
   ]
  },
  {
   "cell_type": "code",
   "execution_count": 11,
   "metadata": {},
   "outputs": [
    {
     "data": {
      "text/plain": [
       "0    19.8\n",
       "1    17.0\n",
       "2    15.5\n",
       "3    15.2\n",
       "4    16.1\n",
       "Name: temperature, dtype: float64"
      ]
     },
     "execution_count": 11,
     "metadata": {},
     "output_type": "execute_result"
    }
   ],
   "source": [
    "X_train.head()"
   ]
  },
  {
   "cell_type": "code",
   "execution_count": 12,
   "metadata": {},
   "outputs": [
    {
     "ename": "TypeError",
     "evalue": "'tuple' object is not callable",
     "output_type": "error",
     "traceback": [
      "\u001b[0;31m---------------------------------------------------------------------------\u001b[0m",
      "\u001b[0;31mTypeError\u001b[0m                                 Traceback (most recent call last)",
      "\u001b[0;32m<ipython-input-12-af17272e7b4b>\u001b[0m in \u001b[0;36m<module>\u001b[0;34m()\u001b[0m\n\u001b[0;32m----> 1\u001b[0;31m \u001b[0mX_train\u001b[0m\u001b[0;34m.\u001b[0m\u001b[0mshape\u001b[0m\u001b[0;34m(\u001b[0m\u001b[0;34m)\u001b[0m\u001b[0;34m\u001b[0m\u001b[0m\n\u001b[0m",
      "\u001b[0;31mTypeError\u001b[0m: 'tuple' object is not callable"
     ]
    }
   ],
   "source": [
    "X_train.shape()"
   ]
  },
  {
   "cell_type": "code",
   "execution_count": 13,
   "metadata": {},
   "outputs": [
    {
     "data": {
      "text/plain": [
       "(207,)"
      ]
     },
     "execution_count": 13,
     "metadata": {},
     "output_type": "execute_result"
    }
   ],
   "source": [
    "X_train.shape"
   ]
  },
  {
   "cell_type": "code",
   "execution_count": 14,
   "metadata": {},
   "outputs": [
    {
     "data": {
      "text/plain": [
       "0    19.8\n",
       "1    17.0\n",
       "2    15.5\n",
       "3    15.2\n",
       "4    16.1\n",
       "Name: temperature, dtype: float64"
      ]
     },
     "execution_count": 14,
     "metadata": {},
     "output_type": "execute_result"
    }
   ],
   "source": [
    "X_train.head()"
   ]
  },
  {
   "cell_type": "code",
   "execution_count": 15,
   "metadata": {},
   "outputs": [
    {
     "data": {
      "text/plain": [
       "array([ 19.8,  17. ,  15.5,  15.2,  16.1,  14.6,  17.9,  14.7,  17.7,\n",
       "        12.1,  13.8,  13.9,  13.5,  13.8,  14.9,   9.1,   7.1,  11. ,\n",
       "        12.3,  13.9,  11.3,  10.8,   7.8,   6.8,   8.4,  11.5,   8. ,\n",
       "         7.3,   7.3,   9.8,  10.9,   5.1,   5.8,   2.9,   7. ,   7.8,\n",
       "         6.5,  10.4,   7.4,   8.5,  10.1,   5.1,  12.6,  10.3,  15.3,\n",
       "        14.1,  15.9,   3.8,   3. ,   4.2,   5.5,   7.8,   6.3,   6.4,\n",
       "         1.2,  11.6,   6.8,   7.3,   5.4,   8.5,   6.6,  10.5,  11.5,\n",
       "         8.5,  17.7,   7.8,   8.3,   6.1,   6.7,   7. ,   7.6,   8.7,\n",
       "        14.8,  15.2,  11.5,  14. ,  18.9,  12.6,   7.5,  17.4,  18.9,\n",
       "        18.7,  12.4,  18.5,  17.5,  16.1,  18.2,  14.3,  17.8,  13.8,\n",
       "        20.1,  19. ,  21.3,  16.5,  16.4,  19.7,  21.5,  20.1,  11.4,\n",
       "        16.4,  18.8,  19.4,  19.9,  20.8,  22.7,  17.5,  24. ,  23.3,\n",
       "        18.9,  21. ,  23.4,  22.7,  18.6,  26. ,  19.3,  23.8,  22.8,\n",
       "        23.9,  17.4,  19. ,  19.8,  23.9,  23.7,  25.7,  26. ,  26.9,\n",
       "        30.6,  27. ,  27.5,  21.5,  19.9,  25. ,  25.5,  22.3,  21.3,\n",
       "        29.5,  28.1,  27.6,  21.9,  27.5,  26.5,  26.9,  23.7,  25.2,\n",
       "        25.2,  25.4,  25.5,  28.3,  28.8,  27. ,  22.1,  24. ,  29.7,\n",
       "        24.6,  28.8,  33.9,  30.9,  30.3,  30.9,  30.1,  25.6,  30.2,\n",
       "        32. ,  32.5,  33.6,  28.9,  30.4,  30.6,  32.5,  32.7,  32.7,\n",
       "        34.3,  34.6,  32.1,  31.1,  32.4,  29.4,  32.2,  33.3,  33.3,\n",
       "        33. ,  33.1,  26. ,  26.2,  21. ,  21.6,  25.1,  23.4,  29.1,\n",
       "        26.7,  26.5,  30.2,  23.1,  26.8,  25. ,  21.9,  27.3,  28.8,\n",
       "        25. ,  24.1,  23.6,  25.2,  24.8,  25.4,  27.1,  26.6,  28.1])"
      ]
     },
     "execution_count": 15,
     "metadata": {},
     "output_type": "execute_result"
    }
   ],
   "source": [
    "X_train.values\n"
   ]
  },
  {
   "cell_type": "code",
   "execution_count": 16,
   "metadata": {
    "collapsed": true
   },
   "outputs": [],
   "source": [
    "X_train=X_train.values.reshape(-1,1)"
   ]
  },
  {
   "cell_type": "code",
   "execution_count": 17,
   "metadata": {},
   "outputs": [
    {
     "data": {
      "text/plain": [
       "array([[ 19.8],\n",
       "       [ 17. ],\n",
       "       [ 15.5],\n",
       "       [ 15.2],\n",
       "       [ 16.1],\n",
       "       [ 14.6],\n",
       "       [ 17.9],\n",
       "       [ 14.7],\n",
       "       [ 17.7],\n",
       "       [ 12.1],\n",
       "       [ 13.8],\n",
       "       [ 13.9],\n",
       "       [ 13.5],\n",
       "       [ 13.8],\n",
       "       [ 14.9],\n",
       "       [  9.1],\n",
       "       [  7.1],\n",
       "       [ 11. ],\n",
       "       [ 12.3],\n",
       "       [ 13.9],\n",
       "       [ 11.3],\n",
       "       [ 10.8],\n",
       "       [  7.8],\n",
       "       [  6.8],\n",
       "       [  8.4],\n",
       "       [ 11.5],\n",
       "       [  8. ],\n",
       "       [  7.3],\n",
       "       [  7.3],\n",
       "       [  9.8],\n",
       "       [ 10.9],\n",
       "       [  5.1],\n",
       "       [  5.8],\n",
       "       [  2.9],\n",
       "       [  7. ],\n",
       "       [  7.8],\n",
       "       [  6.5],\n",
       "       [ 10.4],\n",
       "       [  7.4],\n",
       "       [  8.5],\n",
       "       [ 10.1],\n",
       "       [  5.1],\n",
       "       [ 12.6],\n",
       "       [ 10.3],\n",
       "       [ 15.3],\n",
       "       [ 14.1],\n",
       "       [ 15.9],\n",
       "       [  3.8],\n",
       "       [  3. ],\n",
       "       [  4.2],\n",
       "       [  5.5],\n",
       "       [  7.8],\n",
       "       [  6.3],\n",
       "       [  6.4],\n",
       "       [  1.2],\n",
       "       [ 11.6],\n",
       "       [  6.8],\n",
       "       [  7.3],\n",
       "       [  5.4],\n",
       "       [  8.5],\n",
       "       [  6.6],\n",
       "       [ 10.5],\n",
       "       [ 11.5],\n",
       "       [  8.5],\n",
       "       [ 17.7],\n",
       "       [  7.8],\n",
       "       [  8.3],\n",
       "       [  6.1],\n",
       "       [  6.7],\n",
       "       [  7. ],\n",
       "       [  7.6],\n",
       "       [  8.7],\n",
       "       [ 14.8],\n",
       "       [ 15.2],\n",
       "       [ 11.5],\n",
       "       [ 14. ],\n",
       "       [ 18.9],\n",
       "       [ 12.6],\n",
       "       [  7.5],\n",
       "       [ 17.4],\n",
       "       [ 18.9],\n",
       "       [ 18.7],\n",
       "       [ 12.4],\n",
       "       [ 18.5],\n",
       "       [ 17.5],\n",
       "       [ 16.1],\n",
       "       [ 18.2],\n",
       "       [ 14.3],\n",
       "       [ 17.8],\n",
       "       [ 13.8],\n",
       "       [ 20.1],\n",
       "       [ 19. ],\n",
       "       [ 21.3],\n",
       "       [ 16.5],\n",
       "       [ 16.4],\n",
       "       [ 19.7],\n",
       "       [ 21.5],\n",
       "       [ 20.1],\n",
       "       [ 11.4],\n",
       "       [ 16.4],\n",
       "       [ 18.8],\n",
       "       [ 19.4],\n",
       "       [ 19.9],\n",
       "       [ 20.8],\n",
       "       [ 22.7],\n",
       "       [ 17.5],\n",
       "       [ 24. ],\n",
       "       [ 23.3],\n",
       "       [ 18.9],\n",
       "       [ 21. ],\n",
       "       [ 23.4],\n",
       "       [ 22.7],\n",
       "       [ 18.6],\n",
       "       [ 26. ],\n",
       "       [ 19.3],\n",
       "       [ 23.8],\n",
       "       [ 22.8],\n",
       "       [ 23.9],\n",
       "       [ 17.4],\n",
       "       [ 19. ],\n",
       "       [ 19.8],\n",
       "       [ 23.9],\n",
       "       [ 23.7],\n",
       "       [ 25.7],\n",
       "       [ 26. ],\n",
       "       [ 26.9],\n",
       "       [ 30.6],\n",
       "       [ 27. ],\n",
       "       [ 27.5],\n",
       "       [ 21.5],\n",
       "       [ 19.9],\n",
       "       [ 25. ],\n",
       "       [ 25.5],\n",
       "       [ 22.3],\n",
       "       [ 21.3],\n",
       "       [ 29.5],\n",
       "       [ 28.1],\n",
       "       [ 27.6],\n",
       "       [ 21.9],\n",
       "       [ 27.5],\n",
       "       [ 26.5],\n",
       "       [ 26.9],\n",
       "       [ 23.7],\n",
       "       [ 25.2],\n",
       "       [ 25.2],\n",
       "       [ 25.4],\n",
       "       [ 25.5],\n",
       "       [ 28.3],\n",
       "       [ 28.8],\n",
       "       [ 27. ],\n",
       "       [ 22.1],\n",
       "       [ 24. ],\n",
       "       [ 29.7],\n",
       "       [ 24.6],\n",
       "       [ 28.8],\n",
       "       [ 33.9],\n",
       "       [ 30.9],\n",
       "       [ 30.3],\n",
       "       [ 30.9],\n",
       "       [ 30.1],\n",
       "       [ 25.6],\n",
       "       [ 30.2],\n",
       "       [ 32. ],\n",
       "       [ 32.5],\n",
       "       [ 33.6],\n",
       "       [ 28.9],\n",
       "       [ 30.4],\n",
       "       [ 30.6],\n",
       "       [ 32.5],\n",
       "       [ 32.7],\n",
       "       [ 32.7],\n",
       "       [ 34.3],\n",
       "       [ 34.6],\n",
       "       [ 32.1],\n",
       "       [ 31.1],\n",
       "       [ 32.4],\n",
       "       [ 29.4],\n",
       "       [ 32.2],\n",
       "       [ 33.3],\n",
       "       [ 33.3],\n",
       "       [ 33. ],\n",
       "       [ 33.1],\n",
       "       [ 26. ],\n",
       "       [ 26.2],\n",
       "       [ 21. ],\n",
       "       [ 21.6],\n",
       "       [ 25.1],\n",
       "       [ 23.4],\n",
       "       [ 29.1],\n",
       "       [ 26.7],\n",
       "       [ 26.5],\n",
       "       [ 30.2],\n",
       "       [ 23.1],\n",
       "       [ 26.8],\n",
       "       [ 25. ],\n",
       "       [ 21.9],\n",
       "       [ 27.3],\n",
       "       [ 28.8],\n",
       "       [ 25. ],\n",
       "       [ 24.1],\n",
       "       [ 23.6],\n",
       "       [ 25.2],\n",
       "       [ 24.8],\n",
       "       [ 25.4],\n",
       "       [ 27.1],\n",
       "       [ 26.6],\n",
       "       [ 28.1]])"
      ]
     },
     "execution_count": 17,
     "metadata": {},
     "output_type": "execute_result"
    }
   ],
   "source": [
    "X_train"
   ]
  },
  {
   "cell_type": "code",
   "execution_count": 18,
   "metadata": {},
   "outputs": [
    {
     "data": {
      "text/plain": [
       "(207, 1)"
      ]
     },
     "execution_count": 18,
     "metadata": {},
     "output_type": "execute_result"
    }
   ],
   "source": [
    "X_train.shape"
   ]
  },
  {
   "cell_type": "code",
   "execution_count": 19,
   "metadata": {
    "collapsed": true
   },
   "outputs": [],
   "source": [
    "model=LR()"
   ]
  },
  {
   "cell_type": "code",
   "execution_count": 20,
   "metadata": {},
   "outputs": [
    {
     "data": {
      "text/plain": [
       "0       90\n",
       "1      101\n",
       "2      118\n",
       "3      120\n",
       "4      130\n",
       "5      135\n",
       "6      145\n",
       "7      140\n",
       "8      151\n",
       "9      116\n",
       "10     151\n",
       "11     153\n",
       "12     151\n",
       "13     171\n",
       "14     134\n",
       "15     165\n",
       "16     155\n",
       "17     157\n",
       "18     109\n",
       "19     111\n",
       "20     160\n",
       "21     145\n",
       "22     145\n",
       "23     151\n",
       "24     134\n",
       "25     122\n",
       "26     121\n",
       "27      80\n",
       "28     131\n",
       "29     128\n",
       "      ... \n",
       "177     56\n",
       "178     53\n",
       "179     56\n",
       "180     54\n",
       "181    100\n",
       "182     55\n",
       "183     68\n",
       "184     62\n",
       "185     56\n",
       "186     39\n",
       "187     65\n",
       "188     68\n",
       "189     53\n",
       "190     54\n",
       "191     43\n",
       "192     68\n",
       "193     63\n",
       "194     54\n",
       "195     53\n",
       "196    115\n",
       "197     56\n",
       "198     49\n",
       "199     46\n",
       "200     45\n",
       "201     29\n",
       "202     59\n",
       "203     50\n",
       "204     45\n",
       "205     56\n",
       "206     40\n",
       "Name: y, Length: 207, dtype: int64"
      ]
     },
     "execution_count": 20,
     "metadata": {},
     "output_type": "execute_result"
    }
   ],
   "source": [
    "y_train"
   ]
  },
  {
   "cell_type": "code",
   "execution_count": 21,
   "metadata": {},
   "outputs": [
    {
     "ename": "NameError",
     "evalue": "name 'mode' is not defined",
     "output_type": "error",
     "traceback": [
      "\u001b[0;31m---------------------------------------------------------------------------\u001b[0m",
      "\u001b[0;31mNameError\u001b[0m                                 Traceback (most recent call last)",
      "\u001b[0;32m<ipython-input-21-5bbdfe08287b>\u001b[0m in \u001b[0;36m<module>\u001b[0;34m()\u001b[0m\n\u001b[0;32m----> 1\u001b[0;31m \u001b[0mmode\u001b[0m\u001b[0;34m.\u001b[0m\u001b[0mfit\u001b[0m\u001b[0;34m(\u001b[0m\u001b[0mX_train\u001b[0m\u001b[0;34m.\u001b[0m\u001b[0my_train\u001b[0m\u001b[0;34m)\u001b[0m\u001b[0;34m\u001b[0m\u001b[0m\n\u001b[0m",
      "\u001b[0;31mNameError\u001b[0m: name 'mode' is not defined"
     ]
    }
   ],
   "source": [
    "mode.fit(X_train.y_train)"
   ]
  },
  {
   "cell_type": "code",
   "execution_count": 22,
   "metadata": {},
   "outputs": [
    {
     "data": {
      "text/plain": [
       "LinearRegression(copy_X=True, fit_intercept=True, n_jobs=1, normalize=False)"
      ]
     },
     "execution_count": 22,
     "metadata": {},
     "output_type": "execute_result"
    }
   ],
   "source": [
    "model.fit(X_train,y_train)"
   ]
  },
  {
   "cell_type": "code",
   "execution_count": 23,
   "metadata": {},
   "outputs": [
    {
     "ename": "NameError",
     "evalue": "name 'mode' is not defined",
     "output_type": "error",
     "traceback": [
      "\u001b[0;31m---------------------------------------------------------------------------\u001b[0m",
      "\u001b[0;31mNameError\u001b[0m                                 Traceback (most recent call last)",
      "\u001b[0;32m<ipython-input-23-9df4d05b572b>\u001b[0m in \u001b[0;36m<module>\u001b[0;34m()\u001b[0m\n\u001b[0;32m----> 1\u001b[0;31m \u001b[0mmode\u001b[0m\u001b[0;34m.\u001b[0m\u001b[0mcoef_\u001b[0m\u001b[0;34m\u001b[0m\u001b[0m\n\u001b[0m",
      "\u001b[0;31mNameError\u001b[0m: name 'mode' is not defined"
     ]
    }
   ],
   "source": [
    "mode.coef_"
   ]
  },
  {
   "cell_type": "code",
   "execution_count": 24,
   "metadata": {},
   "outputs": [
    {
     "data": {
      "text/plain": [
       "array([-2.5023821])"
      ]
     },
     "execution_count": 24,
     "metadata": {},
     "output_type": "execute_result"
    }
   ],
   "source": [
    "model.coef_"
   ]
  },
  {
   "cell_type": "code",
   "execution_count": 25,
   "metadata": {},
   "outputs": [
    {
     "ename": "NameError",
     "evalue": "name 'mode' is not defined",
     "output_type": "error",
     "traceback": [
      "\u001b[0;31m---------------------------------------------------------------------------\u001b[0m",
      "\u001b[0;31mNameError\u001b[0m                                 Traceback (most recent call last)",
      "\u001b[0;32m<ipython-input-25-ed150650dfcc>\u001b[0m in \u001b[0;36m<module>\u001b[0;34m()\u001b[0m\n\u001b[0;32m----> 1\u001b[0;31m \u001b[0mmode\u001b[0m\u001b[0;34m.\u001b[0m\u001b[0mintercept_\u001b[0m\u001b[0;34m\u001b[0m\u001b[0m\n\u001b[0m",
      "\u001b[0;31mNameError\u001b[0m: name 'mode' is not defined"
     ]
    }
   ],
   "source": [
    "mode.intercept_"
   ]
  },
  {
   "cell_type": "code",
   "execution_count": 26,
   "metadata": {},
   "outputs": [
    {
     "data": {
      "text/plain": [
       "134.79948383749925"
      ]
     },
     "execution_count": 26,
     "metadata": {},
     "output_type": "execute_result"
    }
   ],
   "source": [
    "model.intercept_"
   ]
  },
  {
   "cell_type": "code",
   "execution_count": 27,
   "metadata": {},
   "outputs": [
    {
     "data": {
      "text/plain": [
       "<bound method RegressorMixin.score of LinearRegression(copy_X=True, fit_intercept=True, n_jobs=1, normalize=False)>"
      ]
     },
     "execution_count": 27,
     "metadata": {},
     "output_type": "execute_result"
    }
   ],
   "source": [
    "model.score"
   ]
  },
  {
   "cell_type": "code",
   "execution_count": 28,
   "metadata": {},
   "outputs": [
    {
     "data": {
      "text/plain": [
       "0.42946028151941368"
      ]
     },
     "execution_count": 28,
     "metadata": {},
     "output_type": "execute_result"
    }
   ],
   "source": [
    "model.score(X_train,y_train)"
   ]
  },
  {
   "cell_type": "code",
   "execution_count": null,
   "metadata": {
    "collapsed": true
   },
   "outputs": [],
   "source": []
  }
 ],
 "metadata": {
  "kernelspec": {
   "display_name": "Python 3",
   "language": "python",
   "name": "python3"
  },
  "language_info": {
   "codemirror_mode": {
    "name": "ipython",
    "version": 3
   },
   "file_extension": ".py",
   "mimetype": "text/x-python",
   "name": "python",
   "nbconvert_exporter": "python",
   "pygments_lexer": "ipython3",
   "version": "3.6.3"
  }
 },
 "nbformat": 4,
 "nbformat_minor": 2
}
