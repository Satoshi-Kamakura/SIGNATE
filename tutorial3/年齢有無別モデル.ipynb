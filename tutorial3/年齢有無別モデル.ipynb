{
 "cells": [
  {
   "cell_type": "code",
   "execution_count": 103,
   "metadata": {
    "collapsed": true
   },
   "outputs": [],
   "source": [
    "import pandas as pd\n",
    "import numpy as np\n",
    "import matplotlib.pyplot as plt\n",
    "from sklearn.linear_model import LogisticRegression\n",
    "train = pd.read_csv(\"data/train.tsv\",delimiter=\"\\t\")"
   ]
  },
  {
   "cell_type": "code",
   "execution_count": 104,
   "metadata": {
    "collapsed": true
   },
   "outputs": [],
   "source": [
    "without_age_train=train[np.isnan(train['age'])==True]\n",
    "with_age_train=train[np.isnan(train['age'])==False]\n",
    "with_age_y = with_age_train['survived']\n",
    "without_age_y = without_age_train['survived']"
   ]
  },
  {
   "cell_type": "code",
   "execution_count": 105,
   "metadata": {},
   "outputs": [
    {
     "name": "stderr",
     "output_type": "stream",
     "text": [
      "/anaconda3/lib/python3.6/site-packages/ipykernel_launcher.py:1: SettingWithCopyWarning: \n",
      "A value is trying to be set on a copy of a slice from a DataFrame.\n",
      "Try using .loc[row_indexer,col_indexer] = value instead\n",
      "\n",
      "See the caveats in the documentation: http://pandas.pydata.org/pandas-docs/stable/indexing.html#indexing-view-versus-copy\n",
      "  \"\"\"Entry point for launching an IPython kernel.\n"
     ]
    }
   ],
   "source": [
    "with_age_train['embarked']=with_age_train['embarked'].fillna('S')"
   ]
  },
  {
   "cell_type": "code",
   "execution_count": 107,
   "metadata": {
    "collapsed": true
   },
   "outputs": [],
   "source": [
    "w = with_age_train\n",
    "with_age_train=pd.concat([w[['pclass','age','sibsp','parch','fare']], pd.get_dummies(w['sex']),pd.get_dummies(w['embarked'])],axis=1)"
   ]
  },
  {
   "cell_type": "code",
   "execution_count": 108,
   "metadata": {
    "collapsed": true
   },
   "outputs": [],
   "source": [
    "w = without_age_train\n",
    "without_age_train=pd.concat([w[['pclass','sibsp','parch','fare']], pd.get_dummies(w['sex']),pd.get_dummies(w['embarked'])],axis=1)"
   ]
  },
  {
   "cell_type": "code",
   "execution_count": 109,
   "metadata": {},
   "outputs": [
    {
     "data": {
      "text/plain": [
       "LogisticRegression(C=1.0, class_weight=None, dual=False, fit_intercept=True,\n",
       "          intercept_scaling=1, max_iter=100, multi_class='ovr', n_jobs=1,\n",
       "          penalty='l2', random_state=None, solver='liblinear', tol=0.0001,\n",
       "          verbose=0, warm_start=False)"
      ]
     },
     "execution_count": 109,
     "metadata": {},
     "output_type": "execute_result"
    }
   ],
   "source": [
    "from sklearn.linear_model import LogisticRegression\n",
    "with_age_model=LogisticRegression()\n",
    "without_age_model=LogisticRegression()\n",
    "with_age_model.fit(with_age_train, with_age_y)\n",
    "without_age_model.fit(without_age_train,without_age_y)"
   ]
  },
  {
   "cell_type": "code",
   "execution_count": 110,
   "metadata": {},
   "outputs": [],
   "source": [
    "test = pd.read_csv(\"data/test.tsv\",delimiter='\\t')\n",
    "without_age_test_org=test[np.isnan(test['age'])==True]\n",
    "with_age_test_org=test[np.isnan(test['age'])==False]"
   ]
  },
  {
   "cell_type": "code",
   "execution_count": 111,
   "metadata": {},
   "outputs": [],
   "source": [
    "w=with_age_test_org[['pclass','age','sibsp','parch','fare']]\n",
    "with_age_id=with_age_test_org['id']\n",
    "dsex=pd.get_dummies(with_age_test_org['sex'])\n",
    "demb=pd.get_dummies(with_age_test_org['embarked'])\n",
    "with_age_test=pd.concat([w,dsex,demb],axis=1)"
   ]
  },
  {
   "cell_type": "code",
   "execution_count": 112,
   "metadata": {},
   "outputs": [],
   "source": [
    "w=without_age_test_org[['pclass','sibsp','parch','fare']]\n",
    "without_age_id=without_age_test_org['id']\n",
    "dsex=pd.get_dummies(without_age_test_org['sex'])\n",
    "demb=pd.get_dummies(without_age_test_org['embarked'])\n",
    "without_age_test=pd.concat([w,dsex,demb],axis=1)"
   ]
  },
  {
   "cell_type": "code",
   "execution_count": 113,
   "metadata": {
    "collapsed": true
   },
   "outputs": [],
   "source": [
    "with_age_r = with_age_model.predict(with_age_test)\n",
    "without_age_r = without_age_model.predict(without_age_test)"
   ]
  },
  {
   "cell_type": "code",
   "execution_count": 114,
   "metadata": {
    "collapsed": true
   },
   "outputs": [],
   "source": [
    "with_age_result = pd.concat([pd.DataFrame(with_age_test_org['id'].values,columns=['id']), pd.DataFrame(with_age_r,columns=['survived'])],axis=1)"
   ]
  },
  {
   "cell_type": "code",
   "execution_count": 115,
   "metadata": {},
   "outputs": [],
   "source": [
    "without_age_result = pd.concat([pd.DataFrame(without_age_test_org['id'].values,columns=['id']), pd.DataFrame(without_age_r,columns=['survived'])],axis=1)"
   ]
  },
  {
   "cell_type": "code",
   "execution_count": 116,
   "metadata": {
    "collapsed": true
   },
   "outputs": [],
   "source": [
    "result = pd.concat([with_age_result, without_age_result])"
   ]
  },
  {
   "cell_type": "code",
   "execution_count": 117,
   "metadata": {},
   "outputs": [],
   "source": [
    "sorted_result = result.sort_values(['id'])"
   ]
  },
  {
   "cell_type": "code",
   "execution_count": 118,
   "metadata": {
    "collapsed": true
   },
   "outputs": [],
   "source": [
    "sorted_result.to_csv(\"submit3-1.tsv\",sep='\\t',header=False,index=False)"
   ]
  },
  {
   "cell_type": "code",
   "execution_count": null,
   "metadata": {
    "collapsed": true
   },
   "outputs": [],
   "source": []
  },
  {
   "cell_type": "code",
   "execution_count": null,
   "metadata": {
    "collapsed": true
   },
   "outputs": [],
   "source": []
  }
 ],
 "metadata": {
  "kernelspec": {
   "display_name": "Python 3",
   "language": "python",
   "name": "python3"
  },
  "language_info": {
   "codemirror_mode": {
    "name": "ipython",
    "version": 3
   },
   "file_extension": ".py",
   "mimetype": "text/x-python",
   "name": "python",
   "nbconvert_exporter": "python",
   "pygments_lexer": "ipython3",
   "version": "3.6.3"
  }
 },
 "nbformat": 4,
 "nbformat_minor": 2
}
