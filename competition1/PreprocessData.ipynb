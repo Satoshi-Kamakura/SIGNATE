{
 "cells": [
  {
   "cell_type": "markdown",
   "metadata": {},
   "source": [
    "## 前処理用のコード"
   ]
  },
  {
   "cell_type": "markdown",
   "metadata": {},
   "source": [
    "- jukyoは使わない\n",
    "- 地積の公募値と実測値が異なるかを示すフラグを入れる\n",
    "- 用途が二つある場合があるので、建ぺい率の大きい方を採用し、yoto, kempei, yosekiの各列にする。"
   ]
  },
  {
   "cell_type": "code",
   "execution_count": 54,
   "metadata": {
    "collapsed": true
   },
   "outputs": [],
   "source": [
    "import numpy as np\n",
    "import pandas as pd\n",
    "import math"
   ]
  },
  {
   "cell_type": "code",
   "execution_count": 55,
   "metadata": {},
   "outputs": [],
   "source": [
    "train_genba = pd.read_csv(\"data/train_genba.tsv\",sep='\\t')"
   ]
  },
  {
   "cell_type": "code",
   "execution_count": 56,
   "metadata": {},
   "outputs": [],
   "source": [
    "genba = preprocess(train_genba)"
   ]
  },
  {
   "cell_type": "code",
   "execution_count": 57,
   "metadata": {},
   "outputs": [],
   "source": [
    "genba.to_csv('data/processed_train_genba.csv')"
   ]
  },
  {
   "cell_type": "code",
   "execution_count": 52,
   "metadata": {},
   "outputs": [],
   "source": [
    "def preprocess(genba):\n",
    "    df = genba.copy()\n",
    "    \n",
    "    # j# TODO: jukyoを削除\n",
    "    # df = df.drop('jukyo',axis=1)\n",
    "    \n",
    "    # 地積の公募値と実測値の差を特徴量に追加\n",
    "    df['chiseki_diff'] = df['chiseki_kb_hb']-df['chiseki_js_hb']\n",
    "    \n",
    "    # 二つの用途から、一つの用途、建ぺい率、容積率を返却する\n",
    "    df[['yoto','kempei','yoseki']] = df.apply(select_yoto, axis=1)\n",
    "    \n",
    "    # 上水種別を数値化\n",
    "    df['josui'] = df.apply(lambda x: 1 if x['josui']=='公営' else 0, axis=1)\n",
    "    \n",
    "    # 下水種別を数値化\n",
    "    df['gesui'] = df.apply(lambda x: 1 if x['gesui']=='公共下水' else 0, axis=1)\n",
    "    \n",
    "    # ガス種別を数値化\n",
    "    df['gas'] = df.apply(lambda x: 2 if x['gas'] =='都市ガス' else 1 if x['gas'] == '集中プロパン' else 0, axis=1)\n",
    "    \n",
    "    # 雨水（usui）をダミー変数化\n",
    "    # TODO: usuiを削除\n",
    "    df = pd.merge(df, pd.get_dummies(df[['usui']],drop_first = False), left_index = True, right_index = True)\n",
    "    \n",
    "    # 欠損値処理\n",
    "    # 建て売り数 0で補完（trainデータのID:726は、一件だけの販売なので、他の建て売り数は０で正しい\n",
    "    df = df.fillna({'tateuri_su': 0, 'tochiuri_su':0 , 'joken_su':0 })\n",
    "    \n",
    "    # 同現場での階数ごとの販売数は、gotoデータとつきあわせると正確に出そうだが、とりあえず０で補完する。\n",
    "    df = df.fillna({'hy1f_date_su':0, 'hy2f_date_su':0, 'hy3f_date_su':0})\n",
    "    \n",
    "    # 道路\n",
    "    # 扱いが難しい。road1〜road4まであるが、road1だけのものもあれば、road1〜4まで４つあるものまで。\n",
    "    # とりあえず、road1だけを採用し、接する道路数を表す項目を追加することにする。\n",
    "    # Future TODO\n",
    "    # road2〜road4のデータの採用のしかた\n",
    "    \n",
    "     # road1\n",
    "    # road1_hkとroad1_sbをダミー変数化する。\n",
    "    # road2〜road4の有無で、道路数を表すroad_numを作る\n",
    "    # TODO: road2〜road4を削除\n",
    "    df = pd.merge(df, pd.get_dummies(df[['road1_hk','road1_sb']],drop_first = False), left_index = True, right_index = True)\n",
    "    df['road_num']=df.apply(lambda x: 4 if x['road4_fi']!=0 else 3 if x['road3_fi']!=0 else 2 if x['road2_fi']!=0 else 1, axis=1)\n",
    "    \n",
    "    #kaoku_umとyheki_umuを0と1で置き換え\n",
    "    df['kaoku_um']=df.apply(lambda x: 0 if x['kaoku_um']==\"（無）\" else 1, axis=1)\n",
    "    df['yheki_umu']=df.apply(lambda x: 0 if x['yheki_umu']==\"（無）\" else 1, axis=1)\n",
    "    \n",
    "    #yheki_yohiを0と1で置き換え\n",
    "    df['yheki_yohi']=df.apply(lambda x: 0 if x['yheki_yohi']==\"（不要）\" else 1, axis=1)\n",
    "    \n",
    "    #kborjsを0と1で置き換え。\"公募\"に変換ミスがあって、３通りあるため、「実測」で値を決める\n",
    "    df['kborjs']=df.apply(lambda x: 0 if x['kborjs']=='実測' else 1, axis=1)\n",
    "    \n",
    "    # 引渡の状態 hw_status\n",
    "    # 善し悪しを表しそうなので数値化したいが、とりあえずはダミー変数化する。\n",
    "    # TODO: hw_statusを削除\n",
    "    df = pd.merge(df, pd.get_dummies(df[['hw_status']],drop_first = False), left_index = True, right_index = True)\n",
    "    \n",
    "    #都市計画区域別 toshikuiki1とtoshikuiki２　toshikuiki2があればそちらを採用する。\n",
    "    #一度toshikuiki2がカラの場合にtoshikuiki(新設)に特殊な値を入れて比較しないとうまくいかない。他に方法がありそうだが\n",
    "    # TODO: toshikuiki1,toshikuiki2,toshikuikiを削除\n",
    "    df['toshikuiki']=df['toshikuiki2'].fillna('empty')\n",
    "    df['toshikuiki'] = df.apply(lambda x: x['toshikuiki1'] if x['toshikuiki']==\"empty\" else x['toshikuiki2'], axis=1)\n",
    "    df = pd.merge(df, pd.get_dummies(df[['toshikuiki']],drop_first = False), left_index = True, right_index = True)\n",
    "    \n",
    "    # 高度地区(kodochiku) ダミー変数化する\n",
    "    df = pd.merge(df, pd.get_dummies(df[['kodochiku']],drop_first = False), left_index = True, right_index = True)\n",
    "    \n",
    "    # chikukeikaku, keikakuroad, kaihatsukyoka, t53kyoka, hokakyokaを0,1に変換\n",
    "    df['chikukeikaku']=df.apply(lambda x: 0 if x['chikukeikaku']==\"（無）\" else 1, axis=1)\n",
    "    df['keikakuroad']=df.apply(lambda x: 0 if x['keikakuroad']==\"（無）\" else 1, axis=1)\n",
    "    df['kaihatsukyoka']=df.apply(lambda x: 0 if x['kaihatsukyoka']==\"（不要）\" else 1, axis=1)\n",
    "    df['t53kyoka']=df.apply(lambda x: 0 if x['t53kyoka']==\"（不要）\" else 1, axis=1)\n",
    "    df['hokakyoka']=df.apply(lambda x: 0 if x['hokakyoka']==\"（不要）\" else 1, axis=1)\n",
    "    \n",
    "    # 防火地区をダミー変数化\n",
    "    df = pd.merge(df, pd.get_dummies(df[['bokachiiki']],drop_first = False), left_index = True, right_index = True)\n",
    "    \n",
    "    # 最低敷地面積(minmenseki) 欠損がある。ゼロで補完する\n",
    "    df['minmenseki'] = df['minmenseki'].fillna(0)\n",
    "    \n",
    "    # kinshijikoを0,1に変換\n",
    "    df['kinshijiko']=df.apply(lambda x: 0 if x['kinshijiko']==\"（無）\" else 1, axis=1)\n",
    "    \n",
    "    # 路線価格(rosenka_hb)  ... 欠損が多いが、価格に相関ありそう。下手に補完するとまずいかもしれないので、この項目を落とす\n",
    "    # Future TODO : まともな補完手段を考える\n",
    "    df = df.drop('rosenka_hb',axis=1)\n",
    "\n",
    "    \n",
    "    return df"
   ]
  },
  {
   "cell_type": "markdown",
   "metadata": {},
   "source": [
    "### 様々な関数"
   ]
  },
  {
   "cell_type": "markdown",
   "metadata": {},
   "source": [
    "#### data_definition.txtによると、用途２がある場合には用途２を使う、とあった。\n",
    "#### 当初は、建ぺい率の大きい方のyotoを採用し、yoto, kempei, yosekiからなるSeriesを返却する　とした。"
   ]
  },
  {
   "cell_type": "code",
   "execution_count": 25,
   "metadata": {},
   "outputs": [],
   "source": [
    "def select_yoto(x):\n",
    "    if ( x['yoto2']==np.nan):\n",
    "        yoto =x['yoto1']\n",
    "        kenpei =x['kempek1']\n",
    "        yoseki =x['yoseki1']\n",
    "    else:\n",
    "        yoto =x['yoto2']\n",
    "        kempei = x['kempei2']\n",
    "        yoseki =x['yoseki2']    \n",
    "    \"\"\"\"\n",
    "    if ( x['yoto2']==np.nan):\n",
    "        yoto =x['yoto1']\n",
    "        kenpei =x['kempek1']\n",
    "        yoseki =x['yoseki1']\n",
    "    elif ( x['kempei1']<x['kempei2']):\n",
    "        yoto =x['yoto1']\n",
    "        kempei = x['kempei1']\n",
    "        yoseki =x['yoseki1']\n",
    "    else:\n",
    "        yoto = x['yoto']=x['yoto1']\n",
    "        kempei = x['kempei']=x['kempei1']\n",
    "        yoseki =x['yoseki1']\n",
    "    \"\"\"\n",
    "    return pd.Series([yoto, kempei, yoseki])"
   ]
  }
 ],
 "metadata": {
  "kernelspec": {
   "display_name": "Python 3",
   "language": "python",
   "name": "python3"
  },
  "language_info": {
   "codemirror_mode": {
    "name": "ipython",
    "version": 3
   },
   "file_extension": ".py",
   "mimetype": "text/x-python",
   "name": "python",
   "nbconvert_exporter": "python",
   "pygments_lexer": "ipython3",
   "version": "3.6.3"
  }
 },
 "nbformat": 4,
 "nbformat_minor": 2
}
