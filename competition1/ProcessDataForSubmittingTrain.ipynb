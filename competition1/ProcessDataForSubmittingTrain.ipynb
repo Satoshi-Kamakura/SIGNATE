{
 "cells": [
  {
   "cell_type": "markdown",
   "metadata": {},
   "source": [
    "## 前処理したデータをSageMaker用とローカル用とに作り分ける"
   ]
  },
  {
   "cell_type": "markdown",
   "metadata": {},
   "source": [
    "### SageMakerの処理\n",
    "#### 前提：教師データ：学習用\n",
    "- 目的変数　Y_train.csvにある\n",
    "- 説明変数　X_train.csvにある\n",
    "\n",
    "#### 前提：教師データ：検証用\n",
    "- 目的変数　Y_eval.csv\n",
    "- 説明変数　X_eval.csv\n",
    "\n",
    "- データはノートブックから直接read_csvできるところにある。\n",
    "- 教師データは、一列目が目的変数である必要がある。ロジックでこのデータを組み立てること"
   ]
  },
  {
   "cell_type": "code",
   "execution_count": null,
   "metadata": {},
   "outputs": [],
   "source": []
  }
 ],
 "metadata": {
  "kernelspec": {
   "display_name": "Python 3",
   "language": "python",
   "name": "python3"
  },
  "language_info": {
   "codemirror_mode": {
    "name": "ipython",
    "version": 3
   },
   "file_extension": ".py",
   "mimetype": "text/x-python",
   "name": "python",
   "nbconvert_exporter": "python",
   "pygments_lexer": "ipython3",
   "version": "3.7.3"
  }
 },
 "nbformat": 4,
 "nbformat_minor": 2
}
