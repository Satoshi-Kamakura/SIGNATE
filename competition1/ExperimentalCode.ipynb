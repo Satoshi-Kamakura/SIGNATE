{
 "cells": [
  {
   "cell_type": "markdown",
   "metadata": {},
   "source": [
    "## ここはいろいろ実験的なコードを書くところとする。"
   ]
  },
  {
   "cell_type": "code",
   "execution_count": 1,
   "metadata": {},
   "outputs": [],
   "source": [
    "import numpy as np\n",
    "import pandas as pd\n",
    "train_genba = pd.read_csv(\"data/train_genba.tsv\",sep='\\t')\n",
    "train_goto = pd.read_csv(\"data/train_goto.tsv\",sep='\\t')\n",
    "prod_goto = pd.read_csv(\"data/processed_train_goto.csv\")"
   ]
  },
  {
   "cell_type": "code",
   "execution_count": 22,
   "metadata": {},
   "outputs": [],
   "source": [
    "import pandas as pd\n",
    "import numpy as np\n",
    "from sklearn.ensemble import RandomForestRegressor\n",
    "x_train = pd.read_csv('data/processed_train_goto.csv')\n",
    "Y_train = pd.DataFrame(x_train['tc_tanka'])\n",
    "X_train = x_train.drop(['id','pj_no','tc_tanka'],axis=1)"
   ]
  },
  {
   "cell_type": "code",
   "execution_count": 23,
   "metadata": {},
   "outputs": [
    {
     "name": "stderr",
     "output_type": "stream",
     "text": [
      "C:\\Users\\satos\\Anaconda3\\lib\\site-packages\\sklearn\\ensemble\\forest.py:246: FutureWarning: The default value of n_estimators will change from 10 in version 0.20 to 100 in 0.22.\n",
      "  \"10 in version 0.20 to 100 in 0.22.\", FutureWarning)\n"
     ]
    },
    {
     "data": {
      "text/plain": [
       "RandomForestRegressor(bootstrap=True, criterion='mse', max_depth=None,\n",
       "           max_features='auto', max_leaf_nodes=None,\n",
       "           min_impurity_decrease=0.0, min_impurity_split=None,\n",
       "           min_samples_leaf=1, min_samples_split=2,\n",
       "           min_weight_fraction_leaf=0.0, n_estimators=10, n_jobs=None,\n",
       "           oob_score=False, random_state=None, verbose=0, warm_start=False)"
      ]
     },
     "execution_count": 23,
     "metadata": {},
     "output_type": "execute_result"
    }
   ],
   "source": [
    "model = RandomForestRegressor()\n",
    "model.fit(X_train.values, Y_train.values.ravel())"
   ]
  },
  {
   "cell_type": "code",
   "execution_count": 24,
   "metadata": {},
   "outputs": [
    {
     "name": "stdout",
     "output_type": "stream",
     "text": [
      "Index(['tc_mseki', 'tt_mseki', 'fukuin', 'road_st', 'magutchi', 'niwasaki',\n",
      "       'garage', 'chiseki_js_hb', 'chiseki_kb_hb', 'josui',\n",
      "       ...\n",
      "       'setsudo_kj_悪い', 'setsudo_kj_普通', 'setsudo_kj_良い', 'jigata_不整形地',\n",
      "       'jigata_整形地', 'jigata_敷地延長', 'jigata_間口狭・奥行長', 'hiatari_悪い',\n",
      "       'hiatari_普通', 'hiatari_良い'],\n",
      "      dtype='object', length=212)\n"
     ]
    }
   ],
   "source": [
    "print(X_train.columns)"
   ]
  },
  {
   "cell_type": "code",
   "execution_count": 35,
   "metadata": {},
   "outputs": [],
   "source": [
    "importance = pd.DataFrame(model.feature_importances_.reshape(1,len(model.feature_importances_)), columns=X_train.columns)"
   ]
  },
  {
   "cell_type": "code",
   "execution_count": 36,
   "metadata": {},
   "outputs": [],
   "source": [
    "importance.to_csv(\"data/importance1.csv\")"
   ]
  },
  {
   "cell_type": "code",
   "execution_count": 38,
   "metadata": {},
   "outputs": [],
   "source": [
    "importance = pd.DataFrame(model.feature_importances_, index=X_train.columns)"
   ]
  },
  {
   "cell_type": "code",
   "execution_count": 39,
   "metadata": {},
   "outputs": [],
   "source": [
    "importance.to_csv(\"data/importance2.csv\")"
   ]
  },
  {
   "cell_type": "code",
   "execution_count": null,
   "metadata": {},
   "outputs": [],
   "source": []
  },
  {
   "cell_type": "markdown",
   "metadata": {},
   "source": [
    "#### 複数項目からダミー変数を作成する"
   ]
  },
  {
   "cell_type": "code",
   "execution_count": 20,
   "metadata": {},
   "outputs": [],
   "source": [
    "import math"
   ]
  },
  {
   "cell_type": "code",
   "execution_count": 48,
   "metadata": {},
   "outputs": [
    {
     "data": {
      "text/html": [
       "<div>\n",
       "<style scoped>\n",
       "    .dataframe tbody tr th:only-of-type {\n",
       "        vertical-align: middle;\n",
       "    }\n",
       "\n",
       "    .dataframe tbody tr th {\n",
       "        vertical-align: top;\n",
       "    }\n",
       "\n",
       "    .dataframe thead th {\n",
       "        text-align: right;\n",
       "    }\n",
       "</style>\n",
       "<table border=\"1\" class=\"dataframe\">\n",
       "  <thead>\n",
       "    <tr style=\"text-align: right;\">\n",
       "      <th></th>\n",
       "      <th>東日本大震災復興特別区域法</th>\n",
       "      <th>特定空港周辺特別措置法</th>\n",
       "      <th>高さ最高限度有</th>\n",
       "      <th>河川法</th>\n",
       "      <th>農地法</th>\n",
       "      <th>公有地拡大推進法</th>\n",
       "      <th>農地法届出要</th>\n",
       "      <th>景観法</th>\n",
       "      <th>自然公園法</th>\n",
       "      <th>区画整理法</th>\n",
       "      <th>...</th>\n",
       "      <th>都市再生特別措置法</th>\n",
       "      <th>航空法</th>\n",
       "      <th>７６条申請</th>\n",
       "      <th>建築協定</th>\n",
       "      <th>東日本震災復興特</th>\n",
       "      <th>43条許可</th>\n",
       "      <th>風致地区</th>\n",
       "      <th>景観地区</th>\n",
       "      <th>公拡法</th>\n",
       "      <th>文化財保護法（埋蔵文化財）</th>\n",
       "    </tr>\n",
       "  </thead>\n",
       "  <tbody>\n",
       "    <tr>\n",
       "      <th>0</th>\n",
       "      <td>0</td>\n",
       "      <td>0</td>\n",
       "      <td>0</td>\n",
       "      <td>0</td>\n",
       "      <td>0</td>\n",
       "      <td>0</td>\n",
       "      <td>0</td>\n",
       "      <td>0</td>\n",
       "      <td>0</td>\n",
       "      <td>0</td>\n",
       "      <td>...</td>\n",
       "      <td>0</td>\n",
       "      <td>0</td>\n",
       "      <td>0</td>\n",
       "      <td>0</td>\n",
       "      <td>0</td>\n",
       "      <td>0</td>\n",
       "      <td>0</td>\n",
       "      <td>0</td>\n",
       "      <td>0</td>\n",
       "      <td>0</td>\n",
       "    </tr>\n",
       "    <tr>\n",
       "      <th>1</th>\n",
       "      <td>0</td>\n",
       "      <td>0</td>\n",
       "      <td>0</td>\n",
       "      <td>0</td>\n",
       "      <td>1</td>\n",
       "      <td>0</td>\n",
       "      <td>0</td>\n",
       "      <td>0</td>\n",
       "      <td>0</td>\n",
       "      <td>0</td>\n",
       "      <td>...</td>\n",
       "      <td>0</td>\n",
       "      <td>0</td>\n",
       "      <td>0</td>\n",
       "      <td>0</td>\n",
       "      <td>0</td>\n",
       "      <td>0</td>\n",
       "      <td>0</td>\n",
       "      <td>0</td>\n",
       "      <td>0</td>\n",
       "      <td>0</td>\n",
       "    </tr>\n",
       "    <tr>\n",
       "      <th>2</th>\n",
       "      <td>0</td>\n",
       "      <td>0</td>\n",
       "      <td>0</td>\n",
       "      <td>0</td>\n",
       "      <td>0</td>\n",
       "      <td>0</td>\n",
       "      <td>0</td>\n",
       "      <td>0</td>\n",
       "      <td>0</td>\n",
       "      <td>0</td>\n",
       "      <td>...</td>\n",
       "      <td>0</td>\n",
       "      <td>0</td>\n",
       "      <td>0</td>\n",
       "      <td>0</td>\n",
       "      <td>0</td>\n",
       "      <td>0</td>\n",
       "      <td>0</td>\n",
       "      <td>0</td>\n",
       "      <td>0</td>\n",
       "      <td>0</td>\n",
       "    </tr>\n",
       "    <tr>\n",
       "      <th>3</th>\n",
       "      <td>0</td>\n",
       "      <td>0</td>\n",
       "      <td>0</td>\n",
       "      <td>0</td>\n",
       "      <td>0</td>\n",
       "      <td>0</td>\n",
       "      <td>0</td>\n",
       "      <td>0</td>\n",
       "      <td>0</td>\n",
       "      <td>0</td>\n",
       "      <td>...</td>\n",
       "      <td>0</td>\n",
       "      <td>0</td>\n",
       "      <td>0</td>\n",
       "      <td>0</td>\n",
       "      <td>0</td>\n",
       "      <td>0</td>\n",
       "      <td>0</td>\n",
       "      <td>0</td>\n",
       "      <td>0</td>\n",
       "      <td>0</td>\n",
       "    </tr>\n",
       "    <tr>\n",
       "      <th>4</th>\n",
       "      <td>0</td>\n",
       "      <td>0</td>\n",
       "      <td>0</td>\n",
       "      <td>0</td>\n",
       "      <td>0</td>\n",
       "      <td>0</td>\n",
       "      <td>0</td>\n",
       "      <td>0</td>\n",
       "      <td>0</td>\n",
       "      <td>0</td>\n",
       "      <td>...</td>\n",
       "      <td>0</td>\n",
       "      <td>0</td>\n",
       "      <td>0</td>\n",
       "      <td>0</td>\n",
       "      <td>0</td>\n",
       "      <td>0</td>\n",
       "      <td>0</td>\n",
       "      <td>0</td>\n",
       "      <td>0</td>\n",
       "      <td>0</td>\n",
       "    </tr>\n",
       "  </tbody>\n",
       "</table>\n",
       "<p>5 rows × 28 columns</p>\n",
       "</div>"
      ],
      "text/plain": [
       "   東日本大震災復興特別区域法  特定空港周辺特別措置法  高さ最高限度有  河川法  農地法  公有地拡大推進法  農地法届出要  景観法  \\\n",
       "0              0            0        0    0    0         0       0    0   \n",
       "1              0            0        0    0    1         0       0    0   \n",
       "2              0            0        0    0    0         0       0    0   \n",
       "3              0            0        0    0    0         0       0    0   \n",
       "4              0            0        0    0    0         0       0    0   \n",
       "\n",
       "   自然公園法  区画整理法  ...  都市再生特別措置法  航空法  ７６条申請  建築協定  東日本震災復興特  43条許可  風致地区  \\\n",
       "0      0      0  ...          0    0      0     0         0      0     0   \n",
       "1      0      0  ...          0    0      0     0         0      0     0   \n",
       "2      0      0  ...          0    0      0     0         0      0     0   \n",
       "3      0      0  ...          0    0      0     0         0      0     0   \n",
       "4      0      0  ...          0    0      0     0         0      0     0   \n",
       "\n",
       "   景観地区  公拡法  文化財保護法（埋蔵文化財）  \n",
       "0     0    0              0  \n",
       "1     0    0              0  \n",
       "2     0    0              0  \n",
       "3     0    0              0  \n",
       "4     0    0              0  \n",
       "\n",
       "[5 rows x 28 columns]"
      ]
     },
     "execution_count": 48,
     "metadata": {},
     "output_type": "execute_result"
    }
   ],
   "source": [
    "cols = set()\n",
    "for i in range(len(train_genba)):\n",
    "    name = train_genba.at[i,'hokakisei1']\n",
    "    if ( type(name) != float):\n",
    "        cols.add(name)\n",
    "    name = train_genba.at[i,'hokakisei2']\n",
    "    if ( type(name) != float):\n",
    "        cols.add(name)\n",
    "    name = train_genba.at[i,'hokakisei3']\n",
    "    if ( type(name) != float):\n",
    "        cols.add(name)\n",
    "    name = train_genba.at[i,'hokakisei4']\n",
    "    if ( type(name) != float):\n",
    "        cols.add(name)\n",
    "\n",
    "kisei_dict = {}\n",
    "for x in cols:\n",
    "    kisei_dict[x] = np.zeros(len(train_genba),dtype=np.int)\n",
    "    \n",
    "for i in range(len(train_genba)):\n",
    "    name = train_genba.at[i,'hokakisei1']\n",
    "    if ( type(name) != float):\n",
    "        kisei = kisei_dict[name]\n",
    "        kisei[i]=1\n",
    "    name = train_genba.at[i,'hokakisei2']\n",
    "    if ( type(name) != float):\n",
    "        kisei = kisei_dict[name]\n",
    "        kisei[i]=1\n",
    "    name = train_genba.at[i,'hokakisei3']\n",
    "    if ( type(name) != float):\n",
    "        kisei = kisei_dict[name]\n",
    "        kisei[i]=1\n",
    "    name = train_genba.at[i,'hokakisei4']\n",
    "    if ( type(name) != float):\n",
    "        kisei = kisei_dict[name]\n",
    "        kisei[i]=1\n",
    "\n",
    "kisei_df = pd.DataFrame(kisei_dict)\n",
    "kisei_df.head()"
   ]
  },
  {
   "cell_type": "code",
   "execution_count": 50,
   "metadata": {},
   "outputs": [
    {
     "data": {
      "text/html": [
       "<div>\n",
       "<style scoped>\n",
       "    .dataframe tbody tr th:only-of-type {\n",
       "        vertical-align: middle;\n",
       "    }\n",
       "\n",
       "    .dataframe tbody tr th {\n",
       "        vertical-align: top;\n",
       "    }\n",
       "\n",
       "    .dataframe thead th {\n",
       "        text-align: right;\n",
       "    }\n",
       "</style>\n",
       "<table border=\"1\" class=\"dataframe\">\n",
       "  <thead>\n",
       "    <tr style=\"text-align: right;\">\n",
       "      <th></th>\n",
       "      <th>pj_no</th>\n",
       "      <th>jukyo</th>\n",
       "      <th>chiseki_js_hb</th>\n",
       "      <th>chiseki_kb_hb</th>\n",
       "      <th>yoto1</th>\n",
       "      <th>yoto2</th>\n",
       "      <th>kempei1</th>\n",
       "      <th>kempei2</th>\n",
       "      <th>yoseki1</th>\n",
       "      <th>yoseki2</th>\n",
       "      <th>...</th>\n",
       "      <th>bas_toho1</th>\n",
       "      <th>eki_kyori1</th>\n",
       "      <th>bastei_nm1</th>\n",
       "      <th>teiho1</th>\n",
       "      <th>rosen_nm2</th>\n",
       "      <th>eki_nm2</th>\n",
       "      <th>bas_toho2</th>\n",
       "      <th>eki_kyori2</th>\n",
       "      <th>bastei_nm2</th>\n",
       "      <th>teiho2</th>\n",
       "    </tr>\n",
       "  </thead>\n",
       "  <tbody>\n",
       "    <tr>\n",
       "      <th>2776</th>\n",
       "      <td>2776</td>\n",
       "      <td>埼玉県越谷市大字下間久里</td>\n",
       "      <td>110.22</td>\n",
       "      <td>109.94</td>\n",
       "      <td>第一種中高層住居専用地域</td>\n",
       "      <td>NaN</td>\n",
       "      <td>60</td>\n",
       "      <td>0.0</td>\n",
       "      <td>200</td>\n",
       "      <td>0.0</td>\n",
       "      <td>...</td>\n",
       "      <td>徒歩</td>\n",
       "      <td>21</td>\n",
       "      <td>NaN</td>\n",
       "      <td>NaN</td>\n",
       "      <td>NaN</td>\n",
       "      <td>NaN</td>\n",
       "      <td>NaN</td>\n",
       "      <td>NaN</td>\n",
       "      <td>NaN</td>\n",
       "      <td>NaN</td>\n",
       "    </tr>\n",
       "    <tr>\n",
       "      <th>2777</th>\n",
       "      <td>2777</td>\n",
       "      <td>埼玉県さいたま市岩槻区加倉</td>\n",
       "      <td>418.26</td>\n",
       "      <td>418.26</td>\n",
       "      <td>第一種低層住居専用地域</td>\n",
       "      <td>NaN</td>\n",
       "      <td>50</td>\n",
       "      <td>0.0</td>\n",
       "      <td>80</td>\n",
       "      <td>0.0</td>\n",
       "      <td>...</td>\n",
       "      <td>徒歩</td>\n",
       "      <td>12</td>\n",
       "      <td>NaN</td>\n",
       "      <td>NaN</td>\n",
       "      <td>NaN</td>\n",
       "      <td>NaN</td>\n",
       "      <td>NaN</td>\n",
       "      <td>NaN</td>\n",
       "      <td>NaN</td>\n",
       "      <td>NaN</td>\n",
       "    </tr>\n",
       "    <tr>\n",
       "      <th>2778</th>\n",
       "      <td>2778</td>\n",
       "      <td>埼玉県久喜市栗橋中央</td>\n",
       "      <td>429.40</td>\n",
       "      <td>429.40</td>\n",
       "      <td>第一種住居地域</td>\n",
       "      <td>NaN</td>\n",
       "      <td>60</td>\n",
       "      <td>0.0</td>\n",
       "      <td>200</td>\n",
       "      <td>0.0</td>\n",
       "      <td>...</td>\n",
       "      <td>徒歩</td>\n",
       "      <td>8</td>\n",
       "      <td>NaN</td>\n",
       "      <td>NaN</td>\n",
       "      <td>東武日光線</td>\n",
       "      <td>栗橋</td>\n",
       "      <td>徒歩</td>\n",
       "      <td>8.0</td>\n",
       "      <td>NaN</td>\n",
       "      <td>NaN</td>\n",
       "    </tr>\n",
       "    <tr>\n",
       "      <th>2779</th>\n",
       "      <td>2779</td>\n",
       "      <td>埼玉県鴻巣市北新宿</td>\n",
       "      <td>917.32</td>\n",
       "      <td>917.32</td>\n",
       "      <td>第一種中高層住居専用地域</td>\n",
       "      <td>NaN</td>\n",
       "      <td>60</td>\n",
       "      <td>0.0</td>\n",
       "      <td>150</td>\n",
       "      <td>0.0</td>\n",
       "      <td>...</td>\n",
       "      <td>徒歩</td>\n",
       "      <td>14</td>\n",
       "      <td>NaN</td>\n",
       "      <td>NaN</td>\n",
       "      <td>NaN</td>\n",
       "      <td>NaN</td>\n",
       "      <td>NaN</td>\n",
       "      <td>NaN</td>\n",
       "      <td>NaN</td>\n",
       "      <td>NaN</td>\n",
       "    </tr>\n",
       "    <tr>\n",
       "      <th>2780</th>\n",
       "      <td>2780</td>\n",
       "      <td>埼玉県川口市領家</td>\n",
       "      <td>617.38</td>\n",
       "      <td>616.71</td>\n",
       "      <td>準工業地域</td>\n",
       "      <td>NaN</td>\n",
       "      <td>60</td>\n",
       "      <td>0.0</td>\n",
       "      <td>200</td>\n",
       "      <td>0.0</td>\n",
       "      <td>...</td>\n",
       "      <td>バス</td>\n",
       "      <td>18</td>\n",
       "      <td>NaN</td>\n",
       "      <td>2.0</td>\n",
       "      <td>NaN</td>\n",
       "      <td>NaN</td>\n",
       "      <td>NaN</td>\n",
       "      <td>NaN</td>\n",
       "      <td>NaN</td>\n",
       "      <td>NaN</td>\n",
       "    </tr>\n",
       "  </tbody>\n",
       "</table>\n",
       "<p>5 rows × 140 columns</p>\n",
       "</div>"
      ],
      "text/plain": [
       "      pj_no          jukyo  chiseki_js_hb  chiseki_kb_hb         yoto1 yoto2  \\\n",
       "2776   2776   埼玉県越谷市大字下間久里         110.22         109.94  第一種中高層住居専用地域   NaN   \n",
       "2777   2777  埼玉県さいたま市岩槻区加倉         418.26         418.26   第一種低層住居専用地域   NaN   \n",
       "2778   2778     埼玉県久喜市栗橋中央         429.40         429.40       第一種住居地域   NaN   \n",
       "2779   2779      埼玉県鴻巣市北新宿         917.32         917.32  第一種中高層住居専用地域   NaN   \n",
       "2780   2780       埼玉県川口市領家         617.38         616.71         準工業地域   NaN   \n",
       "\n",
       "      kempei1  kempei2  yoseki1  yoseki2  ... bas_toho1 eki_kyori1 bastei_nm1  \\\n",
       "2776       60      0.0      200      0.0  ...        徒歩         21        NaN   \n",
       "2777       50      0.0       80      0.0  ...        徒歩         12        NaN   \n",
       "2778       60      0.0      200      0.0  ...        徒歩          8        NaN   \n",
       "2779       60      0.0      150      0.0  ...        徒歩         14        NaN   \n",
       "2780       60      0.0      200      0.0  ...        バス         18        NaN   \n",
       "\n",
       "     teiho1  rosen_nm2  eki_nm2  bas_toho2  eki_kyori2  bastei_nm2  teiho2  \n",
       "2776    NaN        NaN      NaN        NaN         NaN         NaN     NaN  \n",
       "2777    NaN        NaN      NaN        NaN         NaN         NaN     NaN  \n",
       "2778    NaN      東武日光線       栗橋         徒歩         8.0         NaN     NaN  \n",
       "2779    NaN        NaN      NaN        NaN         NaN         NaN     NaN  \n",
       "2780    2.0        NaN      NaN        NaN         NaN         NaN     NaN  \n",
       "\n",
       "[5 rows x 140 columns]"
      ]
     },
     "execution_count": 50,
     "metadata": {},
     "output_type": "execute_result"
    }
   ],
   "source": [
    " train_genba.tail()"
   ]
  },
  {
   "cell_type": "code",
   "execution_count": 53,
   "metadata": {},
   "outputs": [],
   "source": [
    "new_tgenba = pd.concat([train_genba, kisei_df], axis=1)"
   ]
  },
  {
   "cell_type": "code",
   "execution_count": 54,
   "metadata": {},
   "outputs": [],
   "source": [
    "new_tgenba.to_csv(\"data/temp.csv\")"
   ]
  },
  {
   "cell_type": "code",
   "execution_count": null,
   "metadata": {},
   "outputs": [],
   "source": []
  },
  {
   "cell_type": "markdown",
   "metadata": {},
   "source": [
    "##### 6/22の作業"
   ]
  },
  {
   "cell_type": "code",
   "execution_count": null,
   "metadata": {
    "collapsed": true
   },
   "outputs": [],
   "source": [
    "df = pd.DataFrame()\n",
    "df['pj']=prod_goto['pj_no']"
   ]
  },
  {
   "cell_type": "code",
   "execution_count": null,
   "metadata": {
    "collapsed": true
   },
   "outputs": [],
   "source": [
    "df['tc_mseki'] = prod_goto['tc_mseki']"
   ]
  },
  {
   "cell_type": "code",
   "execution_count": null,
   "metadata": {
    "collapsed": true
   },
   "outputs": [],
   "source": [
    "df[['tt_mseki', 'fukuin']]=prod_goto[['tt_mseki','fukuin']]"
   ]
  },
  {
   "cell_type": "markdown",
   "metadata": {},
   "source": [
    "ここからモデル作成と予測をするコードを書く"
   ]
  },
  {
   "cell_type": "code",
   "execution_count": 1,
   "metadata": {
    "collapsed": true
   },
   "outputs": [],
   "source": [
    "import pandas as pd\n",
    "import numpy as np\n",
    "import xgboost as xgb \n",
    "from xgboost import XGBClassifier "
   ]
  },
  {
   "cell_type": "code",
   "execution_count": 2,
   "metadata": {
    "collapsed": true
   },
   "outputs": [],
   "source": [
    "x_train = pd.read_csv('data/processed_train_goto.csv')\n",
    "Y_train = pd.DataFrame(x_train['tc_tanka'])"
   ]
  },
  {
   "cell_type": "code",
   "execution_count": 3,
   "metadata": {
    "collapsed": true
   },
   "outputs": [],
   "source": [
    "X_train = x_train.drop(['id','pj_no','tc_tanka'],axis=1)\n",
    "X_train = X_train.values\n",
    "Y_train = Y_train.values.ravel()"
   ]
  },
  {
   "cell_type": "code",
   "execution_count": null,
   "metadata": {},
   "outputs": [],
   "source": [
    "# XGBoostは時間かかりすぎ\n",
    "#  XGB = XGBClassifier(n_estimater=500,n_jobs=-1)\n",
    "# XGB.fit(X_train, Y_train)\n",
    "#\n",
    "# ⇒　RandomForestで重要度を見てから、不要な特徴量を落とすことにする\n",
    "#"
   ]
  },
  {
   "cell_type": "code",
   "execution_count": null,
   "metadata": {
    "collapsed": true
   },
   "outputs": [],
   "source": []
  },
  {
   "cell_type": "code",
   "execution_count": null,
   "metadata": {
    "collapsed": true
   },
   "outputs": [],
   "source": []
  },
  {
   "cell_type": "code",
   "execution_count": null,
   "metadata": {
    "collapsed": true
   },
   "outputs": [],
   "source": []
  },
  {
   "cell_type": "code",
   "execution_count": null,
   "metadata": {},
   "outputs": [],
   "source": [
    "df.head()"
   ]
  },
  {
   "cell_type": "code",
   "execution_count": null,
   "metadata": {
    "collapsed": true
   },
   "outputs": [],
   "source": []
  },
  {
   "cell_type": "markdown",
   "metadata": {},
   "source": [
    "#### 6/20の作業"
   ]
  },
  {
   "cell_type": "code",
   "execution_count": null,
   "metadata": {
    "collapsed": true
   },
   "outputs": [],
   "source": [
    "df = train_genba.copy()\n",
    "df['gk_yoc_tm'] = df['gk_yoc_tm'].fillna(df['gk_yoc_tm'].mean())"
   ]
  },
  {
   "cell_type": "code",
   "execution_count": null,
   "metadata": {
    "collapsed": true
   },
   "outputs": [],
   "source": []
  },
  {
   "cell_type": "code",
   "execution_count": null,
   "metadata": {
    "collapsed": true
   },
   "outputs": [],
   "source": [
    "pd.DataFrame(prod_goto.isnull().sum()).to_csv(\"data/null_check.csv\")"
   ]
  },
  {
   "cell_type": "code",
   "execution_count": null,
   "metadata": {
    "collapsed": true
   },
   "outputs": [],
   "source": [
    "import numpy as np\n",
    "import pandas as pd\n",
    "test_goto = pd.read_csv(\"data/processed_test_goto.csv\")\n",
    "pd.DataFrame(test_goto.isnull().sum()).to_csv(\"data/null_check_test.csv\")"
   ]
  },
  {
   "cell_type": "markdown",
   "metadata": {},
   "source": [
    "#### 確認の結果、次のカラムにNULLを含む\n",
    "#### chiseki_kb_hb,kaoku_hb, mseki_rd_hb, mseki_dp_hb, chiseki_diff"
   ]
  },
  {
   "cell_type": "code",
   "execution_count": null,
   "metadata": {
    "collapsed": true
   },
   "outputs": [],
   "source": [
    "    # 間口(magutchi)\n",
    "    # 幅員と同じように補完する。\n",
    "    df['magutchi'] = df['magutchi'].fillna(0)\n",
    "    for i in range(len(df)):\n",
    "        if ( df.at[i,'magutchi'] ==0 ) :\n",
    "            df.at[i,'magutchi'] = df.at[i,'road1_mg']    "
   ]
  },
  {
   "cell_type": "markdown",
   "metadata": {},
   "source": [
    "#### 6/18,19の作業"
   ]
  },
  {
   "cell_type": "code",
   "execution_count": null,
   "metadata": {
    "collapsed": true
   },
   "outputs": [],
   "source": [
    "df = train_goto.copy()"
   ]
  },
  {
   "cell_type": "code",
   "execution_count": null,
   "metadata": {
    "collapsed": true
   },
   "outputs": [],
   "source": [
    "genba = pd.read_csv(\"data/processed_train_genba.csv\")"
   ]
  },
  {
   "cell_type": "code",
   "execution_count": null,
   "metadata": {
    "collapsed": true
   },
   "outputs": [],
   "source": [
    "newdf=df.merge(genba, how=\"left\", on='pj_no')"
   ]
  },
  {
   "cell_type": "code",
   "execution_count": null,
   "metadata": {
    "collapsed": true
   },
   "outputs": [],
   "source": [
    "newdf.to_csv(\"data/joined_data.csv\")\n",
    "df = newdf"
   ]
  },
  {
   "cell_type": "code",
   "execution_count": null,
   "metadata": {
    "collapsed": true
   },
   "outputs": [],
   "source": [
    "df['fukuin'] = df['fukuin'].fillna(0)\n",
    "for i in range(len(df)):\n",
    "    if ( df.at[i,'fukuin'] ==0 ) :\n",
    "        df.at[i,'fukuin'] = df.at[i,'road1_fi']"
   ]
  },
  {
   "cell_type": "code",
   "execution_count": null,
   "metadata": {
    "collapsed": true
   },
   "outputs": [],
   "source": [
    "    df['magutchi'] = df['magutchi'].fillna(0)\n",
    "    for i in range(len(df)):\n",
    "        if ( df.at[i,'magutchi'] ==0 ) :\n",
    "            df.at[i,'magutchi'] = df.at[i,'road1_mg']    "
   ]
  },
  {
   "cell_type": "code",
   "execution_count": null,
   "metadata": {
    "collapsed": true
   },
   "outputs": [],
   "source": [
    "df['setsudo_hi' ] = df['setsudo_hi'].fillna('unknown')\n",
    "for i in range(len(df)):\n",
    "    if ( df.at[i,'setsudo_hi']=='unknown'):\n",
    "        df.at[i.'setsudo_hi']=df.at[i,'road1_hk']"
   ]
  },
  {
   "cell_type": "code",
   "execution_count": null,
   "metadata": {},
   "outputs": [],
   "source": [
    "df.head()"
   ]
  },
  {
   "cell_type": "code",
   "execution_count": null,
   "metadata": {},
   "outputs": [],
   "source": [
    "help(list.append)"
   ]
  },
  {
   "cell_type": "code",
   "execution_count": null,
   "metadata": {
    "collapsed": true
   },
   "outputs": [],
   "source": [
    "df = pd.read_csv('data/processed_train_goto.csv')"
   ]
  },
  {
   "cell_type": "code",
   "execution_count": null,
   "metadata": {},
   "outputs": [],
   "source": [
    "df.isnull().sum()"
   ]
  },
  {
   "cell_type": "code",
   "execution_count": null,
   "metadata": {
    "collapsed": true
   },
   "outputs": [],
   "source": []
  },
  {
   "cell_type": "code",
   "execution_count": null,
   "metadata": {
    "collapsed": true
   },
   "outputs": [],
   "source": []
  },
  {
   "cell_type": "code",
   "execution_count": null,
   "metadata": {},
   "outputs": [],
   "source": [
    "df.head()"
   ]
  },
  {
   "cell_type": "code",
   "execution_count": null,
   "metadata": {
    "collapsed": true
   },
   "outputs": [],
   "source": []
  },
  {
   "cell_type": "code",
   "execution_count": null,
   "metadata": {
    "collapsed": true
   },
   "outputs": [],
   "source": [
    "df.loc[146,'fukuin']"
   ]
  },
  {
   "cell_type": "code",
   "execution_count": null,
   "metadata": {
    "collapsed": true
   },
   "outputs": [],
   "source": [
    "df['fukuin'] = df['fukuin'].fillna(0)"
   ]
  },
  {
   "cell_type": "code",
   "execution_count": null,
   "metadata": {
    "collapsed": true
   },
   "outputs": [],
   "source": [
    "df['fukuin'].isnull().sum()"
   ]
  },
  {
   "cell_type": "code",
   "execution_count": null,
   "metadata": {
    "collapsed": true
   },
   "outputs": [],
   "source": []
  },
  {
   "cell_type": "code",
   "execution_count": null,
   "metadata": {
    "collapsed": true
   },
   "outputs": [],
   "source": []
  },
  {
   "cell_type": "code",
   "execution_count": null,
   "metadata": {
    "collapsed": true
   },
   "outputs": [],
   "source": []
  },
  {
   "cell_type": "markdown",
   "metadata": {},
   "source": [
    "#### いつのだかわからないコード"
   ]
  },
  {
   "cell_type": "code",
   "execution_count": null,
   "metadata": {
    "collapsed": true
   },
   "outputs": [],
   "source": [
    "df = train_genba.copy()"
   ]
  },
  {
   "cell_type": "code",
   "execution_count": null,
   "metadata": {
    "collapsed": true
   },
   "outputs": [],
   "source": [
    "df[['bus', 'walk']] = df.apply(calculateLogistics, axis=1)"
   ]
  },
  {
   "cell_type": "code",
   "execution_count": null,
   "metadata": {
    "collapsed": true
   },
   "outputs": [],
   "source": [
    "df.loc[0:20,['bas_toho1','eki_kyori1','teiho1','bus','walk']]"
   ]
  },
  {
   "cell_type": "code",
   "execution_count": null,
   "metadata": {
    "collapsed": true
   },
   "outputs": [],
   "source": []
  },
  {
   "cell_type": "markdown",
   "metadata": {},
   "source": [
    "#### 下記は6/16夜の作業"
   ]
  },
  {
   "cell_type": "code",
   "execution_count": null,
   "metadata": {
    "collapsed": true
   },
   "outputs": [],
   "source": [
    "def calculateLogistics(x):\n",
    "    if ( x['bas_toho1'] == 'バス' ):\n",
    "        bus = x['eki_kyori1']\n",
    "        walk = x['teiho1']\n",
    "    else:\n",
    "        bus = 0\n",
    "        walk = x['eki_kyori1']\n",
    "    \n",
    "    return pd.Series([bus, walk])\n",
    "    "
   ]
  },
  {
   "cell_type": "markdown",
   "metadata": {},
   "source": [
    "#### 下記は6/16の作業"
   ]
  },
  {
   "cell_type": "code",
   "execution_count": null,
   "metadata": {
    "collapsed": true
   },
   "outputs": [],
   "source": [
    "df[['yoto','kempei','yoseki']] = df.apply(select_yoto, axis=1)"
   ]
  },
  {
   "cell_type": "code",
   "execution_count": null,
   "metadata": {
    "collapsed": true
   },
   "outputs": [],
   "source": [
    "np.isnan(df.loc[0,'yoto2'])"
   ]
  },
  {
   "cell_type": "code",
   "execution_count": null,
   "metadata": {
    "collapsed": true
   },
   "outputs": [],
   "source": [
    "type(df.loc[26,'yoto2'])==str"
   ]
  },
  {
   "cell_type": "code",
   "execution_count": null,
   "metadata": {
    "collapsed": true
   },
   "outputs": [],
   "source": [
    "df.loc[20,'shu_soon']"
   ]
  },
  {
   "cell_type": "code",
   "execution_count": null,
   "metadata": {
    "collapsed": true
   },
   "outputs": [],
   "source": [
    "df['shu_soon'].map({'○':1, np.NaN:0})"
   ]
  },
  {
   "cell_type": "code",
   "execution_count": null,
   "metadata": {
    "collapsed": true
   },
   "outputs": [],
   "source": [
    "def select_yoto(x):\n",
    "    if ( type(x['yoto2']) == str ):\n",
    "        yoto =x['yoto2']\n",
    "        kempei = x['kempei2']\n",
    "        yoseki =x['yoseki2']\n",
    "    else:\n",
    "        yoto =x['yoto1']\n",
    "        kempei =x['kempei1']\n",
    "        yoseki =x['yoseki1']\n",
    "    \"\"\"\n",
    "    if ( np.isnan(x['yoto2'])):\n",
    "        yoto =x['yoto1']\n",
    "        kempei =x['kempei1']\n",
    "        yoseki =x['yoseki1']\n",
    "    else:\n",
    "        yoto =x['yoto2']\n",
    "        kempei = x['kempei2']\n",
    "        yoseki =x['yoseki2']\n",
    "    \"\"\"\n",
    "    \"\"\"\"\n",
    "    if ( x['yoto2']==np.nan):\n",
    "        yoto =x['yoto1']\n",
    "        kenpei =x['kempek1']\n",
    "        yoseki =x['yoseki1']\n",
    "    elif ( x['kempei1']<x['kempei2']):\n",
    "        yoto =x['yoto1']\n",
    "        kempei = x['kempei1']\n",
    "        yoseki =x['yoseki1']\n",
    "    else:\n",
    "        yoto = x['yoto']=x['yoto1']\n",
    "        kempei = x['kempei']=x['kempei1']\n",
    "        yoseki =x['yoseki1']\n",
    "    \"\"\"\n",
    "    return pd.Series([yoto, kempei, yoseki])\n"
   ]
  },
  {
   "cell_type": "markdown",
   "metadata": {},
   "source": [
    "#### 下記は6/15の作業"
   ]
  },
  {
   "cell_type": "code",
   "execution_count": null,
   "metadata": {
    "collapsed": true
   },
   "outputs": [],
   "source": [
    "df = df.drop('jukyo',axis=1)"
   ]
  },
  {
   "cell_type": "code",
   "execution_count": null,
   "metadata": {
    "collapsed": true
   },
   "outputs": [],
   "source": [
    "# df['yoto'], df['kempei'],df['yoseki']= df.apply(select_yoto,axis=1)\n",
    "df[['yoto','kempei','yoseki']] = df.apply(select_yoto,axis=1)"
   ]
  },
  {
   "cell_type": "code",
   "execution_count": null,
   "metadata": {
    "collapsed": true
   },
   "outputs": [],
   "source": [
    "df.head()"
   ]
  },
  {
   "cell_type": "code",
   "execution_count": null,
   "metadata": {
    "collapsed": true
   },
   "outputs": [],
   "source": [
    "org_df = df.copy()"
   ]
  },
  {
   "cell_type": "code",
   "execution_count": null,
   "metadata": {
    "collapsed": true
   },
   "outputs": [],
   "source": [
    "df['josui'] = df.apply(lambda x: 1 if x['josui']=='公営' else 0, axis=1)"
   ]
  },
  {
   "cell_type": "code",
   "execution_count": null,
   "metadata": {
    "collapsed": true
   },
   "outputs": [],
   "source": [
    "df['gesui'] = df.apply(lambda x: 1 if x['gesui']=='公共下水' else 0, axis=1)"
   ]
  },
  {
   "cell_type": "code",
   "execution_count": null,
   "metadata": {
    "collapsed": true
   },
   "outputs": [],
   "source": [
    "df['gas'] = df.apply(lambda x: 2 if x['gas'] =='都市ガス' else 1 if x['gas'] == '集中プロパン' else 0, axis=1)"
   ]
  },
  {
   "cell_type": "code",
   "execution_count": null,
   "metadata": {
    "collapsed": true
   },
   "outputs": [],
   "source": [
    "df['chiseki_diff'] = df['chiseki_kb_hb']-df['chiseki_js_hb']"
   ]
  },
  {
   "cell_type": "code",
   "execution_count": null,
   "metadata": {
    "collapsed": true
   },
   "outputs": [],
   "source": [
    "a = pd.get_dummies(df[['usui']],drop_first=False)"
   ]
  },
  {
   "cell_type": "code",
   "execution_count": null,
   "metadata": {
    "collapsed": true
   },
   "outputs": [],
   "source": [
    "df2 = pd.merge(df, a, left_index=True, right_index=True)"
   ]
  },
  {
   "cell_type": "code",
   "execution_count": null,
   "metadata": {
    "collapsed": true
   },
   "outputs": [],
   "source": [
    "df = pd.merge(df, pd.get_dummies(df[['usui']],drop_first = False), left_index = True, right_index = True)"
   ]
  },
  {
   "cell_type": "code",
   "execution_count": null,
   "metadata": {
    "collapsed": true
   },
   "outputs": [],
   "source": [
    "df = df.fillna({'tateuri_su': 0})"
   ]
  },
  {
   "cell_type": "code",
   "execution_count": null,
   "metadata": {
    "collapsed": true
   },
   "outputs": [],
   "source": [
    "df = pd.merge(df, pd.get_dummies(df[['road1_hk','road1_sb']],drop_first = False), left_index = True, right_index = True)"
   ]
  },
  {
   "cell_type": "code",
   "execution_count": null,
   "metadata": {
    "collapsed": true
   },
   "outputs": [],
   "source": []
  },
  {
   "cell_type": "code",
   "execution_count": null,
   "metadata": {
    "collapsed": true
   },
   "outputs": [],
   "source": [
    "df['road_num']=df.apply(lambda x: 4 if x['road4_hk']!=np.nan else 3)"
   ]
  },
  {
   "cell_type": "code",
   "execution_count": null,
   "metadata": {
    "collapsed": true
   },
   "outputs": [],
   "source": []
  },
  {
   "cell_type": "code",
   "execution_count": null,
   "metadata": {
    "collapsed": true
   },
   "outputs": [],
   "source": [
    "df['road_num']=df.apply(lambda x: 4 if x['road4_fi']!=0 else 3 if x['road3_fi']!=0 else 2 if x['road2_fi']!=0 else 1, axis=1)"
   ]
  },
  {
   "cell_type": "code",
   "execution_count": null,
   "metadata": {
    "collapsed": true
   },
   "outputs": [],
   "source": [
    "import math"
   ]
  },
  {
   "cell_type": "code",
   "execution_count": null,
   "metadata": {
    "collapsed": true
   },
   "outputs": [],
   "source": [
    "df['road_num']=df.apply(lambda x: 4 if not math.isnan(x['road4_fi']) else 3 if not math.isnan(x['road3_fi']) else 2 if not math.isnan(x['road2_fi']) else 1, axis=1)"
   ]
  },
  {
   "cell_type": "code",
   "execution_count": null,
   "metadata": {
    "collapsed": true
   },
   "outputs": [],
   "source": [
    "df['toshikuiki']=df['toshikuiki2'].fillna('empty')"
   ]
  },
  {
   "cell_type": "code",
   "execution_count": null,
   "metadata": {
    "collapsed": true
   },
   "outputs": [],
   "source": [
    "df['toshikuiki'] = df.apply(lambda x: x['toshikuiki1'] if x['toshikuiki']==\"empty\" else x['toshikuiki2'], axis=1)"
   ]
  },
  {
   "cell_type": "code",
   "execution_count": null,
   "metadata": {
    "collapsed": true
   },
   "outputs": [],
   "source": [
    "df['toshikuiki']"
   ]
  },
  {
   "cell_type": "code",
   "execution_count": null,
   "metadata": {
    "collapsed": true
   },
   "outputs": [],
   "source": []
  },
  {
   "cell_type": "code",
   "execution_count": null,
   "metadata": {
    "collapsed": true
   },
   "outputs": [],
   "source": [
    "df.loc[1549,'toshikuiki2']"
   ]
  },
  {
   "cell_type": "code",
   "execution_count": null,
   "metadata": {
    "collapsed": true
   },
   "outputs": [],
   "source": []
  },
  {
   "cell_type": "code",
   "execution_count": null,
   "metadata": {
    "collapsed": true
   },
   "outputs": [],
   "source": [
    "def select_yoto(x):\n",
    "    if ( x['yoto2']==np.nan):\n",
    "        yoto =x['yoto1']\n",
    "        kenpei =x['kempek1']\n",
    "        yoseki =x['yoseki1']\n",
    "    elif ( x['kempei1']<x['kempei2']):\n",
    "        yoto =x['yoto1']\n",
    "        kempei = x['kempei1']\n",
    "        yoseki =x['yoseki1']\n",
    "    else:\n",
    "        yoto = x['yoto']=x['yoto1']\n",
    "        kempei = x['kempei']=x['kempei1']\n",
    "        yoseki =x['yoseki1']\n",
    "    return pd.Series([yoto, kempei, yoseki])\n"
   ]
  },
  {
   "cell_type": "code",
   "execution_count": null,
   "metadata": {
    "collapsed": true
   },
   "outputs": [],
   "source": []
  },
  {
   "cell_type": "code",
   "execution_count": null,
   "metadata": {
    "collapsed": true
   },
   "outputs": [],
   "source": []
  },
  {
   "cell_type": "code",
   "execution_count": null,
   "metadata": {
    "collapsed": true
   },
   "outputs": [],
   "source": []
  }
 ],
 "metadata": {
  "kernelspec": {
   "display_name": "Python 3",
   "language": "python",
   "name": "python3"
  },
  "language_info": {
   "codemirror_mode": {
    "name": "ipython",
    "version": 3
   },
   "file_extension": ".py",
   "mimetype": "text/x-python",
   "name": "python",
   "nbconvert_exporter": "python",
   "pygments_lexer": "ipython3",
   "version": "3.7.3"
  }
 },
 "nbformat": 4,
 "nbformat_minor": 2
}
