{
 "cells": [
  {
   "cell_type": "markdown",
   "metadata": {},
   "source": [
    "## ここはいろいろ実験的なコードを書くところとする。"
   ]
  },
  {
   "cell_type": "code",
   "execution_count": 20,
   "metadata": {
    "collapsed": true
   },
   "outputs": [],
   "source": [
    "import numpy as np\n",
    "import pandas as pd\n",
    "train_genba = pd.read_csv(\"data/train_genba.tsv\",sep='\\t')\n",
    "train_goto = pd.read_csv(\"data/train_goto.tsv\",sep='\\t')\n",
    "prod_goto = pd.read_csv(\"data/processed_train_goto.csv\")"
   ]
  },
  {
   "cell_type": "markdown",
   "metadata": {},
   "source": [
    "#### 6/20の作業"
   ]
  },
  {
   "cell_type": "code",
   "execution_count": 22,
   "metadata": {},
   "outputs": [],
   "source": [
    "pd.DataFrame(prod_goto.isnull().sum()).to_csv(\"data/null_check.csv\")"
   ]
  },
  {
   "cell_type": "markdown",
   "metadata": {},
   "source": [
    "#### 確認の結果、次のカラムにNULLを含む\n",
    "#### chiseki_kb_hb,kaoku_hb, mseki_rd_hb, mseki_dp_hb, chiseki_diff"
   ]
  },
  {
   "cell_type": "code",
   "execution_count": null,
   "metadata": {
    "collapsed": true
   },
   "outputs": [],
   "source": [
    "    # 間口(magutchi)\n",
    "    # 幅員と同じように補完する。\n",
    "    df['magutchi'] = df['magutchi'].fillna(0)\n",
    "    for i in range(len(df)):\n",
    "        if ( df.at[i,'magutchi'] ==0 ) :\n",
    "            df.at[i,'magutchi'] = df.at[i,'road1_mg']    "
   ]
  },
  {
   "cell_type": "markdown",
   "metadata": {},
   "source": [
    "#### 6/18,19の作業"
   ]
  },
  {
   "cell_type": "code",
   "execution_count": 2,
   "metadata": {
    "collapsed": true
   },
   "outputs": [],
   "source": [
    "df = train_goto.copy()"
   ]
  },
  {
   "cell_type": "code",
   "execution_count": 3,
   "metadata": {
    "collapsed": true
   },
   "outputs": [],
   "source": [
    "genba = pd.read_csv(\"data/processed_train_genba.csv\")"
   ]
  },
  {
   "cell_type": "code",
   "execution_count": 4,
   "metadata": {
    "collapsed": true
   },
   "outputs": [],
   "source": [
    "newdf=df.merge(genba, how=\"left\", on='pj_no')"
   ]
  },
  {
   "cell_type": "code",
   "execution_count": 5,
   "metadata": {
    "collapsed": true
   },
   "outputs": [],
   "source": [
    "newdf.to_csv(\"data/joined_data.csv\")\n",
    "df = newdf"
   ]
  },
  {
   "cell_type": "code",
   "execution_count": 6,
   "metadata": {
    "collapsed": true
   },
   "outputs": [],
   "source": [
    "df['fukuin'] = df['fukuin'].fillna(0)\n",
    "for i in range(len(df)):\n",
    "    if ( df.at[i,'fukuin'] ==0 ) :\n",
    "        df.at[i,'fukuin'] = df.at[i,'road1_fi']"
   ]
  },
  {
   "cell_type": "code",
   "execution_count": 7,
   "metadata": {
    "collapsed": true
   },
   "outputs": [],
   "source": [
    "    df['magutchi'] = df['magutchi'].fillna(0)\n",
    "    for i in range(len(df)):\n",
    "        if ( df.at[i,'magutchi'] ==0 ) :\n",
    "            df.at[i,'magutchi'] = df.at[i,'road1_mg']    "
   ]
  },
  {
   "cell_type": "code",
   "execution_count": null,
   "metadata": {
    "collapsed": true
   },
   "outputs": [],
   "source": [
    "df['setsudo_hi' ] = df['setsudo_hi'].fillna('unknown')\n",
    "for i in range(len(df)):\n",
    "    if ( df.at[i,'setsudo_hi']=='unknown'):\n",
    "        df.at[i.'setsudo_hi']=df.at[i,'road1_hk']"
   ]
  },
  {
   "cell_type": "code",
   "execution_count": 9,
   "metadata": {},
   "outputs": [
    {
     "data": {
      "text/html": [
       "<div>\n",
       "<style>\n",
       "    .dataframe thead tr:only-child th {\n",
       "        text-align: right;\n",
       "    }\n",
       "\n",
       "    .dataframe thead th {\n",
       "        text-align: left;\n",
       "    }\n",
       "\n",
       "    .dataframe tbody tr th {\n",
       "        vertical-align: top;\n",
       "    }\n",
       "</style>\n",
       "<table border=\"1\" class=\"dataframe\">\n",
       "  <thead>\n",
       "    <tr style=\"text-align: right;\">\n",
       "      <th></th>\n",
       "      <th>id</th>\n",
       "      <th>pj_no</th>\n",
       "      <th>keiyaku_pr</th>\n",
       "      <th>tc_mseki</th>\n",
       "      <th>tt_mseki</th>\n",
       "      <th>levelplan</th>\n",
       "      <th>fukuin</th>\n",
       "      <th>road_st</th>\n",
       "      <th>magutchi</th>\n",
       "      <th>setsudo_hi</th>\n",
       "      <th>...</th>\n",
       "      <th>kodochiku_第3種</th>\n",
       "      <th>kodochiku_第4種</th>\n",
       "      <th>bokachiiki_22条区域</th>\n",
       "      <th>bokachiiki_その他</th>\n",
       "      <th>bokachiiki_準防火地域</th>\n",
       "      <th>bokachiiki_無指定</th>\n",
       "      <th>bokachiiki_防火地域</th>\n",
       "      <th>bokachiiki_防火指定無</th>\n",
       "      <th>bus</th>\n",
       "      <th>walk</th>\n",
       "    </tr>\n",
       "  </thead>\n",
       "  <tbody>\n",
       "    <tr>\n",
       "      <th>0</th>\n",
       "      <td>train_0000</td>\n",
       "      <td>0</td>\n",
       "      <td>39800000</td>\n",
       "      <td>109.26</td>\n",
       "      <td>104.43</td>\n",
       "      <td>2F/4LDK</td>\n",
       "      <td>4.0</td>\n",
       "      <td>問題なし</td>\n",
       "      <td>9.9</td>\n",
       "      <td>東</td>\n",
       "      <td>...</td>\n",
       "      <td>0</td>\n",
       "      <td>0</td>\n",
       "      <td>0</td>\n",
       "      <td>0</td>\n",
       "      <td>0</td>\n",
       "      <td>0</td>\n",
       "      <td>0</td>\n",
       "      <td>1</td>\n",
       "      <td>0.0</td>\n",
       "      <td>17.0</td>\n",
       "    </tr>\n",
       "    <tr>\n",
       "      <th>1</th>\n",
       "      <td>train_0001</td>\n",
       "      <td>1</td>\n",
       "      <td>22300000</td>\n",
       "      <td>136.11</td>\n",
       "      <td>105.16</td>\n",
       "      <td>2F/4LDK</td>\n",
       "      <td>4.2</td>\n",
       "      <td>問題なし</td>\n",
       "      <td>9.3</td>\n",
       "      <td>北西</td>\n",
       "      <td>...</td>\n",
       "      <td>0</td>\n",
       "      <td>0</td>\n",
       "      <td>1</td>\n",
       "      <td>0</td>\n",
       "      <td>0</td>\n",
       "      <td>0</td>\n",
       "      <td>0</td>\n",
       "      <td>0</td>\n",
       "      <td>0.0</td>\n",
       "      <td>13.0</td>\n",
       "    </tr>\n",
       "    <tr>\n",
       "      <th>2</th>\n",
       "      <td>train_0002</td>\n",
       "      <td>2</td>\n",
       "      <td>19800000</td>\n",
       "      <td>87.07</td>\n",
       "      <td>85.94</td>\n",
       "      <td>2F/4LDK</td>\n",
       "      <td>4.0</td>\n",
       "      <td>問題なし</td>\n",
       "      <td>11.1</td>\n",
       "      <td>東</td>\n",
       "      <td>...</td>\n",
       "      <td>0</td>\n",
       "      <td>0</td>\n",
       "      <td>0</td>\n",
       "      <td>0</td>\n",
       "      <td>0</td>\n",
       "      <td>0</td>\n",
       "      <td>0</td>\n",
       "      <td>1</td>\n",
       "      <td>0.0</td>\n",
       "      <td>27.0</td>\n",
       "    </tr>\n",
       "    <tr>\n",
       "      <th>3</th>\n",
       "      <td>train_0003</td>\n",
       "      <td>3</td>\n",
       "      <td>33990000</td>\n",
       "      <td>163.75</td>\n",
       "      <td>105.98</td>\n",
       "      <td>2F/4LDK</td>\n",
       "      <td>4.0</td>\n",
       "      <td>問題なし</td>\n",
       "      <td>10.5</td>\n",
       "      <td>南</td>\n",
       "      <td>...</td>\n",
       "      <td>0</td>\n",
       "      <td>0</td>\n",
       "      <td>0</td>\n",
       "      <td>0</td>\n",
       "      <td>0</td>\n",
       "      <td>0</td>\n",
       "      <td>0</td>\n",
       "      <td>1</td>\n",
       "      <td>0.0</td>\n",
       "      <td>18.0</td>\n",
       "    </tr>\n",
       "    <tr>\n",
       "      <th>4</th>\n",
       "      <td>train_0004</td>\n",
       "      <td>4</td>\n",
       "      <td>30800000</td>\n",
       "      <td>111.51</td>\n",
       "      <td>89.01</td>\n",
       "      <td>2F/4LDK</td>\n",
       "      <td>4.0</td>\n",
       "      <td>問題なし</td>\n",
       "      <td>13.5</td>\n",
       "      <td>北</td>\n",
       "      <td>...</td>\n",
       "      <td>0</td>\n",
       "      <td>0</td>\n",
       "      <td>1</td>\n",
       "      <td>0</td>\n",
       "      <td>0</td>\n",
       "      <td>0</td>\n",
       "      <td>0</td>\n",
       "      <td>0</td>\n",
       "      <td>0.0</td>\n",
       "      <td>7.0</td>\n",
       "    </tr>\n",
       "  </tbody>\n",
       "</table>\n",
       "<p>5 rows × 159 columns</p>\n",
       "</div>"
      ],
      "text/plain": [
       "           id  pj_no  keiyaku_pr  tc_mseki  tt_mseki levelplan  fukuin  \\\n",
       "0  train_0000      0    39800000    109.26    104.43   2F/4LDK     4.0   \n",
       "1  train_0001      1    22300000    136.11    105.16   2F/4LDK     4.2   \n",
       "2  train_0002      2    19800000     87.07     85.94   2F/4LDK     4.0   \n",
       "3  train_0003      3    33990000    163.75    105.98   2F/4LDK     4.0   \n",
       "4  train_0004      4    30800000    111.51     89.01   2F/4LDK     4.0   \n",
       "\n",
       "  road_st  magutchi setsudo_hi  ...  kodochiku_第3種 kodochiku_第4種  \\\n",
       "0    問題なし       9.9          東  ...              0             0   \n",
       "1    問題なし       9.3         北西  ...              0             0   \n",
       "2    問題なし      11.1          東  ...              0             0   \n",
       "3    問題なし      10.5          南  ...              0             0   \n",
       "4    問題なし      13.5          北  ...              0             0   \n",
       "\n",
       "  bokachiiki_22条区域  bokachiiki_その他  bokachiiki_準防火地域 bokachiiki_無指定  \\\n",
       "0                0               0                 0              0   \n",
       "1                1               0                 0              0   \n",
       "2                0               0                 0              0   \n",
       "3                0               0                 0              0   \n",
       "4                1               0                 0              0   \n",
       "\n",
       "  bokachiiki_防火地域 bokachiiki_防火指定無  bus  walk  \n",
       "0               0                1  0.0  17.0  \n",
       "1               0                0  0.0  13.0  \n",
       "2               0                1  0.0  27.0  \n",
       "3               0                1  0.0  18.0  \n",
       "4               0                0  0.0   7.0  \n",
       "\n",
       "[5 rows x 159 columns]"
      ]
     },
     "execution_count": 9,
     "metadata": {},
     "output_type": "execute_result"
    }
   ],
   "source": [
    "df.head()"
   ]
  },
  {
   "cell_type": "code",
   "execution_count": 14,
   "metadata": {},
   "outputs": [
    {
     "name": "stdout",
     "output_type": "stream",
     "text": [
      "Help on built-in function append:\n",
      "\n",
      "append(...) method of builtins.list instance\n",
      "    L.append(object) -> None -- append object to end\n",
      "\n"
     ]
    }
   ],
   "source": [
    "help(list.append)"
   ]
  },
  {
   "cell_type": "code",
   "execution_count": 16,
   "metadata": {
    "collapsed": true
   },
   "outputs": [],
   "source": [
    "df = pd.read_csv('data/processed_train_goto.csv')"
   ]
  },
  {
   "cell_type": "code",
   "execution_count": 17,
   "metadata": {},
   "outputs": [
    {
     "data": {
      "text/plain": [
       "id                   0\n",
       "pj_no                0\n",
       "tc_mseki             0\n",
       "tt_mseki             0\n",
       "fukuin               0\n",
       "road_st              0\n",
       "magutchi             0\n",
       "niwasaki             0\n",
       "garage               0\n",
       "chiseki_js_hb        0\n",
       "chiseki_kb_hb        5\n",
       "josui                0\n",
       "gesui                0\n",
       "gas                  0\n",
       "tateuri_su           0\n",
       "tochiuri_su          0\n",
       "joken_su             0\n",
       "hy1f_date_su         0\n",
       "hy2f_date_su         0\n",
       "hy3f_date_su         0\n",
       "road1_fi             0\n",
       "road1_mg             0\n",
       "kaoku_um             0\n",
       "kaoku_hb           193\n",
       "yheki_kotei          0\n",
       "yheki_umu            0\n",
       "yheki_yohi           0\n",
       "gk_sho_kyori         0\n",
       "gk_chu_kyori         0\n",
       "kborjs               0\n",
       "                  ... \n",
       "setsudo_hi_南＋北東      0\n",
       "setsudo_hi_南＋北西      0\n",
       "setsudo_hi_南＋南東      0\n",
       "setsudo_hi_南＋南西      0\n",
       "setsudo_hi_南＋東       0\n",
       "setsudo_hi_南＋西       0\n",
       "setsudo_hi_東         0\n",
       "setsudo_hi_東＋北       0\n",
       "setsudo_hi_東＋南       0\n",
       "setsudo_hi_東＋南東      0\n",
       "setsudo_hi_東＋南西      0\n",
       "setsudo_hi_東＋西       0\n",
       "setsudo_hi_西         0\n",
       "setsudo_hi_西＋北       0\n",
       "setsudo_hi_西＋北東      0\n",
       "setsudo_hi_西＋北西      0\n",
       "setsudo_hi_西＋南       0\n",
       "setsudo_hi_西＋南東      0\n",
       "setsudo_hi_西＋南西      0\n",
       "setsudo_hi_西＋東       0\n",
       "setsudo_kj_悪い        0\n",
       "setsudo_kj_普通        0\n",
       "setsudo_kj_良い        0\n",
       "jigata_不整形地          0\n",
       "jigata_整形地           0\n",
       "jigata_敷地延長          0\n",
       "jigata_間口狭・奥行長       0\n",
       "hiatari_悪い           0\n",
       "hiatari_普通           0\n",
       "hiatari_良い           0\n",
       "Length: 215, dtype: int64"
      ]
     },
     "execution_count": 17,
     "metadata": {},
     "output_type": "execute_result"
    }
   ],
   "source": [
    "df.isnull().sum()"
   ]
  },
  {
   "cell_type": "code",
   "execution_count": null,
   "metadata": {
    "collapsed": true
   },
   "outputs": [],
   "source": []
  },
  {
   "cell_type": "code",
   "execution_count": null,
   "metadata": {
    "collapsed": true
   },
   "outputs": [],
   "source": []
  },
  {
   "cell_type": "code",
   "execution_count": 11,
   "metadata": {},
   "outputs": [
    {
     "data": {
      "text/html": [
       "<div>\n",
       "<style>\n",
       "    .dataframe thead tr:only-child th {\n",
       "        text-align: right;\n",
       "    }\n",
       "\n",
       "    .dataframe thead th {\n",
       "        text-align: left;\n",
       "    }\n",
       "\n",
       "    .dataframe tbody tr th {\n",
       "        vertical-align: top;\n",
       "    }\n",
       "</style>\n",
       "<table border=\"1\" class=\"dataframe\">\n",
       "  <thead>\n",
       "    <tr style=\"text-align: right;\">\n",
       "      <th></th>\n",
       "      <th>id</th>\n",
       "      <th>keiyaku_pr</th>\n",
       "      <th>tc_mseki</th>\n",
       "      <th>tt_mseki</th>\n",
       "      <th>levelplan</th>\n",
       "      <th>fukuin</th>\n",
       "      <th>road_st</th>\n",
       "      <th>magutchi</th>\n",
       "      <th>setsudo_hi</th>\n",
       "      <th>setsudo_kj</th>\n",
       "      <th>...</th>\n",
       "      <th>kodochiku_第3種</th>\n",
       "      <th>kodochiku_第4種</th>\n",
       "      <th>bokachiiki_22条区域</th>\n",
       "      <th>bokachiiki_その他</th>\n",
       "      <th>bokachiiki_準防火地域</th>\n",
       "      <th>bokachiiki_無指定</th>\n",
       "      <th>bokachiiki_防火地域</th>\n",
       "      <th>bokachiiki_防火指定無</th>\n",
       "      <th>bus</th>\n",
       "      <th>walk</th>\n",
       "    </tr>\n",
       "  </thead>\n",
       "  <tbody>\n",
       "    <tr>\n",
       "      <th>0</th>\n",
       "      <td>train_0000</td>\n",
       "      <td>39800000</td>\n",
       "      <td>109.26</td>\n",
       "      <td>104.43</td>\n",
       "      <td>2F/4LDK</td>\n",
       "      <td>4.0</td>\n",
       "      <td>問題なし</td>\n",
       "      <td>9.9</td>\n",
       "      <td>東</td>\n",
       "      <td>良い</td>\n",
       "      <td>...</td>\n",
       "      <td>0</td>\n",
       "      <td>0</td>\n",
       "      <td>0</td>\n",
       "      <td>0</td>\n",
       "      <td>0</td>\n",
       "      <td>0</td>\n",
       "      <td>0</td>\n",
       "      <td>1</td>\n",
       "      <td>0.0</td>\n",
       "      <td>17.0</td>\n",
       "    </tr>\n",
       "    <tr>\n",
       "      <th>1</th>\n",
       "      <td>train_0001</td>\n",
       "      <td>22300000</td>\n",
       "      <td>136.11</td>\n",
       "      <td>105.16</td>\n",
       "      <td>2F/4LDK</td>\n",
       "      <td>4.2</td>\n",
       "      <td>問題なし</td>\n",
       "      <td>9.3</td>\n",
       "      <td>北西</td>\n",
       "      <td>普通</td>\n",
       "      <td>...</td>\n",
       "      <td>0</td>\n",
       "      <td>0</td>\n",
       "      <td>1</td>\n",
       "      <td>0</td>\n",
       "      <td>0</td>\n",
       "      <td>0</td>\n",
       "      <td>0</td>\n",
       "      <td>0</td>\n",
       "      <td>0.0</td>\n",
       "      <td>13.0</td>\n",
       "    </tr>\n",
       "    <tr>\n",
       "      <th>2</th>\n",
       "      <td>train_0002</td>\n",
       "      <td>19800000</td>\n",
       "      <td>87.07</td>\n",
       "      <td>85.94</td>\n",
       "      <td>2F/4LDK</td>\n",
       "      <td>4.0</td>\n",
       "      <td>問題なし</td>\n",
       "      <td>11.1</td>\n",
       "      <td>東</td>\n",
       "      <td>普通</td>\n",
       "      <td>...</td>\n",
       "      <td>0</td>\n",
       "      <td>0</td>\n",
       "      <td>0</td>\n",
       "      <td>0</td>\n",
       "      <td>0</td>\n",
       "      <td>0</td>\n",
       "      <td>0</td>\n",
       "      <td>1</td>\n",
       "      <td>0.0</td>\n",
       "      <td>27.0</td>\n",
       "    </tr>\n",
       "    <tr>\n",
       "      <th>3</th>\n",
       "      <td>train_0003</td>\n",
       "      <td>33990000</td>\n",
       "      <td>163.75</td>\n",
       "      <td>105.98</td>\n",
       "      <td>2F/4LDK</td>\n",
       "      <td>4.0</td>\n",
       "      <td>問題なし</td>\n",
       "      <td>10.5</td>\n",
       "      <td>南</td>\n",
       "      <td>普通</td>\n",
       "      <td>...</td>\n",
       "      <td>0</td>\n",
       "      <td>0</td>\n",
       "      <td>0</td>\n",
       "      <td>0</td>\n",
       "      <td>0</td>\n",
       "      <td>0</td>\n",
       "      <td>0</td>\n",
       "      <td>1</td>\n",
       "      <td>0.0</td>\n",
       "      <td>18.0</td>\n",
       "    </tr>\n",
       "    <tr>\n",
       "      <th>4</th>\n",
       "      <td>train_0004</td>\n",
       "      <td>30800000</td>\n",
       "      <td>111.51</td>\n",
       "      <td>89.01</td>\n",
       "      <td>2F/4LDK</td>\n",
       "      <td>4.0</td>\n",
       "      <td>問題なし</td>\n",
       "      <td>13.5</td>\n",
       "      <td>北</td>\n",
       "      <td>良い</td>\n",
       "      <td>...</td>\n",
       "      <td>0</td>\n",
       "      <td>0</td>\n",
       "      <td>1</td>\n",
       "      <td>0</td>\n",
       "      <td>0</td>\n",
       "      <td>0</td>\n",
       "      <td>0</td>\n",
       "      <td>0</td>\n",
       "      <td>0.0</td>\n",
       "      <td>7.0</td>\n",
       "    </tr>\n",
       "  </tbody>\n",
       "</table>\n",
       "<p>5 rows × 158 columns</p>\n",
       "</div>"
      ],
      "text/plain": [
       "           id  keiyaku_pr  tc_mseki  tt_mseki levelplan  fukuin road_st  \\\n",
       "0  train_0000    39800000    109.26    104.43   2F/4LDK     4.0    問題なし   \n",
       "1  train_0001    22300000    136.11    105.16   2F/4LDK     4.2    問題なし   \n",
       "2  train_0002    19800000     87.07     85.94   2F/4LDK     4.0    問題なし   \n",
       "3  train_0003    33990000    163.75    105.98   2F/4LDK     4.0    問題なし   \n",
       "4  train_0004    30800000    111.51     89.01   2F/4LDK     4.0    問題なし   \n",
       "\n",
       "   magutchi setsudo_hi setsudo_kj  ...  kodochiku_第3種 kodochiku_第4種  \\\n",
       "0       9.9          東         良い  ...              0             0   \n",
       "1       9.3         北西         普通  ...              0             0   \n",
       "2      11.1          東         普通  ...              0             0   \n",
       "3      10.5          南         普通  ...              0             0   \n",
       "4      13.5          北         良い  ...              0             0   \n",
       "\n",
       "   bokachiiki_22条区域  bokachiiki_その他 bokachiiki_準防火地域 bokachiiki_無指定  \\\n",
       "0                 0               0                0              0   \n",
       "1                 1               0                0              0   \n",
       "2                 0               0                0              0   \n",
       "3                 0               0                0              0   \n",
       "4                 1               0                0              0   \n",
       "\n",
       "  bokachiiki_防火地域 bokachiiki_防火指定無  bus  walk  \n",
       "0               0                1  0.0  17.0  \n",
       "1               0                0  0.0  13.0  \n",
       "2               0                1  0.0  27.0  \n",
       "3               0                1  0.0  18.0  \n",
       "4               0                0  0.0   7.0  \n",
       "\n",
       "[5 rows x 158 columns]"
      ]
     },
     "execution_count": 11,
     "metadata": {},
     "output_type": "execute_result"
    }
   ],
   "source": [
    "df.head()"
   ]
  },
  {
   "cell_type": "code",
   "execution_count": null,
   "metadata": {
    "collapsed": true
   },
   "outputs": [],
   "source": []
  },
  {
   "cell_type": "code",
   "execution_count": null,
   "metadata": {
    "collapsed": true
   },
   "outputs": [],
   "source": [
    "df.loc[146,'fukuin']"
   ]
  },
  {
   "cell_type": "code",
   "execution_count": null,
   "metadata": {
    "collapsed": true
   },
   "outputs": [],
   "source": [
    "df['fukuin'] = df['fukuin'].fillna(0)"
   ]
  },
  {
   "cell_type": "code",
   "execution_count": null,
   "metadata": {
    "collapsed": true
   },
   "outputs": [],
   "source": [
    "df['fukuin'].isnull().sum()"
   ]
  },
  {
   "cell_type": "code",
   "execution_count": null,
   "metadata": {
    "collapsed": true
   },
   "outputs": [],
   "source": []
  },
  {
   "cell_type": "code",
   "execution_count": null,
   "metadata": {
    "collapsed": true
   },
   "outputs": [],
   "source": []
  },
  {
   "cell_type": "code",
   "execution_count": null,
   "metadata": {
    "collapsed": true
   },
   "outputs": [],
   "source": []
  },
  {
   "cell_type": "markdown",
   "metadata": {},
   "source": [
    "#### いつのだかわからないコード"
   ]
  },
  {
   "cell_type": "code",
   "execution_count": null,
   "metadata": {
    "collapsed": true
   },
   "outputs": [],
   "source": [
    "df = train_genba.copy()"
   ]
  },
  {
   "cell_type": "code",
   "execution_count": null,
   "metadata": {
    "collapsed": true
   },
   "outputs": [],
   "source": [
    "df[['bus', 'walk']] = df.apply(calculateLogistics, axis=1)"
   ]
  },
  {
   "cell_type": "code",
   "execution_count": null,
   "metadata": {
    "collapsed": true
   },
   "outputs": [],
   "source": [
    "df.loc[0:20,['bas_toho1','eki_kyori1','teiho1','bus','walk']]"
   ]
  },
  {
   "cell_type": "code",
   "execution_count": null,
   "metadata": {
    "collapsed": true
   },
   "outputs": [],
   "source": []
  },
  {
   "cell_type": "markdown",
   "metadata": {},
   "source": [
    "#### 下記は6/16夜の作業"
   ]
  },
  {
   "cell_type": "code",
   "execution_count": null,
   "metadata": {
    "collapsed": true
   },
   "outputs": [],
   "source": [
    "def calculateLogistics(x):\n",
    "    if ( x['bas_toho1'] == 'バス' ):\n",
    "        bus = x['eki_kyori1']\n",
    "        walk = x['teiho1']\n",
    "    else:\n",
    "        bus = 0\n",
    "        walk = x['eki_kyori1']\n",
    "    \n",
    "    return pd.Series([bus, walk])\n",
    "    "
   ]
  },
  {
   "cell_type": "markdown",
   "metadata": {},
   "source": [
    "#### 下記は6/16の作業"
   ]
  },
  {
   "cell_type": "code",
   "execution_count": null,
   "metadata": {
    "collapsed": true
   },
   "outputs": [],
   "source": [
    "df[['yoto','kempei','yoseki']] = df.apply(select_yoto, axis=1)"
   ]
  },
  {
   "cell_type": "code",
   "execution_count": null,
   "metadata": {
    "collapsed": true
   },
   "outputs": [],
   "source": [
    "np.isnan(df.loc[0,'yoto2'])"
   ]
  },
  {
   "cell_type": "code",
   "execution_count": null,
   "metadata": {
    "collapsed": true
   },
   "outputs": [],
   "source": [
    "type(df.loc[26,'yoto2'])==str"
   ]
  },
  {
   "cell_type": "code",
   "execution_count": null,
   "metadata": {
    "collapsed": true
   },
   "outputs": [],
   "source": [
    "df.loc[20,'shu_soon']"
   ]
  },
  {
   "cell_type": "code",
   "execution_count": null,
   "metadata": {
    "collapsed": true
   },
   "outputs": [],
   "source": [
    "df['shu_soon'].map({'○':1, np.NaN:0})"
   ]
  },
  {
   "cell_type": "code",
   "execution_count": null,
   "metadata": {
    "collapsed": true
   },
   "outputs": [],
   "source": [
    "def select_yoto(x):\n",
    "    if ( type(x['yoto2']) == str ):\n",
    "        yoto =x['yoto2']\n",
    "        kempei = x['kempei2']\n",
    "        yoseki =x['yoseki2']\n",
    "    else:\n",
    "        yoto =x['yoto1']\n",
    "        kempei =x['kempei1']\n",
    "        yoseki =x['yoseki1']\n",
    "    \"\"\"\n",
    "    if ( np.isnan(x['yoto2'])):\n",
    "        yoto =x['yoto1']\n",
    "        kempei =x['kempei1']\n",
    "        yoseki =x['yoseki1']\n",
    "    else:\n",
    "        yoto =x['yoto2']\n",
    "        kempei = x['kempei2']\n",
    "        yoseki =x['yoseki2']\n",
    "    \"\"\"\n",
    "    \"\"\"\"\n",
    "    if ( x['yoto2']==np.nan):\n",
    "        yoto =x['yoto1']\n",
    "        kenpei =x['kempek1']\n",
    "        yoseki =x['yoseki1']\n",
    "    elif ( x['kempei1']<x['kempei2']):\n",
    "        yoto =x['yoto1']\n",
    "        kempei = x['kempei1']\n",
    "        yoseki =x['yoseki1']\n",
    "    else:\n",
    "        yoto = x['yoto']=x['yoto1']\n",
    "        kempei = x['kempei']=x['kempei1']\n",
    "        yoseki =x['yoseki1']\n",
    "    \"\"\"\n",
    "    return pd.Series([yoto, kempei, yoseki])\n"
   ]
  },
  {
   "cell_type": "markdown",
   "metadata": {},
   "source": [
    "#### 下記は6/15の作業"
   ]
  },
  {
   "cell_type": "code",
   "execution_count": null,
   "metadata": {
    "collapsed": true
   },
   "outputs": [],
   "source": [
    "df = df.drop('jukyo',axis=1)"
   ]
  },
  {
   "cell_type": "code",
   "execution_count": null,
   "metadata": {
    "collapsed": true
   },
   "outputs": [],
   "source": [
    "# df['yoto'], df['kempei'],df['yoseki']= df.apply(select_yoto,axis=1)\n",
    "df[['yoto','kempei','yoseki']] = df.apply(select_yoto,axis=1)"
   ]
  },
  {
   "cell_type": "code",
   "execution_count": null,
   "metadata": {
    "collapsed": true
   },
   "outputs": [],
   "source": [
    "df.head()"
   ]
  },
  {
   "cell_type": "code",
   "execution_count": null,
   "metadata": {
    "collapsed": true
   },
   "outputs": [],
   "source": [
    "org_df = df.copy()"
   ]
  },
  {
   "cell_type": "code",
   "execution_count": null,
   "metadata": {
    "collapsed": true
   },
   "outputs": [],
   "source": [
    "df['josui'] = df.apply(lambda x: 1 if x['josui']=='公営' else 0, axis=1)"
   ]
  },
  {
   "cell_type": "code",
   "execution_count": null,
   "metadata": {
    "collapsed": true
   },
   "outputs": [],
   "source": [
    "df['gesui'] = df.apply(lambda x: 1 if x['gesui']=='公共下水' else 0, axis=1)"
   ]
  },
  {
   "cell_type": "code",
   "execution_count": null,
   "metadata": {
    "collapsed": true
   },
   "outputs": [],
   "source": [
    "df['gas'] = df.apply(lambda x: 2 if x['gas'] =='都市ガス' else 1 if x['gas'] == '集中プロパン' else 0, axis=1)"
   ]
  },
  {
   "cell_type": "code",
   "execution_count": null,
   "metadata": {
    "collapsed": true
   },
   "outputs": [],
   "source": [
    "df['chiseki_diff'] = df['chiseki_kb_hb']-df['chiseki_js_hb']"
   ]
  },
  {
   "cell_type": "code",
   "execution_count": null,
   "metadata": {
    "collapsed": true
   },
   "outputs": [],
   "source": [
    "a = pd.get_dummies(df[['usui']],drop_first=False)"
   ]
  },
  {
   "cell_type": "code",
   "execution_count": null,
   "metadata": {
    "collapsed": true
   },
   "outputs": [],
   "source": [
    "df2 = pd.merge(df, a, left_index=True, right_index=True)"
   ]
  },
  {
   "cell_type": "code",
   "execution_count": null,
   "metadata": {
    "collapsed": true
   },
   "outputs": [],
   "source": [
    "df = pd.merge(df, pd.get_dummies(df[['usui']],drop_first = False), left_index = True, right_index = True)"
   ]
  },
  {
   "cell_type": "code",
   "execution_count": null,
   "metadata": {
    "collapsed": true
   },
   "outputs": [],
   "source": [
    "df = df.fillna({'tateuri_su': 0})"
   ]
  },
  {
   "cell_type": "code",
   "execution_count": null,
   "metadata": {
    "collapsed": true
   },
   "outputs": [],
   "source": [
    "df = pd.merge(df, pd.get_dummies(df[['road1_hk','road1_sb']],drop_first = False), left_index = True, right_index = True)"
   ]
  },
  {
   "cell_type": "code",
   "execution_count": null,
   "metadata": {
    "collapsed": true
   },
   "outputs": [],
   "source": []
  },
  {
   "cell_type": "code",
   "execution_count": null,
   "metadata": {
    "collapsed": true
   },
   "outputs": [],
   "source": [
    "df['road_num']=df.apply(lambda x: 4 if x['road4_hk']!=np.nan else 3)"
   ]
  },
  {
   "cell_type": "code",
   "execution_count": null,
   "metadata": {
    "collapsed": true
   },
   "outputs": [],
   "source": []
  },
  {
   "cell_type": "code",
   "execution_count": null,
   "metadata": {
    "collapsed": true
   },
   "outputs": [],
   "source": [
    "df['road_num']=df.apply(lambda x: 4 if x['road4_fi']!=0 else 3 if x['road3_fi']!=0 else 2 if x['road2_fi']!=0 else 1, axis=1)"
   ]
  },
  {
   "cell_type": "code",
   "execution_count": null,
   "metadata": {
    "collapsed": true
   },
   "outputs": [],
   "source": [
    "import math"
   ]
  },
  {
   "cell_type": "code",
   "execution_count": null,
   "metadata": {
    "collapsed": true
   },
   "outputs": [],
   "source": [
    "df['road_num']=df.apply(lambda x: 4 if not math.isnan(x['road4_fi']) else 3 if not math.isnan(x['road3_fi']) else 2 if not math.isnan(x['road2_fi']) else 1, axis=1)"
   ]
  },
  {
   "cell_type": "code",
   "execution_count": null,
   "metadata": {
    "collapsed": true
   },
   "outputs": [],
   "source": [
    "df['toshikuiki']=df['toshikuiki2'].fillna('empty')"
   ]
  },
  {
   "cell_type": "code",
   "execution_count": null,
   "metadata": {
    "collapsed": true
   },
   "outputs": [],
   "source": [
    "df['toshikuiki'] = df.apply(lambda x: x['toshikuiki1'] if x['toshikuiki']==\"empty\" else x['toshikuiki2'], axis=1)"
   ]
  },
  {
   "cell_type": "code",
   "execution_count": null,
   "metadata": {
    "collapsed": true
   },
   "outputs": [],
   "source": [
    "df['toshikuiki']"
   ]
  },
  {
   "cell_type": "code",
   "execution_count": null,
   "metadata": {
    "collapsed": true
   },
   "outputs": [],
   "source": []
  },
  {
   "cell_type": "code",
   "execution_count": null,
   "metadata": {
    "collapsed": true
   },
   "outputs": [],
   "source": [
    "df.loc[1549,'toshikuiki2']"
   ]
  },
  {
   "cell_type": "code",
   "execution_count": null,
   "metadata": {
    "collapsed": true
   },
   "outputs": [],
   "source": []
  },
  {
   "cell_type": "code",
   "execution_count": null,
   "metadata": {
    "collapsed": true
   },
   "outputs": [],
   "source": [
    "def select_yoto(x):\n",
    "    if ( x['yoto2']==np.nan):\n",
    "        yoto =x['yoto1']\n",
    "        kenpei =x['kempek1']\n",
    "        yoseki =x['yoseki1']\n",
    "    elif ( x['kempei1']<x['kempei2']):\n",
    "        yoto =x['yoto1']\n",
    "        kempei = x['kempei1']\n",
    "        yoseki =x['yoseki1']\n",
    "    else:\n",
    "        yoto = x['yoto']=x['yoto1']\n",
    "        kempei = x['kempei']=x['kempei1']\n",
    "        yoseki =x['yoseki1']\n",
    "    return pd.Series([yoto, kempei, yoseki])\n"
   ]
  },
  {
   "cell_type": "code",
   "execution_count": null,
   "metadata": {
    "collapsed": true
   },
   "outputs": [],
   "source": []
  },
  {
   "cell_type": "code",
   "execution_count": null,
   "metadata": {
    "collapsed": true
   },
   "outputs": [],
   "source": []
  },
  {
   "cell_type": "code",
   "execution_count": null,
   "metadata": {
    "collapsed": true
   },
   "outputs": [],
   "source": []
  }
 ],
 "metadata": {
  "kernelspec": {
   "display_name": "Python 3",
   "language": "python",
   "name": "python3"
  },
  "language_info": {
   "codemirror_mode": {
    "name": "ipython",
    "version": 3
   },
   "file_extension": ".py",
   "mimetype": "text/x-python",
   "name": "python",
   "nbconvert_exporter": "python",
   "pygments_lexer": "ipython3",
   "version": "3.6.3"
  }
 },
 "nbformat": 4,
 "nbformat_minor": 2
}
