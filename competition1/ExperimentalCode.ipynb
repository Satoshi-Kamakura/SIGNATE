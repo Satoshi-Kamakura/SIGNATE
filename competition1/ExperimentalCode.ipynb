{
 "cells": [
  {
   "cell_type": "markdown",
   "metadata": {},
   "source": [
    "## ここはいろいろ実験的なコードを書くところとする。"
   ]
  },
  {
   "cell_type": "markdown",
   "metadata": {},
   "source": [
    "### 6/30 V5向けのトライアル"
   ]
  },
  {
   "cell_type": "code",
   "execution_count": 2,
   "metadata": {},
   "outputs": [],
   "source": [
    "# tt_msekiが第３位だが、欠損がtrain/test双方とも0.5%程度ある。⇒容積率ごとの平均のtc_msekiとtt_msekiの比から欠損を補完したい\n",
    "import pandas as pd\n",
    "import numpy as np\n",
    "genba = pd.read_csv(\"data/train_genba.tsv\", sep='\\t')\n",
    "goto = pd.read_csv(\"data/train_goto.tsv\",sep='\\t')\n",
    "def create_list( df,cols ):\n",
    "    names = set()\n",
    "    for col in cols:\n",
    "        for i in range(len(df)):\n",
    "            name = df.at[i,col]\n",
    "            if ( type(name) != float ):\n",
    "                names.add(name)\n",
    "    return sorted(list(names))"
   ]
  },
  {
   "cell_type": "code",
   "execution_count": 11,
   "metadata": {},
   "outputs": [],
   "source": [
    "jgoto = goto.merge(genba, how='left', on='pj_no' )"
   ]
  },
  {
   "cell_type": "code",
   "execution_count": 13,
   "metadata": {
    "collapsed": true
   },
   "outputs": [],
   "source": [
    "jgoto.to_csv(\"data/joinded_goto.csv\",index=False)"
   ]
  },
  {
   "cell_type": "markdown",
   "metadata": {},
   "source": [
    "モデルの`feature_importances_`を確認すると、以下の改善の余地があることがわかった。\n",
    "- tt_msekiが第３位だが、欠損がtrain/test双方とも0.5%程度ある。\n",
    "    - genba/gotoを結合後、genbaのtt_mseki_avg_hbでtt_msekiを補完する。\n",
    "    - genbaのtt_mseki_min_hbとtt_mseki_max_hbの平均値で補完する\n",
    "    - 容積率80/100/150/200/300/400で欠損が残るので、それぞれの容積率の平均の対建物比率で算出"
   ]
  },
  {
   "cell_type": "code",
   "execution_count": 41,
   "metadata": {
    "collapsed": true
   },
   "outputs": [],
   "source": [
    "# 最初の二つの項目は一つのラムダ式\n",
    "df['new_tt_mseki'] = df.apply(lambda x : x['tt_mseki'] if x['tt_mseki'] != 0 else x['tt_mseki_avg_hb'] if x['tt_mseki_avg_hb']!= 0 else x['tt_mseki_max_hb']  if x['tt_mseki_max_hb'] != 0 else 0, axis=1)"
   ]
  },
  {
   "cell_type": "raw",
   "metadata": {},
   "source": [
    "# 最後の一つを実現するアイデア\n",
    "# 1. new_tt_msekiがゼロ以外の集合に対して、容積率ごとに建物面積との比率を求める\n",
    "# 1-1 new_tt_mseki != 0の集合を作る\n",
    "# 1-2 容積率yoseki1でgroupbyする\n",
    "# 1-3 一つの容積率についてのDataFrameを取得\n",
    "# 1-4 当該DataFrameでtt_msekiとtc_msekiのそれぞれの合計値を求め、tt_mseki/tc_msekiの比ratioをともめる\n",
    "# 1-5 容積率とratioの組をdictに登録する\n",
    "# 1-6 1-4,1-5を繰り替えす\n",
    "# 2 new_tt_msekiがゼロの行について、欠損を補完する\n",
    "# 2-1 new_tt_msekiがゼロの行について、dictからratioを取得し、tc_msekiに乗じてnew_tt_msekiにいれる\n",
    "# 2-2 ratioが得られない場合には、tc_msekiと同じ値を入れておく"
   ]
  },
  {
   "cell_type": "code",
   "execution_count": 45,
   "metadata": {
    "collapsed": true
   },
   "outputs": [],
   "source": [
    "# 1-1\n",
    "df2 = df[df['new_tt_mseki']!=0]"
   ]
  },
  {
   "cell_type": "code",
   "execution_count": 48,
   "metadata": {},
   "outputs": [],
   "source": [
    "# 1-2\n",
    "yoseki_gr = df2.groupby('yoseki1')"
   ]
  },
  {
   "cell_type": "code",
   "execution_count": 61,
   "metadata": {},
   "outputs": [
    {
     "name": "stdout",
     "output_type": "stream",
     "text": [
      "{60: 0.7213703173629569, 70: 0.4492136870301564, 80: 0.6715111671534709, 100: 0.6978890128020319, 150: 0.6322218261976077, 160: 0.8223200561384749, 180: 0.7720588235294118, 200: 0.7037397072941732, 300: 1.3259008259462077, 400: 0.8944128188909973}\n"
     ]
    }
   ],
   "source": [
    "ratio_dict = {}\n",
    "for y in yoseki_gr.groups.keys():\n",
    "    # 1-3\n",
    "    d = yoseki_gr.get_group(y)\n",
    "    #1-4\n",
    "    total_tc = d['tc_mseki'].sum()\n",
    "    total_tt = d['tt_mseki'].sum()\n",
    "    ratio = total_tt/total_tc\n",
    "    #1-5\n",
    "    ratio_dict[y]= ratio\n"
   ]
  },
  {
   "cell_type": "code",
   "execution_count": 62,
   "metadata": {},
   "outputs": [],
   "source": [
    "df3 = df[df['new_tt_mseki'] == 0]"
   ]
  },
  {
   "cell_type": "code",
   "execution_count": null,
   "metadata": {
    "collapsed": true
   },
   "outputs": [],
   "source": []
  },
  {
   "cell_type": "code",
   "execution_count": 65,
   "metadata": {
    "collapsed": true
   },
   "outputs": [],
   "source": [
    "def calc_tt_mseki( x ):\n",
    "    yoseki = x['yoseki1']\n",
    "    ratio = ratio_dict[yoseki]\n",
    "    tt_mseki = x['tc_mseki'] * ratio\n",
    "    return tt_mseki"
   ]
  },
  {
   "cell_type": "code",
   "execution_count": 67,
   "metadata": {},
   "outputs": [
    {
     "name": "stderr",
     "output_type": "stream",
     "text": [
      "/anaconda3/lib/python3.6/site-packages/ipykernel_launcher.py:1: SettingWithCopyWarning: \n",
      "A value is trying to be set on a copy of a slice from a DataFrame.\n",
      "Try using .loc[row_indexer,col_indexer] = value instead\n",
      "\n",
      "See the caveats in the documentation: http://pandas.pydata.org/pandas-docs/stable/indexing.html#indexing-view-versus-copy\n",
      "  \"\"\"Entry point for launching an IPython kernel.\n"
     ]
    }
   ],
   "source": [
    "df3['new_tt_mseki'] = df3.apply(calc_tt_mseki, axis=1)"
   ]
  },
  {
   "cell_type": "code",
   "execution_count": null,
   "metadata": {
    "collapsed": true
   },
   "outputs": [],
   "source": []
  },
  {
   "cell_type": "code",
   "execution_count": 15,
   "metadata": {},
   "outputs": [],
   "source": [
    "tmp = jgoto[jgoto['tt_mseki']!=0]"
   ]
  },
  {
   "cell_type": "code",
   "execution_count": 18,
   "metadata": {},
   "outputs": [],
   "source": [
    "g = tmp.groupby('yoseki1')"
   ]
  },
  {
   "cell_type": "code",
   "execution_count": 26,
   "metadata": {},
   "outputs": [],
   "source": [
    "df = jgoto.copy()"
   ]
  },
  {
   "cell_type": "code",
   "execution_count": 38,
   "metadata": {},
   "outputs": [],
   "source": [
    "df['tt_mseki_pro'] = df.apply(lambda x : x['tt_mseki'] if x['tt_mseki'] != 0 else x['tt_mseki_avg_hb'] if x['tt_mseki_avg_hb']!= 0 else x['tt_mseki_max_hb']  if x['tt_mseki_max_hb'] != 0 else 0, axis=1)"
   ]
  },
  {
   "cell_type": "code",
   "execution_count": 39,
   "metadata": {},
   "outputs": [
    {
     "data": {
      "text/plain": [
       "78"
      ]
     },
     "execution_count": 39,
     "metadata": {},
     "output_type": "execute_result"
    }
   ],
   "source": [
    "(df['tt_mseki_pro']==0).sum()"
   ]
  },
  {
   "cell_type": "markdown",
   "metadata": {},
   "source": []
  },
  {
   "cell_type": "code",
   "execution_count": null,
   "metadata": {
    "collapsed": true
   },
   "outputs": [],
   "source": []
  },
  {
   "cell_type": "code",
   "execution_count": null,
   "metadata": {
    "collapsed": true
   },
   "outputs": [],
   "source": []
  },
  {
   "cell_type": "code",
   "execution_count": 23,
   "metadata": {
    "collapsed": true
   },
   "outputs": [],
   "source": [
    "y80_avg = g.get_group(80)"
   ]
  },
  {
   "cell_type": "code",
   "execution_count": 24,
   "metadata": {},
   "outputs": [
    {
     "data": {
      "text/plain": [
       "pandas.core.frame.DataFrame"
      ]
     },
     "execution_count": 24,
     "metadata": {},
     "output_type": "execute_result"
    }
   ],
   "source": [
    "type(y80_avg)"
   ]
  },
  {
   "cell_type": "code",
   "execution_count": null,
   "metadata": {
    "collapsed": true
   },
   "outputs": [],
   "source": [
    "g"
   ]
  },
  {
   "cell_type": "code",
   "execution_count": null,
   "metadata": {
    "collapsed": true
   },
   "outputs": [],
   "source": []
  },
  {
   "cell_type": "code",
   "execution_count": null,
   "metadata": {
    "collapsed": true
   },
   "outputs": [],
   "source": []
  },
  {
   "cell_type": "code",
   "execution_count": null,
   "metadata": {
    "collapsed": true
   },
   "outputs": [],
   "source": []
  },
  {
   "cell_type": "code",
   "execution_count": null,
   "metadata": {
    "collapsed": true
   },
   "outputs": [],
   "source": []
  },
  {
   "cell_type": "markdown",
   "metadata": {},
   "source": [
    "## 6/29 submit1.tsvで使ったRandomForestでは、変数の重要度はどうだったのだろうか\n",
    "今保留になっている号棟データの接道方位や現場データの道路の方位が上位なら、やはり実装が必要と言うことになる"
   ]
  },
  {
   "cell_type": "code",
   "execution_count": 5,
   "metadata": {
    "collapsed": true
   },
   "outputs": [],
   "source": [
    "import pandas as pd\n",
    "import numpy as np\n",
    "from sklearn.ensemble import RandomForestRegressor\n",
    "from sklearn.externals import joblib\n",
    "model = joblib.load('data/randomforest_r1.model')\n",
    "x_train = pd.read_csv('data/processed_train_goto_x.csv')"
   ]
  },
  {
   "cell_type": "code",
   "execution_count": 7,
   "metadata": {
    "collapsed": true
   },
   "outputs": [],
   "source": [
    "x_train = x_train.drop(['id','pj_no'],axis=1)\n",
    "importance = pd.DataFrame(model.feature_importances_, index=x_train.columns)\n",
    "importance.to_csv(\"data/importance_submit1.csv\")"
   ]
  },
  {
   "cell_type": "markdown",
   "metadata": {},
   "source": [
    "⇒importance_submit1にコメント記入した。"
   ]
  },
  {
   "cell_type": "markdown",
   "metadata": {},
   "source": [
    "課題で使うことになっている評価関数(Mean Absolute Percentage Error)をGridSearchCVで使うため、評価関数を自作"
   ]
  },
  {
   "cell_type": "code",
   "execution_count": 8,
   "metadata": {
    "collapsed": true
   },
   "outputs": [],
   "source": [
    "import numpy as np\n",
    "def mean_absolute_percentage_error( y_train: np.array, y_pred: np.array):\n",
    "    diff = 0\n",
    "    n = len(y_train)\n",
    "    for i in range(n):\n",
    "        diff += abs(y_train[i]-y_pred[i])/y_train[i]\n",
    "    score = 100*diff / n\n",
    "    \n",
    "    return score"
   ]
  },
  {
   "cell_type": "code",
   "execution_count": 9,
   "metadata": {
    "collapsed": true
   },
   "outputs": [],
   "source": [
    "t = np.array([100,100,100,100,100])\n",
    "p = np.array([90,110,100,100,100])"
   ]
  },
  {
   "cell_type": "code",
   "execution_count": 10,
   "metadata": {},
   "outputs": [
    {
     "name": "stdout",
     "output_type": "stream",
     "text": [
      "4.0\n"
     ]
    }
   ],
   "source": [
    "print (mean_absolute_percentage_error(t,p))"
   ]
  },
  {
   "cell_type": "markdown",
   "metadata": {},
   "source": [
    "trainとtestのデータから、同じダミー変数列を生成するためのコード"
   ]
  },
  {
   "cell_type": "code",
   "execution_count": 20,
   "metadata": {
    "collapsed": true
   },
   "outputs": [],
   "source": [
    "def create_list( df1, df2, cols ):\n",
    "    names = set()\n",
    "    for col in cols:\n",
    "        for i in range(len(df1)):\n",
    "            name = df1.at[i,col]\n",
    "            if ( type(name) != float ):\n",
    "                names.add(name)\n",
    "        for i in range(len(df2)):\n",
    "            name = df2.at[i,col]\n",
    "            if ( type(name) != float ):\n",
    "                names.add(name)\n",
    "    return sorted(list(names))"
   ]
  },
  {
   "cell_type": "code",
   "execution_count": 21,
   "metadata": {
    "collapsed": true
   },
   "outputs": [],
   "source": [
    "import pandas as pd\n",
    "import numpy as np\n",
    "train = pd.read_csv(\"data/train_genba.tsv\",sep='\\t')\n",
    "test = pd.read_csv(\"data/test_genba.tsv\",sep='\\t')\n",
    "hokakisei_list = create_list(train, test, ['hokakisei1','hokakisei2','hokakisei3','hokakisei4'])"
   ]
  },
  {
   "cell_type": "code",
   "execution_count": 22,
   "metadata": {},
   "outputs": [
    {
     "name": "stdout",
     "output_type": "stream",
     "text": [
      "['43条第1項ただし書き許可', '43条許可', '55条許可', '下水道法', '公拡法', '公有地拡大推進法', '区画整理法', '国土法', '土地区画整理法第７６条', '土壌汚染対策法', '埋蔵文化財', '外壁後退', '安行出羽地区地区計画', '小規模宅地開発', '建築協定', '文化財保護法', '文化財保護法（埋蔵文化財）', '景観地区', '景観法', '東日本大震災復興特別区域法', '東日本震災復興特', '河川法', '特定空港周辺特別措置法', '特定都市河川浸水', '生産緑地法', '自然公園法', '航空法', '農地法', '農地法届出要', '都市公園法', '都市再生特別措置法', '風致地区', '高さ最高限度有', '７６条申請']\n"
     ]
    }
   ],
   "source": [
    "print(hokakisei_list)"
   ]
  },
  {
   "cell_type": "code",
   "execution_count": 24,
   "metadata": {},
   "outputs": [
    {
     "name": "stdout",
     "output_type": "stream",
     "text": [
      "['ごみ置き場前', 'アパート南隣', 'エネファーム付', '三方路', '二方路', '交通量多い', '信号前', '信号近い', '前面道が坂途中', '地役権有', '嫌悪施設隣接', '宅内高低差あり', '床暖房付', '心理的瑕疵あり', '敷延2ｍ絞りあり', '横断歩道前', '眺望良', '行き止まり', '行き止まり途中', '街道沿い', '裏道', '角地', '計画道路', '踏切付近', '車進入困難', '高圧線下']\n"
     ]
    }
   ],
   "source": [
    "train = pd.read_csv(\"data/train_goto.tsv\",sep='\\t')\n",
    "test = pd.read_csv(\"data/train_goto.tsv\",sep='\\t')\n",
    "kobetsu_list = create_list( train, test, ['kobetsu1','kobetsu2','kobetsu3','kobetsu4'])\n",
    "print(kobetsu_list)"
   ]
  },
  {
   "cell_type": "markdown",
   "metadata": {},
   "source": [
    "### 現場データのhokakisei1～4から出現するデータをリストにして返す"
   ]
  },
  {
   "cell_type": "markdown",
   "metadata": {},
   "source": [
    "### 号棟データのkobetsu1～4をダミー変数化する"
   ]
  },
  {
   "cell_type": "code",
   "execution_count": 1,
   "metadata": {
    "collapsed": true
   },
   "outputs": [],
   "source": [
    "def put_name(col, name):\n",
    "    if ( type(name) != float ):\n",
    "        col.add(name)\n",
    "\n",
    "import numpy as np\n",
    "import pandas as pd\n",
    "import math\n",
    "train_goto = pd.read_csv(\"data/train_goto.tsv\",sep='\\t')\n",
    "df = train_goto.copy()\n",
    "\n",
    "cols = set()\n",
    "for i in range(len(df)):\n",
    "    put_name(cols, df.at[i,'kobetsu1'])\n",
    "    put_name(cols, df.at[i,'kobetsu2'])\n",
    "    put_name(cols, df.at[i,'kobetsu3'])\n",
    "    put_name(cols, df.at[i,'kobetsu4'])\n",
    "    \n",
    "kobetsu_map = {'信号近い':'信号前'}\n",
    "df['kobetsu1']=df['kobetsu1'].replace(kobetsu_map)\n",
    "df['kobetsu2']=df['kobetsu2'].replace(kobetsu_map)\n",
    "df['kobetsu3']=df['kobetsu3'].replace(kobetsu_map)\n",
    "df['kobetsu4']=df['kobetsu4'].replace(kobetsu_map)\n",
    "\n",
    "# ステップ２：\n",
    "kobetsu_dict = {}\n",
    "for x in cols:\n",
    "    kobetsu_dict[x] = np.zeros(len(df), dtype=np.int)\n",
    "\n",
    "# ステップ３：\n",
    "for i in range(len(df)):\n",
    "    name = df.at[i,'kobetsu1']\n",
    "    if ( type(name) != float):\n",
    "        kobetsu= kobetsu_dict[name]\n",
    "        kobetsu[i]=1\n",
    "    name = df.at[i,'kobetsu2']\n",
    "    if ( type(name) != float):\n",
    "        kobetsu= kobetsu_dict[name]\n",
    "        kobetsu[i]=1\n",
    "    name = df.at[i,'kobetsu3']\n",
    "    if ( type(name) != float):\n",
    "        kobetsu= kobetsu_dict[name]\n",
    "        kobetsu[i]=1\n",
    "    name = df.at[i,'kobetsu4']\n",
    "    if ( type(name) != float):\n",
    "        kobetsu= kobetsu_dict[name]\n",
    "        kobetsu[i]=1\n",
    "\n",
    "# 元のDataFrameとダミー変数化したものを連結\n",
    "new_genba = pd.concat([df, pd.DataFrame(kobetsu_dict)], axis=1)\n",
    "new_genba.to_csv(\"data/temp.csv\")\n",
    "\n",
    "# 不要になったkobetsu1～kobestu4を削除\n"
   ]
  },
  {
   "cell_type": "code",
   "execution_count": 40,
   "metadata": {},
   "outputs": [
    {
     "data": {
      "text/plain": [
       "{'ごみ置き場前',\n",
       " 'アパート南隣',\n",
       " 'エネファーム付',\n",
       " '三方路',\n",
       " '二方路',\n",
       " '交通量多い',\n",
       " '信号前',\n",
       " '信号近い',\n",
       " '前面道が坂途中',\n",
       " '地役権有',\n",
       " '嫌悪施設隣接',\n",
       " '宅内高低差あり',\n",
       " '床暖房付',\n",
       " '心理的瑕疵あり',\n",
       " '敷延2ｍ絞りあり',\n",
       " '横断歩道前',\n",
       " '眺望良',\n",
       " '行き止まり',\n",
       " '行き止まり途中',\n",
       " '街道沿い',\n",
       " '裏道',\n",
       " '角地',\n",
       " '計画道路',\n",
       " '踏切付近',\n",
       " '車進入困難',\n",
       " '高圧線下'}"
      ]
     },
     "execution_count": 40,
     "metadata": {},
     "output_type": "execute_result"
    }
   ],
   "source": [
    "cols"
   ]
  },
  {
   "cell_type": "code",
   "execution_count": null,
   "metadata": {
    "collapsed": true
   },
   "outputs": [],
   "source": []
  },
  {
   "cell_type": "markdown",
   "metadata": {},
   "source": [
    "### RandomForestを使って特徴量の重要度を求める"
   ]
  },
  {
   "cell_type": "code",
   "execution_count": 2,
   "metadata": {
    "collapsed": true
   },
   "outputs": [],
   "source": [
    "import pandas as pd\n",
    "import numpy as np\n",
    "from sklearn.ensemble import RandomForestRegressor\n",
    "x_train = pd.read_csv('data/processed_train_goto.csv')\n",
    "Y_train = pd.DataFrame(x_train['tc_tanka'])\n",
    "X_train = x_train.drop(['id','pj_no','tc_tanka'],axis=1)"
   ]
  },
  {
   "cell_type": "code",
   "execution_count": 3,
   "metadata": {},
   "outputs": [
    {
     "name": "stderr",
     "output_type": "stream",
     "text": [
      "C:\\Users\\satos\\Anaconda3\\lib\\site-packages\\sklearn\\ensemble\\forest.py:246: FutureWarning: The default value of n_estimators will change from 10 in version 0.20 to 100 in 0.22.\n",
      "  \"10 in version 0.20 to 100 in 0.22.\", FutureWarning)\n"
     ]
    },
    {
     "data": {
      "text/plain": [
       "RandomForestRegressor(bootstrap=True, criterion='mse', max_depth=None,\n",
       "           max_features='auto', max_leaf_nodes=None,\n",
       "           min_impurity_decrease=0.0, min_impurity_split=None,\n",
       "           min_samples_leaf=1, min_samples_split=2,\n",
       "           min_weight_fraction_leaf=0.0, n_estimators=10, n_jobs=None,\n",
       "           oob_score=False, random_state=None, verbose=0, warm_start=False)"
      ]
     },
     "execution_count": 3,
     "metadata": {},
     "output_type": "execute_result"
    }
   ],
   "source": [
    "model = RandomForestRegressor()\n",
    "model.fit(X_train.values, Y_train.values.ravel())"
   ]
  },
  {
   "cell_type": "code",
   "execution_count": 4,
   "metadata": {},
   "outputs": [
    {
     "name": "stdout",
     "output_type": "stream",
     "text": [
      "Index(['tc_mseki', 'tt_mseki', 'fukuin', 'road_st', 'magutchi', 'niwasaki',\n",
      "       'garage', 'chiseki_js_hb', 'chiseki_kb_hb', 'josui',\n",
      "       ...\n",
      "       '信号近い', '踏切付近', '地役権有', '行き止まり途中', '嫌悪施設隣接', '眺望良', '敷延2ｍ絞りあり',\n",
      "       'ごみ置き場前', '前面道が坂途中', 'エネファーム付'],\n",
      "      dtype='object', length=261)\n"
     ]
    }
   ],
   "source": [
    "print(X_train.columns)"
   ]
  },
  {
   "cell_type": "code",
   "execution_count": 5,
   "metadata": {
    "collapsed": true
   },
   "outputs": [],
   "source": [
    "importance = pd.DataFrame(model.feature_importances_.reshape(1,len(model.feature_importances_)), columns=X_train.columns)\n",
    "importance.to_csv(\"data/importance1.csv\")\n",
    "# ⇒　横に長い一覧表になる"
   ]
  },
  {
   "cell_type": "code",
   "execution_count": 6,
   "metadata": {
    "collapsed": true
   },
   "outputs": [],
   "source": [
    "importance = pd.DataFrame(model.feature_importances_, index=X_train.columns)\n",
    "importance.to_csv(\"data/importance2.csv\")\n",
    "# ⇒縦に長い一覧表になる"
   ]
  },
  {
   "cell_type": "markdown",
   "metadata": {},
   "source": [
    "### 四つの列からなる法規制列のダミー変数化を行う\n",
    "ダミー変数化の前には、同一だが違う名前のついているデータを一意にする\n"
   ]
  },
  {
   "cell_type": "code",
   "execution_count": 1,
   "metadata": {
    "collapsed": true
   },
   "outputs": [],
   "source": [
    "import numpy as np\n",
    "import pandas as pd\n",
    "import math\n",
    "train_genba = pd.read_csv(\"data/train_genba.tsv\",sep='\\t')"
   ]
  },
  {
   "cell_type": "markdown",
   "metadata": {},
   "source": [
    "#### 統一が必要なカラム\n",
    "- 公拡法　と　公有地拡大推進法　⇒　公拡法へ\n",
    "- 埋蔵文化財　と　文化財保護法　と　文化財保護法（埋蔵文化財）　⇒　埋蔵文化財へ\n",
    "- 景観法　と　景観地区　⇒　景観法へ\n",
    "- 東日本震災復興特　と　東日本大震災復興特別区域法　⇒　東日本震災復興特　へ\n",
    "- 農地法　と　農地法届出要　⇒　農地法　へ"
   ]
  },
  {
   "cell_type": "markdown",
   "metadata": {},
   "source": [
    "#### 法規制のうち、出現回数が1,2回のものがある。⇒　出現階数が４以上のものに絞ると次のように。本当に絞るかはRandomForestの重要度を見てから決めることにする。\n",
    "- 公拡法 あわせて１９回\n",
    "- 区画整理法 4回\n",
    "- 国土法　11回\n",
    "- 埋蔵文化財 75+2+39回\n",
    "- 景観法 549+23回\n",
    "- 東日本震災復興特 7+1回\n",
    "- 河川法 10回\n",
    "- 自然公園法 9回\n",
    "- 航空法 19回\n",
    "- 農地法 270+15回\n",
    "- 風致地区 １９回"
   ]
  },
  {
   "cell_type": "code",
   "execution_count": 32,
   "metadata": {
    "collapsed": true
   },
   "outputs": [],
   "source": [
    "# ステップ１：　hokaisei1〜4に対して法規制の名称の統一をする \n",
    "# ステップ２：対象とする法規制のダミー変数列を作る\n",
    "# ステップ3：ダミー変数化する\n",
    "\n",
    "def put_name(col, name):\n",
    "    if ( type(name) != float ):\n",
    "        col.add(name)\n",
    "\n",
    "# ステップ１：\n",
    "train_genba = pd.read_csv(\"data/train_genba.tsv\",sep='\\t')\n",
    "df = train_genba.copy()\n",
    "kisei_map = {'公有地拡大推進法':'公拡法', '文化財保護法':'埋蔵文化財', '文化財保護法（埋蔵文化財）':'埋蔵文化財', '景観地区':'景観法','東日本大震災復興特別区域法':'東日本震災復興特', '農地法届出要':'農地法　'}\n",
    "#kisei_map = {'公有地拡大推進法':'公拡法', '文化財保護法':'埋蔵文化財', '文化財保護法（埋蔵文化財）　':'埋蔵文化財','景観地区':'景観法','東日本大震災復興特別区域法':'東日本震災復興特'}\n",
    "\n",
    "df['hokakisei1']=df['hokakisei1'].replace(kisei_map)\n",
    "df['hokakisei2']=df['hokakisei2'].replace(kisei_map)\n",
    "df['hokakisei3']=df['hokakisei3'].replace(kisei_map)\n",
    "df['hokakisei4']=df['hokakisei4'].replace(kisei_map)\n",
    "\n",
    "cols = set()\n",
    "for i in range(len(train_genba)):\n",
    "    put_name(cols, df.at[i,'hokakisei1'])\n",
    "    put_name(cols, df.at[i,'hokakisei2'])\n",
    "    put_name(cols, df.at[i,'hokakisei3'])\n",
    "    put_name(cols, df.at[i,'hokakisei4'])\n",
    "\n",
    "# ステップ２：\n",
    "kisei_dict = {}\n",
    "for x in cols:\n",
    "    kisei_dict[x] = np.zeros(len(df), dtype=np.int)\n",
    "\n",
    "# ステップ３：\n",
    "for i in range(len(df)):\n",
    "    name = df.at[i,'hokakisei1']\n",
    "    if ( type(name) != float):\n",
    "        kisei = kisei_dict[name]\n",
    "        kisei[i]=1\n",
    "    name = df.at[i,'hokakisei2']\n",
    "    if ( type(name) != float):\n",
    "        kisei = kisei_dict[name]\n",
    "        kisei[i]=1\n",
    "    name = df.at[i,'hokakisei3']\n",
    "    if ( type(name) != float):\n",
    "        kisei = kisei_dict[name]\n",
    "        kisei[i]=1\n",
    "    name = df.at[i,'hokakisei4']\n",
    "    if ( type(name) != float):\n",
    "        kisei = kisei_dict[name]\n",
    "        kisei[i]=1\n",
    "\n",
    "# 元のDataFrameとダミー変数化したものを連結\n",
    "new_genba = pd.concat([df, pd.DataFrame(kisei_dict)], axis=1)\n",
    "new_genba.to_csv(\"data/temp.csv\")\n",
    "\n",
    "\n",
    "\n"
   ]
  },
  {
   "cell_type": "code",
   "execution_count": null,
   "metadata": {
    "collapsed": true
   },
   "outputs": [],
   "source": []
  },
  {
   "cell_type": "code",
   "execution_count": 20,
   "metadata": {
    "collapsed": true
   },
   "outputs": [],
   "source": [
    "import math"
   ]
  },
  {
   "cell_type": "code",
   "execution_count": 2,
   "metadata": {},
   "outputs": [
    {
     "data": {
      "text/html": [
       "<div>\n",
       "<style>\n",
       "    .dataframe thead tr:only-child th {\n",
       "        text-align: right;\n",
       "    }\n",
       "\n",
       "    .dataframe thead th {\n",
       "        text-align: left;\n",
       "    }\n",
       "\n",
       "    .dataframe tbody tr th {\n",
       "        vertical-align: top;\n",
       "    }\n",
       "</style>\n",
       "<table border=\"1\" class=\"dataframe\">\n",
       "  <thead>\n",
       "    <tr style=\"text-align: right;\">\n",
       "      <th></th>\n",
       "      <th>43条許可</th>\n",
       "      <th>55条許可</th>\n",
       "      <th>下水道法</th>\n",
       "      <th>公拡法</th>\n",
       "      <th>公有地拡大推進法</th>\n",
       "      <th>区画整理法</th>\n",
       "      <th>国土法</th>\n",
       "      <th>土壌汚染対策法</th>\n",
       "      <th>埋蔵文化財</th>\n",
       "      <th>外壁後退</th>\n",
       "      <th>...</th>\n",
       "      <th>河川法</th>\n",
       "      <th>特定空港周辺特別措置法</th>\n",
       "      <th>自然公園法</th>\n",
       "      <th>航空法</th>\n",
       "      <th>農地法</th>\n",
       "      <th>農地法届出要</th>\n",
       "      <th>都市再生特別措置法</th>\n",
       "      <th>風致地区</th>\n",
       "      <th>高さ最高限度有</th>\n",
       "      <th>７６条申請</th>\n",
       "    </tr>\n",
       "  </thead>\n",
       "  <tbody>\n",
       "    <tr>\n",
       "      <th>0</th>\n",
       "      <td>0</td>\n",
       "      <td>0</td>\n",
       "      <td>0</td>\n",
       "      <td>0</td>\n",
       "      <td>0</td>\n",
       "      <td>0</td>\n",
       "      <td>0</td>\n",
       "      <td>0</td>\n",
       "      <td>0</td>\n",
       "      <td>0</td>\n",
       "      <td>...</td>\n",
       "      <td>0</td>\n",
       "      <td>0</td>\n",
       "      <td>0</td>\n",
       "      <td>0</td>\n",
       "      <td>0</td>\n",
       "      <td>0</td>\n",
       "      <td>0</td>\n",
       "      <td>0</td>\n",
       "      <td>0</td>\n",
       "      <td>0</td>\n",
       "    </tr>\n",
       "    <tr>\n",
       "      <th>1</th>\n",
       "      <td>0</td>\n",
       "      <td>0</td>\n",
       "      <td>0</td>\n",
       "      <td>0</td>\n",
       "      <td>0</td>\n",
       "      <td>0</td>\n",
       "      <td>0</td>\n",
       "      <td>0</td>\n",
       "      <td>0</td>\n",
       "      <td>0</td>\n",
       "      <td>...</td>\n",
       "      <td>0</td>\n",
       "      <td>0</td>\n",
       "      <td>0</td>\n",
       "      <td>0</td>\n",
       "      <td>1</td>\n",
       "      <td>0</td>\n",
       "      <td>0</td>\n",
       "      <td>0</td>\n",
       "      <td>0</td>\n",
       "      <td>0</td>\n",
       "    </tr>\n",
       "    <tr>\n",
       "      <th>2</th>\n",
       "      <td>0</td>\n",
       "      <td>0</td>\n",
       "      <td>0</td>\n",
       "      <td>0</td>\n",
       "      <td>0</td>\n",
       "      <td>0</td>\n",
       "      <td>0</td>\n",
       "      <td>0</td>\n",
       "      <td>0</td>\n",
       "      <td>0</td>\n",
       "      <td>...</td>\n",
       "      <td>0</td>\n",
       "      <td>0</td>\n",
       "      <td>0</td>\n",
       "      <td>0</td>\n",
       "      <td>0</td>\n",
       "      <td>0</td>\n",
       "      <td>0</td>\n",
       "      <td>0</td>\n",
       "      <td>0</td>\n",
       "      <td>0</td>\n",
       "    </tr>\n",
       "    <tr>\n",
       "      <th>3</th>\n",
       "      <td>0</td>\n",
       "      <td>0</td>\n",
       "      <td>0</td>\n",
       "      <td>0</td>\n",
       "      <td>0</td>\n",
       "      <td>0</td>\n",
       "      <td>0</td>\n",
       "      <td>0</td>\n",
       "      <td>0</td>\n",
       "      <td>0</td>\n",
       "      <td>...</td>\n",
       "      <td>0</td>\n",
       "      <td>0</td>\n",
       "      <td>0</td>\n",
       "      <td>0</td>\n",
       "      <td>0</td>\n",
       "      <td>0</td>\n",
       "      <td>0</td>\n",
       "      <td>0</td>\n",
       "      <td>0</td>\n",
       "      <td>0</td>\n",
       "    </tr>\n",
       "    <tr>\n",
       "      <th>4</th>\n",
       "      <td>0</td>\n",
       "      <td>0</td>\n",
       "      <td>0</td>\n",
       "      <td>0</td>\n",
       "      <td>0</td>\n",
       "      <td>0</td>\n",
       "      <td>0</td>\n",
       "      <td>0</td>\n",
       "      <td>1</td>\n",
       "      <td>0</td>\n",
       "      <td>...</td>\n",
       "      <td>0</td>\n",
       "      <td>0</td>\n",
       "      <td>0</td>\n",
       "      <td>0</td>\n",
       "      <td>0</td>\n",
       "      <td>0</td>\n",
       "      <td>0</td>\n",
       "      <td>0</td>\n",
       "      <td>0</td>\n",
       "      <td>0</td>\n",
       "    </tr>\n",
       "  </tbody>\n",
       "</table>\n",
       "<p>5 rows × 28 columns</p>\n",
       "</div>"
      ],
      "text/plain": [
       "   43条許可  55条許可  下水道法  公拡法  公有地拡大推進法  区画整理法  国土法  土壌汚染対策法  埋蔵文化財  外壁後退  ...    \\\n",
       "0      0      0     0    0         0      0    0        0      0     0  ...     \n",
       "1      0      0     0    0         0      0    0        0      0     0  ...     \n",
       "2      0      0     0    0         0      0    0        0      0     0  ...     \n",
       "3      0      0     0    0         0      0    0        0      0     0  ...     \n",
       "4      0      0     0    0         0      0    0        0      1     0  ...     \n",
       "\n",
       "   河川法  特定空港周辺特別措置法  自然公園法  航空法  農地法  農地法届出要  都市再生特別措置法  風致地区  高さ最高限度有  ７６条申請  \n",
       "0    0            0      0    0    0       0          0     0        0      0  \n",
       "1    0            0      0    0    1       0          0     0        0      0  \n",
       "2    0            0      0    0    0       0          0     0        0      0  \n",
       "3    0            0      0    0    0       0          0     0        0      0  \n",
       "4    0            0      0    0    0       0          0     0        0      0  \n",
       "\n",
       "[5 rows x 28 columns]"
      ]
     },
     "execution_count": 2,
     "metadata": {},
     "output_type": "execute_result"
    }
   ],
   "source": [
    "cols = set()\n",
    "for i in range(len(train_genba)):\n",
    "    name = train_genba.at[i,'hokakisei1']\n",
    "    if ( type(name) != float):\n",
    "        cols.add(name)\n",
    "    name = train_genba.at[i,'hokakisei2']\n",
    "    if ( type(name) != float):\n",
    "        cols.add(name)\n",
    "    name = train_genba.at[i,'hokakisei3']\n",
    "    if ( type(name) != float):\n",
    "        cols.add(name)\n",
    "    name = train_genba.at[i,'hokakisei4']\n",
    "    if ( type(name) != float):\n",
    "        cols.add(name)\n",
    "\n",
    "kisei_dict = {}\n",
    "for x in cols:\n",
    "    kisei_dict[x] = np.zeros(len(train_genba),dtype=np.int)\n",
    "    \n",
    "for i in range(len(train_genba)):\n",
    "    name = train_genba.at[i,'hokakisei1']\n",
    "    if ( type(name) != float):\n",
    "        kisei = kisei_dict[name]\n",
    "        kisei[i]=1\n",
    "    name = train_genba.at[i,'hokakisei2']\n",
    "    if ( type(name) != float):\n",
    "        kisei = kisei_dict[name]\n",
    "        kisei[i]=1\n",
    "    name = train_genba.at[i,'hokakisei3']\n",
    "    if ( type(name) != float):\n",
    "        kisei = kisei_dict[name]\n",
    "        kisei[i]=1\n",
    "    name = train_genba.at[i,'hokakisei4']\n",
    "    if ( type(name) != float):\n",
    "        kisei = kisei_dict[name]\n",
    "        kisei[i]=1\n",
    "\n",
    "kisei_df = pd.DataFrame(kisei_dict)\n",
    "kisei_df.head()"
   ]
  },
  {
   "cell_type": "code",
   "execution_count": 50,
   "metadata": {},
   "outputs": [
    {
     "data": {
      "text/html": [
       "<div>\n",
       "<style scoped>\n",
       "    .dataframe tbody tr th:only-of-type {\n",
       "        vertical-align: middle;\n",
       "    }\n",
       "\n",
       "    .dataframe tbody tr th {\n",
       "        vertical-align: top;\n",
       "    }\n",
       "\n",
       "    .dataframe thead th {\n",
       "        text-align: right;\n",
       "    }\n",
       "</style>\n",
       "<table border=\"1\" class=\"dataframe\">\n",
       "  <thead>\n",
       "    <tr style=\"text-align: right;\">\n",
       "      <th></th>\n",
       "      <th>pj_no</th>\n",
       "      <th>jukyo</th>\n",
       "      <th>chiseki_js_hb</th>\n",
       "      <th>chiseki_kb_hb</th>\n",
       "      <th>yoto1</th>\n",
       "      <th>yoto2</th>\n",
       "      <th>kempei1</th>\n",
       "      <th>kempei2</th>\n",
       "      <th>yoseki1</th>\n",
       "      <th>yoseki2</th>\n",
       "      <th>...</th>\n",
       "      <th>bas_toho1</th>\n",
       "      <th>eki_kyori1</th>\n",
       "      <th>bastei_nm1</th>\n",
       "      <th>teiho1</th>\n",
       "      <th>rosen_nm2</th>\n",
       "      <th>eki_nm2</th>\n",
       "      <th>bas_toho2</th>\n",
       "      <th>eki_kyori2</th>\n",
       "      <th>bastei_nm2</th>\n",
       "      <th>teiho2</th>\n",
       "    </tr>\n",
       "  </thead>\n",
       "  <tbody>\n",
       "    <tr>\n",
       "      <th>2776</th>\n",
       "      <td>2776</td>\n",
       "      <td>埼玉県越谷市大字下間久里</td>\n",
       "      <td>110.22</td>\n",
       "      <td>109.94</td>\n",
       "      <td>第一種中高層住居専用地域</td>\n",
       "      <td>NaN</td>\n",
       "      <td>60</td>\n",
       "      <td>0.0</td>\n",
       "      <td>200</td>\n",
       "      <td>0.0</td>\n",
       "      <td>...</td>\n",
       "      <td>徒歩</td>\n",
       "      <td>21</td>\n",
       "      <td>NaN</td>\n",
       "      <td>NaN</td>\n",
       "      <td>NaN</td>\n",
       "      <td>NaN</td>\n",
       "      <td>NaN</td>\n",
       "      <td>NaN</td>\n",
       "      <td>NaN</td>\n",
       "      <td>NaN</td>\n",
       "    </tr>\n",
       "    <tr>\n",
       "      <th>2777</th>\n",
       "      <td>2777</td>\n",
       "      <td>埼玉県さいたま市岩槻区加倉</td>\n",
       "      <td>418.26</td>\n",
       "      <td>418.26</td>\n",
       "      <td>第一種低層住居専用地域</td>\n",
       "      <td>NaN</td>\n",
       "      <td>50</td>\n",
       "      <td>0.0</td>\n",
       "      <td>80</td>\n",
       "      <td>0.0</td>\n",
       "      <td>...</td>\n",
       "      <td>徒歩</td>\n",
       "      <td>12</td>\n",
       "      <td>NaN</td>\n",
       "      <td>NaN</td>\n",
       "      <td>NaN</td>\n",
       "      <td>NaN</td>\n",
       "      <td>NaN</td>\n",
       "      <td>NaN</td>\n",
       "      <td>NaN</td>\n",
       "      <td>NaN</td>\n",
       "    </tr>\n",
       "    <tr>\n",
       "      <th>2778</th>\n",
       "      <td>2778</td>\n",
       "      <td>埼玉県久喜市栗橋中央</td>\n",
       "      <td>429.40</td>\n",
       "      <td>429.40</td>\n",
       "      <td>第一種住居地域</td>\n",
       "      <td>NaN</td>\n",
       "      <td>60</td>\n",
       "      <td>0.0</td>\n",
       "      <td>200</td>\n",
       "      <td>0.0</td>\n",
       "      <td>...</td>\n",
       "      <td>徒歩</td>\n",
       "      <td>8</td>\n",
       "      <td>NaN</td>\n",
       "      <td>NaN</td>\n",
       "      <td>東武日光線</td>\n",
       "      <td>栗橋</td>\n",
       "      <td>徒歩</td>\n",
       "      <td>8.0</td>\n",
       "      <td>NaN</td>\n",
       "      <td>NaN</td>\n",
       "    </tr>\n",
       "    <tr>\n",
       "      <th>2779</th>\n",
       "      <td>2779</td>\n",
       "      <td>埼玉県鴻巣市北新宿</td>\n",
       "      <td>917.32</td>\n",
       "      <td>917.32</td>\n",
       "      <td>第一種中高層住居専用地域</td>\n",
       "      <td>NaN</td>\n",
       "      <td>60</td>\n",
       "      <td>0.0</td>\n",
       "      <td>150</td>\n",
       "      <td>0.0</td>\n",
       "      <td>...</td>\n",
       "      <td>徒歩</td>\n",
       "      <td>14</td>\n",
       "      <td>NaN</td>\n",
       "      <td>NaN</td>\n",
       "      <td>NaN</td>\n",
       "      <td>NaN</td>\n",
       "      <td>NaN</td>\n",
       "      <td>NaN</td>\n",
       "      <td>NaN</td>\n",
       "      <td>NaN</td>\n",
       "    </tr>\n",
       "    <tr>\n",
       "      <th>2780</th>\n",
       "      <td>2780</td>\n",
       "      <td>埼玉県川口市領家</td>\n",
       "      <td>617.38</td>\n",
       "      <td>616.71</td>\n",
       "      <td>準工業地域</td>\n",
       "      <td>NaN</td>\n",
       "      <td>60</td>\n",
       "      <td>0.0</td>\n",
       "      <td>200</td>\n",
       "      <td>0.0</td>\n",
       "      <td>...</td>\n",
       "      <td>バス</td>\n",
       "      <td>18</td>\n",
       "      <td>NaN</td>\n",
       "      <td>2.0</td>\n",
       "      <td>NaN</td>\n",
       "      <td>NaN</td>\n",
       "      <td>NaN</td>\n",
       "      <td>NaN</td>\n",
       "      <td>NaN</td>\n",
       "      <td>NaN</td>\n",
       "    </tr>\n",
       "  </tbody>\n",
       "</table>\n",
       "<p>5 rows × 140 columns</p>\n",
       "</div>"
      ],
      "text/plain": [
       "      pj_no          jukyo  chiseki_js_hb  chiseki_kb_hb         yoto1 yoto2  \\\n",
       "2776   2776   埼玉県越谷市大字下間久里         110.22         109.94  第一種中高層住居専用地域   NaN   \n",
       "2777   2777  埼玉県さいたま市岩槻区加倉         418.26         418.26   第一種低層住居専用地域   NaN   \n",
       "2778   2778     埼玉県久喜市栗橋中央         429.40         429.40       第一種住居地域   NaN   \n",
       "2779   2779      埼玉県鴻巣市北新宿         917.32         917.32  第一種中高層住居専用地域   NaN   \n",
       "2780   2780       埼玉県川口市領家         617.38         616.71         準工業地域   NaN   \n",
       "\n",
       "      kempei1  kempei2  yoseki1  yoseki2  ... bas_toho1 eki_kyori1 bastei_nm1  \\\n",
       "2776       60      0.0      200      0.0  ...        徒歩         21        NaN   \n",
       "2777       50      0.0       80      0.0  ...        徒歩         12        NaN   \n",
       "2778       60      0.0      200      0.0  ...        徒歩          8        NaN   \n",
       "2779       60      0.0      150      0.0  ...        徒歩         14        NaN   \n",
       "2780       60      0.0      200      0.0  ...        バス         18        NaN   \n",
       "\n",
       "     teiho1  rosen_nm2  eki_nm2  bas_toho2  eki_kyori2  bastei_nm2  teiho2  \n",
       "2776    NaN        NaN      NaN        NaN         NaN         NaN     NaN  \n",
       "2777    NaN        NaN      NaN        NaN         NaN         NaN     NaN  \n",
       "2778    NaN      東武日光線       栗橋         徒歩         8.0         NaN     NaN  \n",
       "2779    NaN        NaN      NaN        NaN         NaN         NaN     NaN  \n",
       "2780    2.0        NaN      NaN        NaN         NaN         NaN     NaN  \n",
       "\n",
       "[5 rows x 140 columns]"
      ]
     },
     "execution_count": 50,
     "metadata": {},
     "output_type": "execute_result"
    }
   ],
   "source": [
    " train_genba.tail()"
   ]
  },
  {
   "cell_type": "code",
   "execution_count": 3,
   "metadata": {
    "collapsed": true
   },
   "outputs": [],
   "source": [
    "new_tgenba = pd.concat([train_genba, kisei_df], axis=1)"
   ]
  },
  {
   "cell_type": "code",
   "execution_count": 4,
   "metadata": {
    "collapsed": true
   },
   "outputs": [],
   "source": [
    "new_tgenba.to_csv(\"data/temp.csv\")"
   ]
  },
  {
   "cell_type": "code",
   "execution_count": 11,
   "metadata": {
    "collapsed": true
   },
   "outputs": [],
   "source": [
    "pd.DataFrame(kisei_dict).to_csv(\"data/temp.csv\")"
   ]
  },
  {
   "cell_type": "code",
   "execution_count": null,
   "metadata": {
    "collapsed": true
   },
   "outputs": [],
   "source": []
  },
  {
   "cell_type": "markdown",
   "metadata": {},
   "source": [
    "##### 6/22の作業"
   ]
  },
  {
   "cell_type": "code",
   "execution_count": null,
   "metadata": {
    "collapsed": true
   },
   "outputs": [],
   "source": [
    "df = pd.DataFrame()\n",
    "df['pj']=prod_goto['pj_no']"
   ]
  },
  {
   "cell_type": "code",
   "execution_count": null,
   "metadata": {
    "collapsed": true
   },
   "outputs": [],
   "source": [
    "df['tc_mseki'] = prod_goto['tc_mseki']"
   ]
  },
  {
   "cell_type": "code",
   "execution_count": null,
   "metadata": {
    "collapsed": true
   },
   "outputs": [],
   "source": [
    "df[['tt_mseki', 'fukuin']]=prod_goto[['tt_mseki','fukuin']]"
   ]
  },
  {
   "cell_type": "markdown",
   "metadata": {},
   "source": [
    "ここからモデル作成と予測をするコードを書く"
   ]
  },
  {
   "cell_type": "code",
   "execution_count": 1,
   "metadata": {
    "collapsed": true
   },
   "outputs": [],
   "source": [
    "import pandas as pd\n",
    "import numpy as np\n",
    "import xgboost as xgb \n",
    "from xgboost import XGBClassifier "
   ]
  },
  {
   "cell_type": "code",
   "execution_count": 2,
   "metadata": {
    "collapsed": true
   },
   "outputs": [],
   "source": [
    "x_train = pd.read_csv('data/processed_train_goto.csv')\n",
    "Y_train = pd.DataFrame(x_train['tc_tanka'])"
   ]
  },
  {
   "cell_type": "code",
   "execution_count": 3,
   "metadata": {
    "collapsed": true
   },
   "outputs": [],
   "source": [
    "X_train = x_train.drop(['id','pj_no','tc_tanka'],axis=1)\n",
    "X_train = X_train.values\n",
    "Y_train = Y_train.values.ravel()"
   ]
  },
  {
   "cell_type": "code",
   "execution_count": null,
   "metadata": {
    "collapsed": true
   },
   "outputs": [],
   "source": [
    "# XGBoostは時間かかりすぎ\n",
    "#  XGB = XGBClassifier(n_estimater=500,n_jobs=-1)\n",
    "# XGB.fit(X_train, Y_train)\n",
    "#\n",
    "# ⇒　RandomForestで重要度を見てから、不要な特徴量を落とすことにする\n",
    "#"
   ]
  },
  {
   "cell_type": "code",
   "execution_count": null,
   "metadata": {
    "collapsed": true
   },
   "outputs": [],
   "source": []
  },
  {
   "cell_type": "code",
   "execution_count": null,
   "metadata": {
    "collapsed": true
   },
   "outputs": [],
   "source": []
  },
  {
   "cell_type": "code",
   "execution_count": null,
   "metadata": {
    "collapsed": true
   },
   "outputs": [],
   "source": []
  },
  {
   "cell_type": "code",
   "execution_count": null,
   "metadata": {
    "collapsed": true
   },
   "outputs": [],
   "source": [
    "df.head()"
   ]
  },
  {
   "cell_type": "code",
   "execution_count": null,
   "metadata": {
    "collapsed": true
   },
   "outputs": [],
   "source": []
  },
  {
   "cell_type": "markdown",
   "metadata": {},
   "source": [
    "#### 6/20の作業"
   ]
  },
  {
   "cell_type": "code",
   "execution_count": null,
   "metadata": {
    "collapsed": true
   },
   "outputs": [],
   "source": [
    "df = train_genba.copy()\n",
    "df['gk_yoc_tm'] = df['gk_yoc_tm'].fillna(df['gk_yoc_tm'].mean())"
   ]
  },
  {
   "cell_type": "code",
   "execution_count": null,
   "metadata": {
    "collapsed": true
   },
   "outputs": [],
   "source": []
  },
  {
   "cell_type": "code",
   "execution_count": null,
   "metadata": {
    "collapsed": true
   },
   "outputs": [],
   "source": [
    "pd.DataFrame(prod_goto.isnull().sum()).to_csv(\"data/null_check.csv\")"
   ]
  },
  {
   "cell_type": "code",
   "execution_count": null,
   "metadata": {
    "collapsed": true
   },
   "outputs": [],
   "source": [
    "import numpy as np\n",
    "import pandas as pd\n",
    "test_goto = pd.read_csv(\"data/processed_test_goto.csv\")\n",
    "pd.DataFrame(test_goto.isnull().sum()).to_csv(\"data/null_check_test.csv\")"
   ]
  },
  {
   "cell_type": "markdown",
   "metadata": {},
   "source": [
    "#### 確認の結果、次のカラムにNULLを含む\n",
    "#### chiseki_kb_hb,kaoku_hb, mseki_rd_hb, mseki_dp_hb, chiseki_diff"
   ]
  },
  {
   "cell_type": "code",
   "execution_count": null,
   "metadata": {
    "collapsed": true
   },
   "outputs": [],
   "source": [
    "    # 間口(magutchi)\n",
    "    # 幅員と同じように補完する。\n",
    "    df['magutchi'] = df['magutchi'].fillna(0)\n",
    "    for i in range(len(df)):\n",
    "        if ( df.at[i,'magutchi'] ==0 ) :\n",
    "            df.at[i,'magutchi'] = df.at[i,'road1_mg']    "
   ]
  },
  {
   "cell_type": "markdown",
   "metadata": {},
   "source": [
    "#### 6/18,19の作業"
   ]
  },
  {
   "cell_type": "code",
   "execution_count": null,
   "metadata": {
    "collapsed": true
   },
   "outputs": [],
   "source": [
    "df = train_goto.copy()"
   ]
  },
  {
   "cell_type": "code",
   "execution_count": null,
   "metadata": {
    "collapsed": true
   },
   "outputs": [],
   "source": [
    "genba = pd.read_csv(\"data/processed_train_genba.csv\")"
   ]
  },
  {
   "cell_type": "code",
   "execution_count": null,
   "metadata": {
    "collapsed": true
   },
   "outputs": [],
   "source": [
    "newdf=df.merge(genba, how=\"left\", on='pj_no')"
   ]
  },
  {
   "cell_type": "code",
   "execution_count": null,
   "metadata": {
    "collapsed": true
   },
   "outputs": [],
   "source": [
    "newdf.to_csv(\"data/joined_data.csv\")\n",
    "df = newdf"
   ]
  },
  {
   "cell_type": "code",
   "execution_count": null,
   "metadata": {
    "collapsed": true
   },
   "outputs": [],
   "source": [
    "df['fukuin'] = df['fukuin'].fillna(0)\n",
    "for i in range(len(df)):\n",
    "    if ( df.at[i,'fukuin'] ==0 ) :\n",
    "        df.at[i,'fukuin'] = df.at[i,'road1_fi']"
   ]
  },
  {
   "cell_type": "code",
   "execution_count": null,
   "metadata": {
    "collapsed": true
   },
   "outputs": [],
   "source": [
    "    df['magutchi'] = df['magutchi'].fillna(0)\n",
    "    for i in range(len(df)):\n",
    "        if ( df.at[i,'magutchi'] ==0 ) :\n",
    "            df.at[i,'magutchi'] = df.at[i,'road1_mg']    "
   ]
  },
  {
   "cell_type": "code",
   "execution_count": null,
   "metadata": {
    "collapsed": true
   },
   "outputs": [],
   "source": [
    "df['setsudo_hi' ] = df['setsudo_hi'].fillna('unknown')\n",
    "for i in range(len(df)):\n",
    "    if ( df.at[i,'setsudo_hi']=='unknown'):\n",
    "        df.at[i.'setsudo_hi']=df.at[i,'road1_hk']"
   ]
  },
  {
   "cell_type": "code",
   "execution_count": null,
   "metadata": {
    "collapsed": true
   },
   "outputs": [],
   "source": [
    "df.head()"
   ]
  },
  {
   "cell_type": "code",
   "execution_count": null,
   "metadata": {
    "collapsed": true
   },
   "outputs": [],
   "source": [
    "help(list.append)"
   ]
  },
  {
   "cell_type": "code",
   "execution_count": null,
   "metadata": {
    "collapsed": true
   },
   "outputs": [],
   "source": [
    "df = pd.read_csv('data/processed_train_goto.csv')"
   ]
  },
  {
   "cell_type": "code",
   "execution_count": null,
   "metadata": {
    "collapsed": true
   },
   "outputs": [],
   "source": [
    "df.isnull().sum()"
   ]
  },
  {
   "cell_type": "code",
   "execution_count": null,
   "metadata": {
    "collapsed": true
   },
   "outputs": [],
   "source": []
  },
  {
   "cell_type": "code",
   "execution_count": null,
   "metadata": {
    "collapsed": true
   },
   "outputs": [],
   "source": []
  },
  {
   "cell_type": "code",
   "execution_count": null,
   "metadata": {
    "collapsed": true
   },
   "outputs": [],
   "source": [
    "df.head()"
   ]
  },
  {
   "cell_type": "code",
   "execution_count": null,
   "metadata": {
    "collapsed": true
   },
   "outputs": [],
   "source": []
  },
  {
   "cell_type": "code",
   "execution_count": null,
   "metadata": {
    "collapsed": true
   },
   "outputs": [],
   "source": [
    "df.loc[146,'fukuin']"
   ]
  },
  {
   "cell_type": "code",
   "execution_count": null,
   "metadata": {
    "collapsed": true
   },
   "outputs": [],
   "source": [
    "df['fukuin'] = df['fukuin'].fillna(0)"
   ]
  },
  {
   "cell_type": "code",
   "execution_count": null,
   "metadata": {
    "collapsed": true
   },
   "outputs": [],
   "source": [
    "df['fukuin'].isnull().sum()"
   ]
  },
  {
   "cell_type": "code",
   "execution_count": null,
   "metadata": {
    "collapsed": true
   },
   "outputs": [],
   "source": []
  },
  {
   "cell_type": "code",
   "execution_count": null,
   "metadata": {
    "collapsed": true
   },
   "outputs": [],
   "source": []
  },
  {
   "cell_type": "code",
   "execution_count": null,
   "metadata": {
    "collapsed": true
   },
   "outputs": [],
   "source": []
  },
  {
   "cell_type": "markdown",
   "metadata": {},
   "source": [
    "#### いつのだかわからないコード"
   ]
  },
  {
   "cell_type": "code",
   "execution_count": null,
   "metadata": {
    "collapsed": true
   },
   "outputs": [],
   "source": [
    "df = train_genba.copy()"
   ]
  },
  {
   "cell_type": "code",
   "execution_count": null,
   "metadata": {
    "collapsed": true
   },
   "outputs": [],
   "source": [
    "df[['bus', 'walk']] = df.apply(calculateLogistics, axis=1)"
   ]
  },
  {
   "cell_type": "code",
   "execution_count": null,
   "metadata": {
    "collapsed": true
   },
   "outputs": [],
   "source": [
    "df.loc[0:20,['bas_toho1','eki_kyori1','teiho1','bus','walk']]"
   ]
  },
  {
   "cell_type": "code",
   "execution_count": null,
   "metadata": {
    "collapsed": true
   },
   "outputs": [],
   "source": []
  },
  {
   "cell_type": "markdown",
   "metadata": {},
   "source": [
    "#### 下記は6/16夜の作業"
   ]
  },
  {
   "cell_type": "code",
   "execution_count": null,
   "metadata": {
    "collapsed": true
   },
   "outputs": [],
   "source": [
    "def calculateLogistics(x):\n",
    "    if ( x['bas_toho1'] == 'バス' ):\n",
    "        bus = x['eki_kyori1']\n",
    "        walk = x['teiho1']\n",
    "    else:\n",
    "        bus = 0\n",
    "        walk = x['eki_kyori1']\n",
    "    \n",
    "    return pd.Series([bus, walk])\n",
    "    "
   ]
  },
  {
   "cell_type": "markdown",
   "metadata": {},
   "source": [
    "#### 下記は6/16の作業"
   ]
  },
  {
   "cell_type": "code",
   "execution_count": null,
   "metadata": {
    "collapsed": true
   },
   "outputs": [],
   "source": [
    "df[['yoto','kempei','yoseki']] = df.apply(select_yoto, axis=1)"
   ]
  },
  {
   "cell_type": "code",
   "execution_count": null,
   "metadata": {
    "collapsed": true
   },
   "outputs": [],
   "source": [
    "np.isnan(df.loc[0,'yoto2'])"
   ]
  },
  {
   "cell_type": "code",
   "execution_count": null,
   "metadata": {
    "collapsed": true
   },
   "outputs": [],
   "source": [
    "type(df.loc[26,'yoto2'])==str"
   ]
  },
  {
   "cell_type": "code",
   "execution_count": null,
   "metadata": {
    "collapsed": true
   },
   "outputs": [],
   "source": [
    "df.loc[20,'shu_soon']"
   ]
  },
  {
   "cell_type": "code",
   "execution_count": null,
   "metadata": {
    "collapsed": true
   },
   "outputs": [],
   "source": [
    "df['shu_soon'].map({'○':1, np.NaN:0})"
   ]
  },
  {
   "cell_type": "code",
   "execution_count": null,
   "metadata": {
    "collapsed": true
   },
   "outputs": [],
   "source": [
    "def select_yoto(x):\n",
    "    if ( type(x['yoto2']) == str ):\n",
    "        yoto =x['yoto2']\n",
    "        kempei = x['kempei2']\n",
    "        yoseki =x['yoseki2']\n",
    "    else:\n",
    "        yoto =x['yoto1']\n",
    "        kempei =x['kempei1']\n",
    "        yoseki =x['yoseki1']\n",
    "    \"\"\"\n",
    "    if ( np.isnan(x['yoto2'])):\n",
    "        yoto =x['yoto1']\n",
    "        kempei =x['kempei1']\n",
    "        yoseki =x['yoseki1']\n",
    "    else:\n",
    "        yoto =x['yoto2']\n",
    "        kempei = x['kempei2']\n",
    "        yoseki =x['yoseki2']\n",
    "    \"\"\"\n",
    "    \"\"\"\"\n",
    "    if ( x['yoto2']==np.nan):\n",
    "        yoto =x['yoto1']\n",
    "        kenpei =x['kempek1']\n",
    "        yoseki =x['yoseki1']\n",
    "    elif ( x['kempei1']<x['kempei2']):\n",
    "        yoto =x['yoto1']\n",
    "        kempei = x['kempei1']\n",
    "        yoseki =x['yoseki1']\n",
    "    else:\n",
    "        yoto = x['yoto']=x['yoto1']\n",
    "        kempei = x['kempei']=x['kempei1']\n",
    "        yoseki =x['yoseki1']\n",
    "    \"\"\"\n",
    "    return pd.Series([yoto, kempei, yoseki])\n"
   ]
  },
  {
   "cell_type": "markdown",
   "metadata": {},
   "source": [
    "#### 下記は6/15の作業"
   ]
  },
  {
   "cell_type": "code",
   "execution_count": null,
   "metadata": {
    "collapsed": true
   },
   "outputs": [],
   "source": [
    "df = df.drop('jukyo',axis=1)"
   ]
  },
  {
   "cell_type": "code",
   "execution_count": null,
   "metadata": {
    "collapsed": true
   },
   "outputs": [],
   "source": [
    "# df['yoto'], df['kempei'],df['yoseki']= df.apply(select_yoto,axis=1)\n",
    "df[['yoto','kempei','yoseki']] = df.apply(select_yoto,axis=1)"
   ]
  },
  {
   "cell_type": "code",
   "execution_count": null,
   "metadata": {
    "collapsed": true
   },
   "outputs": [],
   "source": [
    "df.head()"
   ]
  },
  {
   "cell_type": "code",
   "execution_count": null,
   "metadata": {
    "collapsed": true
   },
   "outputs": [],
   "source": [
    "org_df = df.copy()"
   ]
  },
  {
   "cell_type": "code",
   "execution_count": null,
   "metadata": {
    "collapsed": true
   },
   "outputs": [],
   "source": [
    "df['josui'] = df.apply(lambda x: 1 if x['josui']=='公営' else 0, axis=1)"
   ]
  },
  {
   "cell_type": "code",
   "execution_count": null,
   "metadata": {
    "collapsed": true
   },
   "outputs": [],
   "source": [
    "df['gesui'] = df.apply(lambda x: 1 if x['gesui']=='公共下水' else 0, axis=1)"
   ]
  },
  {
   "cell_type": "code",
   "execution_count": null,
   "metadata": {
    "collapsed": true
   },
   "outputs": [],
   "source": [
    "df['gas'] = df.apply(lambda x: 2 if x['gas'] =='都市ガス' else 1 if x['gas'] == '集中プロパン' else 0, axis=1)"
   ]
  },
  {
   "cell_type": "code",
   "execution_count": null,
   "metadata": {
    "collapsed": true
   },
   "outputs": [],
   "source": [
    "df['chiseki_diff'] = df['chiseki_kb_hb']-df['chiseki_js_hb']"
   ]
  },
  {
   "cell_type": "code",
   "execution_count": null,
   "metadata": {
    "collapsed": true
   },
   "outputs": [],
   "source": [
    "a = pd.get_dummies(df[['usui']],drop_first=False)"
   ]
  },
  {
   "cell_type": "code",
   "execution_count": null,
   "metadata": {
    "collapsed": true
   },
   "outputs": [],
   "source": [
    "df2 = pd.merge(df, a, left_index=True, right_index=True)"
   ]
  },
  {
   "cell_type": "code",
   "execution_count": null,
   "metadata": {
    "collapsed": true
   },
   "outputs": [],
   "source": [
    "df = pd.merge(df, pd.get_dummies(df[['usui']],drop_first = False), left_index = True, right_index = True)"
   ]
  },
  {
   "cell_type": "code",
   "execution_count": null,
   "metadata": {
    "collapsed": true
   },
   "outputs": [],
   "source": [
    "df = df.fillna({'tateuri_su': 0})"
   ]
  },
  {
   "cell_type": "code",
   "execution_count": null,
   "metadata": {
    "collapsed": true
   },
   "outputs": [],
   "source": [
    "df = pd.merge(df, pd.get_dummies(df[['road1_hk','road1_sb']],drop_first = False), left_index = True, right_index = True)"
   ]
  },
  {
   "cell_type": "code",
   "execution_count": null,
   "metadata": {
    "collapsed": true
   },
   "outputs": [],
   "source": []
  },
  {
   "cell_type": "code",
   "execution_count": null,
   "metadata": {
    "collapsed": true
   },
   "outputs": [],
   "source": [
    "df['road_num']=df.apply(lambda x: 4 if x['road4_hk']!=np.nan else 3)"
   ]
  },
  {
   "cell_type": "code",
   "execution_count": null,
   "metadata": {
    "collapsed": true
   },
   "outputs": [],
   "source": []
  },
  {
   "cell_type": "code",
   "execution_count": null,
   "metadata": {
    "collapsed": true
   },
   "outputs": [],
   "source": [
    "df['road_num']=df.apply(lambda x: 4 if x['road4_fi']!=0 else 3 if x['road3_fi']!=0 else 2 if x['road2_fi']!=0 else 1, axis=1)"
   ]
  },
  {
   "cell_type": "code",
   "execution_count": null,
   "metadata": {
    "collapsed": true
   },
   "outputs": [],
   "source": [
    "import math"
   ]
  },
  {
   "cell_type": "code",
   "execution_count": null,
   "metadata": {
    "collapsed": true
   },
   "outputs": [],
   "source": [
    "df['road_num']=df.apply(lambda x: 4 if not math.isnan(x['road4_fi']) else 3 if not math.isnan(x['road3_fi']) else 2 if not math.isnan(x['road2_fi']) else 1, axis=1)"
   ]
  },
  {
   "cell_type": "code",
   "execution_count": null,
   "metadata": {
    "collapsed": true
   },
   "outputs": [],
   "source": [
    "df['toshikuiki']=df['toshikuiki2'].fillna('empty')"
   ]
  },
  {
   "cell_type": "code",
   "execution_count": null,
   "metadata": {
    "collapsed": true
   },
   "outputs": [],
   "source": [
    "df['toshikuiki'] = df.apply(lambda x: x['toshikuiki1'] if x['toshikuiki']==\"empty\" else x['toshikuiki2'], axis=1)"
   ]
  },
  {
   "cell_type": "code",
   "execution_count": null,
   "metadata": {
    "collapsed": true
   },
   "outputs": [],
   "source": [
    "df['toshikuiki']"
   ]
  },
  {
   "cell_type": "code",
   "execution_count": null,
   "metadata": {
    "collapsed": true
   },
   "outputs": [],
   "source": []
  },
  {
   "cell_type": "code",
   "execution_count": null,
   "metadata": {
    "collapsed": true
   },
   "outputs": [],
   "source": [
    "df.loc[1549,'toshikuiki2']"
   ]
  },
  {
   "cell_type": "code",
   "execution_count": null,
   "metadata": {
    "collapsed": true
   },
   "outputs": [],
   "source": []
  },
  {
   "cell_type": "code",
   "execution_count": null,
   "metadata": {
    "collapsed": true
   },
   "outputs": [],
   "source": [
    "def select_yoto(x):\n",
    "    if ( x['yoto2']==np.nan):\n",
    "        yoto =x['yoto1']\n",
    "        kenpei =x['kempek1']\n",
    "        yoseki =x['yoseki1']\n",
    "    elif ( x['kempei1']<x['kempei2']):\n",
    "        yoto =x['yoto1']\n",
    "        kempei = x['kempei1']\n",
    "        yoseki =x['yoseki1']\n",
    "    else:\n",
    "        yoto = x['yoto']=x['yoto1']\n",
    "        kempei = x['kempei']=x['kempei1']\n",
    "        yoseki =x['yoseki1']\n",
    "    return pd.Series([yoto, kempei, yoseki])\n"
   ]
  },
  {
   "cell_type": "code",
   "execution_count": null,
   "metadata": {
    "collapsed": true
   },
   "outputs": [],
   "source": []
  },
  {
   "cell_type": "code",
   "execution_count": null,
   "metadata": {
    "collapsed": true
   },
   "outputs": [],
   "source": []
  },
  {
   "cell_type": "code",
   "execution_count": null,
   "metadata": {
    "collapsed": true
   },
   "outputs": [],
   "source": []
  }
 ],
 "metadata": {
  "kernelspec": {
   "display_name": "Python 3",
   "language": "python",
   "name": "python3"
  },
  "language_info": {
   "codemirror_mode": {
    "name": "ipython",
    "version": 3
   },
   "file_extension": ".py",
   "mimetype": "text/x-python",
   "name": "python",
   "nbconvert_exporter": "python",
   "pygments_lexer": "ipython3",
   "version": "3.6.3"
  }
 },
 "nbformat": 4,
 "nbformat_minor": 2
}
