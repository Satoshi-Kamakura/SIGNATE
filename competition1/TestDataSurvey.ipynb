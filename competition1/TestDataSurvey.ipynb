{
 "cells": [
  {
   "cell_type": "markdown",
   "metadata": {},
   "source": [
    "## Trainデータで検証するとMAPEは8.0だが、Testデータを投稿するとMAPEは10以上\n",
    "TrainデータとTestデータとで傾向が異なるものと思われる。どのような差異があるかを検証する"
   ]
  },
  {
   "cell_type": "code",
   "execution_count": 1,
   "metadata": {},
   "outputs": [],
   "source": [
    "import pandas as pd\n",
    "import numpy as np\n",
    "import pandas_profiling as pdp\n",
    "genba = pd.read_csv(\"data/train_genba.tsv\", sep='\\t')\n",
    "goto = pd.read_csv(\"data/train_goto.tsv\",sep='\\t')\n",
    "df_train = goto.merge(genba, how='left', on='pj_no')\n",
    "df_train.to_csv(\"data/joined_train.csv\")"
   ]
  },
  {
   "cell_type": "code",
   "execution_count": 2,
   "metadata": {
    "collapsed": true
   },
   "outputs": [],
   "source": [
    "genba = pd.read_csv(\"data/test_genba.tsv\", sep='\\t')\n",
    "goto = pd.read_csv(\"data/test_goto.tsv\",sep='\\t')\n",
    "df_test = goto.merge(genba, how='left', on='pj_no')\n",
    "df_test.to_csv(\"data/joined_test.csv\")"
   ]
  },
  {
   "cell_type": "code",
   "execution_count": 5,
   "metadata": {},
   "outputs": [],
   "source": [
    "prof = pdp.ProfileReport(df_train)\n",
    "prof.to_file(\"data/train.html\")"
   ]
  },
  {
   "cell_type": "code",
   "execution_count": 6,
   "metadata": {},
   "outputs": [],
   "source": [
    "prof = pdp.ProfileReport(df_test)\n",
    "prof.to_file(\"data/test.html\")"
   ]
  },
  {
   "cell_type": "code",
   "execution_count": 8,
   "metadata": {},
   "outputs": [],
   "source": [
    "prof = pdp.ProfileReport(pd.read_csv(\"data/processed_train_goto_x_v11.csv\"))\n",
    "prof.to_file(\"data/processed_train.html\")"
   ]
  },
  {
   "cell_type": "code",
   "execution_count": 9,
   "metadata": {
    "collapsed": true
   },
   "outputs": [],
   "source": [
    "prof = pdp.ProfileReport(pd.read_csv(\"data/processed_test_goto_x_v11.csv\"))\n",
    "prof.to_file(\"data/processed_test.html\")"
   ]
  },
  {
   "cell_type": "code",
   "execution_count": null,
   "metadata": {
    "collapsed": true
   },
   "outputs": [],
   "source": []
  }
 ],
 "metadata": {
  "kernelspec": {
   "display_name": "Python 3",
   "language": "python",
   "name": "python3"
  },
  "language_info": {
   "codemirror_mode": {
    "name": "ipython",
    "version": 3
   },
   "file_extension": ".py",
   "mimetype": "text/x-python",
   "name": "python",
   "nbconvert_exporter": "python",
   "pygments_lexer": "ipython3",
   "version": "3.6.8"
  }
 },
 "nbformat": 4,
 "nbformat_minor": 2
}
