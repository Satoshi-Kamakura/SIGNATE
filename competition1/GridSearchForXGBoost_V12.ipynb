{
 "cells": [
  {
   "cell_type": "markdown",
   "metadata": {},
   "source": [
    "## GridSearchでXGBoostのパラメタを決める"
   ]
  },
  {
   "cell_type": "code",
   "execution_count": 1,
   "metadata": {},
   "outputs": [],
   "source": [
    "import pandas as pd\n",
    "import numpy as np\n",
    "# GridSearch\n",
    "from sklearn.model_selection import GridSearchCV \n",
    "from sklearn.metrics.scorer import make_scorer\n",
    "# XGBoost\n",
    "import xgboost as xgb\n",
    "from xgboost import XGBRegressor\n",
    "from xgboost import XGBClassifier\n",
    "# Time\n",
    "import time"
   ]
  },
  {
   "cell_type": "code",
   "execution_count": 2,
   "metadata": {},
   "outputs": [],
   "source": [
    "# 評価指標をコンテストで提示されているMean Absolute Percentage Errorにする\n",
    "def mape( y_train: np.array, y_pred: np.array):\n",
    "    diff = 0\n",
    "    n = len(y_train)\n",
    "    for i in range(n):\n",
    "        diff += abs(y_train[i]-y_pred[i])/y_train[i]\n",
    "    score = 100*diff / n\n",
    "    \n",
    "    return score"
   ]
  },
  {
   "cell_type": "code",
   "execution_count": 3,
   "metadata": {},
   "outputs": [],
   "source": [
    "train_x = pd.read_csv(\"data/processed_train_goto_x_v12.csv\").drop(['id','pj_no'],axis=1)\n",
    "train_y = pd.read_csv(\"data/processed_train_goto_y_v12.csv\").drop(['id'], axis=1)"
   ]
  },
  {
   "cell_type": "code",
   "execution_count": 4,
   "metadata": {},
   "outputs": [],
   "source": [
    "params = {\n",
    "    'gamma':0.1\n",
    "}\n",
    "\n",
    "target_params={\n",
    "    'n_estimators':[300,500,700,900],\n",
    "#    'max_depth':[3,4,5],\n",
    "#    'min_child_weight':[1,2,3]\n",
    "\n",
    "}\n",
    "\n",
    "#    'gamma':[0.0,0.1,0.2],\n",
    "#   'subsample':[0.5,0.6,0.7,0.8,0.9,1.0]\n",
    "#    'colsample_bytree':[0.6,0.7,0.8,0.9,1.0],\n",
    "#    'learning_rate':[0.5, 0.2, 0.1, 0.05]"
   ]
  },
  {
   "cell_type": "code",
   "execution_count": 5,
   "metadata": {},
   "outputs": [
    {
     "name": "stdout",
     "output_type": "stream",
     "text": [
      "Fitting 5 folds for each of 4 candidates, totalling 20 fits\n"
     ]
    },
    {
     "name": "stderr",
     "output_type": "stream",
     "text": [
      "[Parallel(n_jobs=-1)]: Using backend LokyBackend with 4 concurrent workers.\n",
      "[Parallel(n_jobs=-1)]: Done  20 out of  20 | elapsed: 14.5min remaining:    0.0s\n",
      "[Parallel(n_jobs=-1)]: Done  20 out of  20 | elapsed: 14.5min finished\n"
     ]
    },
    {
     "name": "stdout",
     "output_type": "stream",
     "text": [
      "Best Parameters: {'n_estimators': 500}\n",
      "Best Score: -10.777443128365404\n",
      "elapsed time:  949.778719721\n"
     ]
    }
   ],
   "source": [
    "my_scorer = make_scorer(mape, greater_is_better=False)\n",
    "gs = GridSearchCV(estimator = XGBRegressor(**params,seed=42),param_grid=target_params, cv=5,n_jobs=-1, scoring=my_scorer,verbose=3)\n",
    "s = time.perf_counter()\n",
    "gs.fit(train_x, train_y.values.ravel())\n",
    "print(f\"Best Parameters: {gs.best_params_}\")\n",
    "print(f\"Best Score: {gs.best_score_}\")\n",
    "e = time.perf_counter()-s\n",
    "print(f\"elapsed time:  {e}\")"
   ]
  },
  {
   "cell_type": "code",
   "execution_count": 6,
   "metadata": {},
   "outputs": [
    {
     "name": "stdout",
     "output_type": "stream",
     "text": [
      "Fitting 5 folds for each of 9 candidates, totalling 45 fits\n"
     ]
    },
    {
     "name": "stderr",
     "output_type": "stream",
     "text": [
      "[Parallel(n_jobs=-1)]: Using backend LokyBackend with 4 concurrent workers.\n",
      "[Parallel(n_jobs=-1)]: Done  24 tasks      | elapsed: 19.6min\n",
      "[Parallel(n_jobs=-1)]: Done  45 out of  45 | elapsed: 36.0min finished\n"
     ]
    },
    {
     "name": "stdout",
     "output_type": "stream",
     "text": [
      "Best Parameters: {'max_depth': 3, 'min_child_weight': 1}\n",
      "Best Score: -10.777443128365404\n",
      "elapsed time:  2236.5697002139996\n"
     ]
    }
   ],
   "source": [
    "params = {\n",
    "    'n_estimators':500,\n",
    "    'gamma':0.1\n",
    "}\n",
    "\n",
    "target_params={\n",
    "    'max_depth':[3,4,5],\n",
    "    'min_child_weight':[1,2,3],\n",
    "}\n",
    "\n",
    "#    'gamma':[0.0,0.1,0.2],\n",
    "#   'subsample':[0.5,0.6,0.7,0.8,0.9,1.0]\n",
    "#    'colsample_bytree':[0.6,0.7,0.8,0.9,1.0],\n",
    "#    'learning_rate':[0.5, 0.2, 0.1, 0.05]\n",
    "\n",
    "my_scorer = make_scorer(mape, greater_is_better=False)\n",
    "gs = GridSearchCV(estimator = XGBRegressor(**params,seed=42),param_grid=target_params, cv=5,n_jobs=-1, scoring=my_scorer,verbose=3)\n",
    "s = time.perf_counter()\n",
    "gs.fit(train_x, train_y.values.ravel())\n",
    "print(f\"Best Parameters: {gs.best_params_}\")\n",
    "print(f\"Best Score: {gs.best_score_}\")\n",
    "e = time.perf_counter()-s\n",
    "print(f\"elapsed time:  {e}\")"
   ]
  },
  {
   "cell_type": "code",
   "execution_count": null,
   "metadata": {},
   "outputs": [],
   "source": [
    "params = {\n",
    "    'n_estimators':500,\n",
    "    'max_depth':3,\n",
    "    'min_child_weight':2\n",
    "}\n",
    "\n",
    "target_params={\n",
    "    'gamma':[0.0,0.1,0.2],\n",
    "    'subsample':[0.7,0.8,0.9,1.0]\n",
    "}\n",
    "\n",
    "#    'gamma':[0.0,0.1,0.2],\n",
    "#   'subsample':[0.5,0.6,0.7,0.8,0.9,1.0]\n",
    "#    'colsample_bytree':[0.6,0.7,0.8,0.9,1.0],\n",
    "#    'learning_rate':[0.5, 0.2, 0.1, 0.05]\n",
    "\n",
    "my_scorer = make_scorer(mape, greater_is_better=False)\n",
    "gs = GridSearchCV(estimator = XGBRegressor(**params,seed=42),param_grid=target_params, cv=5,n_jobs=-1, scoring=my_scorer,verbose=3)\n",
    "s = time.perf_counter()\n",
    "gs.fit(train_x, train_y.values.ravel())\n",
    "print(f\"Best Parameters: {gs.best_params_}\")\n",
    "print(f\"Best Score: {gs.best_score_}\")\n",
    "e = time.perf_counter()-s\n",
    "print(f\"elapsed time:  {e}\")"
   ]
  },
  {
   "cell_type": "code",
   "execution_count": null,
   "metadata": {},
   "outputs": [],
   "source": [
    "params = {\n",
    "    'n_estimators':500,\n",
    "    'max_depth':3,\n",
    "    'min_child_weight':2,\n",
    "    'gamma':0.0,\n",
    "    'subsample':0.9\n",
    "}\n",
    "\n",
    "target_params={\n",
    "    'colsample_bytree':[0.6,0.7,0.8,0.9,1.0],\n",
    "    'learning_rate':[0.5, 0.2, 0.1, 0.05]\n",
    "}\n",
    "\n",
    "#    'gamma':[0.0,0.1,0.2],\n",
    "#   'subsample':[0.5,0.6,0.7,0.8,0.9,1.0]\n",
    "\n",
    "\n",
    "my_scorer = make_scorer(mape, greater_is_better=False)\n",
    "gs = GridSearchCV(estimator = XGBRegressor(**params,seed=42),param_grid=target_params, cv=5,n_jobs=-1, scoring=my_scorer,verbose=3)\n",
    "s = time.perf_counter()\n",
    "gs.fit(train_x, train_y.values.ravel())\n",
    "print(f\"Best Parameters: {gs.best_params_}\")\n",
    "print(f\"Best Score: {gs.best_score_}\")\n",
    "e = time.perf_counter()-s\n",
    "print(f\"elapsed time:  {e}\")"
   ]
  },
  {
   "cell_type": "code",
   "execution_count": null,
   "metadata": {},
   "outputs": [],
   "source": [
    "params = {\n",
    "    'n_estimators':500,\n",
    "    'max_depth':3,\n",
    "    'min_child_weight':2,\n",
    "    'gamma':0.0,\n",
    "    'subsample':0.9,\n",
    "    'colsample_bytree':0.8,\n",
    "    'learning_rate':0.1\n",
    "}"
   ]
  }
 ],
 "metadata": {
  "kernelspec": {
   "display_name": "Python 3",
   "language": "python",
   "name": "python3"
  },
  "language_info": {
   "codemirror_mode": {
    "name": "ipython",
    "version": 3
   },
   "file_extension": ".py",
   "mimetype": "text/x-python",
   "name": "python",
   "nbconvert_exporter": "python",
   "pygments_lexer": "ipython3",
   "version": "3.7.3"
  }
 },
 "nbformat": 4,
 "nbformat_minor": 2
}
