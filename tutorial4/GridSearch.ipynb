{
 "cells": [
  {
   "cell_type": "code",
   "execution_count": 1,
   "metadata": {
    "collapsed": true
   },
   "outputs": [],
   "source": [
    "# データ解析のライブラリ\n",
    "import pandas as pd\n",
    "import numpy as np \n",
    "\n",
    "# Scikit-learn\n",
    "from sklearn.metrics import mean_squared_error\n",
    "from sklearn.model_selection import GridSearchCV \n",
    "from sklearn.ensemble import RandomForestClassifier\n",
    "from sklearn.metrics import confusion_matrix \n",
    "\n",
    "# XGBoost\n",
    "import xgboost as xgb\n",
    "from xgboost import XGBRegressor\n",
    "from xgboost import XGBClassifier\n",
    "\n",
    "import time"
   ]
  },
  {
   "cell_type": "markdown",
   "metadata": {},
   "source": [
    "## データの読み込みと準備"
   ]
  },
  {
   "cell_type": "code",
   "execution_count": 2,
   "metadata": {
    "collapsed": true
   },
   "outputs": [],
   "source": [
    "X_train = pd.read_csv('train_x.csv')\n",
    "Y_train = pd.read_csv('train_y.csv')\n",
    "X_test = pd.read_csv('test_x.csv')\n",
    "Y_test = pd.read_csv('test_y.csv')\n",
    "X_train_in = X_train.values\n",
    "Y_train_in = Y_train.values.ravel()\n",
    "X_test_in = X_test.values\n",
    "Y_test_in = Y_test.values.ravel()"
   ]
  },
  {
   "cell_type": "markdown",
   "metadata": {},
   "source": [
    "### GridSearchの実行"
   ]
  },
  {
   "cell_type": "markdown",
   "metadata": {},
   "source": [
    "### estimatorの探索"
   ]
  },
  {
   "cell_type": "code",
   "execution_count": 22,
   "metadata": {
    "collapsed": true
   },
   "outputs": [],
   "source": [
    "params = { 'n_estimators':[200,300,400]}"
   ]
  },
  {
   "cell_type": "code",
   "execution_count": 23,
   "metadata": {},
   "outputs": [
    {
     "name": "stdout",
     "output_type": "stream",
     "text": [
      "{'n_estimators': 400}\n",
      "0.926125387027\n",
      "elapsed time227.71946811676025\n"
     ]
    }
   ],
   "source": [
    "s = time.time()\n",
    "gs = GridSearchCV(estimator = XGBClassifier(seed=42),param_grid=params, scoring='roc_auc',cv=5,n_jobs=-1)\n",
    "gs.fit(X_train_in, Y_train_in)\n",
    "print(gs.best_params_)\n",
    "print(gs.best_score_)\n",
    "e = time.time()-s\n",
    "print(f\"elapsed time{e}\")"
   ]
  },
  {
   "cell_type": "code",
   "execution_count": 24,
   "metadata": {
    "collapsed": true
   },
   "outputs": [],
   "source": [
    "params = { 'n_estimators':[400,500,600]}"
   ]
  },
  {
   "cell_type": "code",
   "execution_count": 25,
   "metadata": {},
   "outputs": [
    {
     "name": "stdout",
     "output_type": "stream",
     "text": [
      "{'n_estimators': 500}\n",
      "0.926417717295\n",
      "elapsed time294.14839792251587\n"
     ]
    }
   ],
   "source": [
    "s = time.time()\n",
    "gs = GridSearchCV(estimator = XGBClassifier(seed=42),param_grid=params, scoring='roc_auc',cv=5,n_jobs=-1)\n",
    "gs.fit(X_train_in, Y_train_in)\n",
    "print(gs.best_params_)\n",
    "print(gs.best_score_)\n",
    "e = time.time()-s\n",
    "print(f\"elapsed time{e}\")"
   ]
  },
  {
   "cell_type": "code",
   "execution_count": 27,
   "metadata": {
    "collapsed": true
   },
   "outputs": [],
   "source": [
    "# n_estimatorsは500に決定。"
   ]
  },
  {
   "cell_type": "code",
   "execution_count": 28,
   "metadata": {
    "collapsed": true
   },
   "outputs": [],
   "source": [
    "initial_params = {\n",
    "    'n_estimators':500\n",
    "}"
   ]
  },
  {
   "cell_type": "code",
   "execution_count": 29,
   "metadata": {
    "collapsed": true
   },
   "outputs": [],
   "source": [
    "params={\n",
    "    'max_depth':[4,6,10],\n",
    "    'min_child_weight':[4,6,10]\n",
    "}"
   ]
  },
  {
   "cell_type": "code",
   "execution_count": 30,
   "metadata": {},
   "outputs": [
    {
     "name": "stdout",
     "output_type": "stream",
     "text": [
      "{'max_depth': 4, 'min_child_weight': 10}\n",
      "0.926479684757\n",
      "elapsed time6286.767390966415\n"
     ]
    }
   ],
   "source": [
    "gs = GridSearchCV(estimator = XGBClassifier(**initial_params,seed=42),param_grid=params, scoring='roc_auc',cv=5,n_jobs=-1)\n",
    "gs.fit(X_train_in, Y_train_in)\n",
    "print(gs.best_params_)\n",
    "print(gs.best_score_)\n",
    "e = time.time()-s\n",
    "print(f\"elapsed time{e}\")"
   ]
  },
  {
   "cell_type": "code",
   "execution_count": 32,
   "metadata": {
    "collapsed": true
   },
   "outputs": [],
   "source": [
    "initial_params = {\n",
    "    'n_estimators':500,\n",
    "    'min_child_weight':10\n",
    "}\n",
    "params={\n",
    "    'max_depth':[3,4,5],\n",
    "}"
   ]
  },
  {
   "cell_type": "code",
   "execution_count": 33,
   "metadata": {},
   "outputs": [
    {
     "name": "stdout",
     "output_type": "stream",
     "text": [
      "{'max_depth': 4}\n",
      "0.926479684757\n",
      "elapsed time6722.813516139984\n"
     ]
    }
   ],
   "source": [
    "gs = GridSearchCV(estimator = XGBClassifier(**initial_params,seed=42),param_grid=params, scoring='roc_auc',cv=5,n_jobs=-1)\n",
    "gs.fit(X_train_in, Y_train_in)\n",
    "print(gs.best_params_)\n",
    "print(gs.best_score_)\n",
    "e = time.time()-s\n",
    "print(f\"elapsed time{e}\")"
   ]
  },
  {
   "cell_type": "code",
   "execution_count": 34,
   "metadata": {
    "collapsed": true
   },
   "outputs": [],
   "source": [
    "initial_params = {\n",
    "    'n_estimators':500,\n",
    "    'max_depth':4,\n",
    "}\n",
    "params={\n",
    "    'min_child_weight':[8,10,12],\n",
    "}"
   ]
  },
  {
   "cell_type": "code",
   "execution_count": 35,
   "metadata": {},
   "outputs": [
    {
     "name": "stdout",
     "output_type": "stream",
     "text": [
      "{'min_child_weight': 10}\n",
      "0.926479684757\n",
      "elapsed time7191.437421798706\n"
     ]
    }
   ],
   "source": [
    "gs = GridSearchCV(estimator = XGBClassifier(**initial_params,seed=42),param_grid=params, scoring='roc_auc',cv=5,n_jobs=-1)\n",
    "gs.fit(X_train_in, Y_train_in)\n",
    "print(gs.best_params_)\n",
    "print(gs.best_score_)\n",
    "e = time.time()-s\n",
    "print(f\"elapsed time{e}\")"
   ]
  },
  {
   "cell_type": "code",
   "execution_count": 41,
   "metadata": {},
   "outputs": [
    {
     "name": "stdout",
     "output_type": "stream",
     "text": [
      "0.909325469959\n",
      "[[2324  174]\n",
      " [  72  143]]\n"
     ]
    }
   ],
   "source": [
    "Y_test_pred = gs.predict(X_test_in)\n",
    "cmat = confusion_matrix(Y_test_pred, Y_test_in, labels=[0,1])\n",
    "print((cmat[0,0]+cmat[1,1])/len(Y_test_pred))\n",
    "print(cmat)"
   ]
  },
  {
   "cell_type": "code",
   "execution_count": 36,
   "metadata": {
    "collapsed": true
   },
   "outputs": [],
   "source": [
    "initial_params = {\n",
    "    'n_estimators':500,\n",
    "    'max_depth':4,\n",
    "}\n",
    "params={\n",
    "    'min_child_weight':[9,10,11],\n",
    "}"
   ]
  },
  {
   "cell_type": "code",
   "execution_count": 42,
   "metadata": {},
   "outputs": [
    {
     "name": "stdout",
     "output_type": "stream",
     "text": [
      "{'min_child_weight': 9}\n",
      "0.926507244002\n",
      "elapsed time7809.8395919799805\n",
      "0.905270917803\n",
      "[[2322  183]\n",
      " [  74  134]]\n"
     ]
    }
   ],
   "source": [
    "gs = GridSearchCV(estimator = XGBClassifier(**initial_params,seed=42),param_grid=params, scoring='roc_auc',cv=5,n_jobs=-1)\n",
    "gs.fit(X_train_in, Y_train_in)\n",
    "print(gs.best_params_)\n",
    "print(gs.best_score_)\n",
    "e = time.time()-s\n",
    "print(f\"elapsed time{e}\")\n",
    "\n",
    "Y_test_pred = gs.predict(X_test_in)\n",
    "cmat = confusion_matrix(Y_test_pred, Y_test_in, labels=[0,1])\n",
    "print((cmat[0,0]+cmat[1,1])/len(Y_test_pred))\n",
    "print(cmat)"
   ]
  },
  {
   "cell_type": "code",
   "execution_count": 43,
   "metadata": {
    "collapsed": true
   },
   "outputs": [],
   "source": [
    "initial_params = {\n",
    "    'n_estimators':500,\n",
    "    'max_depth':4,\n",
    "    'min_child_weight':9\n",
    "}\n",
    "params = {\n",
    "    'gamma':[0.0,0.1,0.2]\n",
    "}\n"
   ]
  },
  {
   "cell_type": "code",
   "execution_count": 44,
   "metadata": {},
   "outputs": [
    {
     "name": "stdout",
     "output_type": "stream",
     "text": [
      "{'gamma': 0.0}\n",
      "0.926507244002\n",
      "elapsed time8733.908485889435\n",
      "0.905270917803\n",
      "[[2322  183]\n",
      " [  74  134]]\n"
     ]
    }
   ],
   "source": [
    "gs = GridSearchCV(estimator = XGBClassifier(**initial_params,seed=42),param_grid=params, scoring='roc_auc',cv=5,n_jobs=-1)\n",
    "gs.fit(X_train_in, Y_train_in)\n",
    "print(gs.best_params_)\n",
    "print(gs.best_score_)\n",
    "e = time.time()-s\n",
    "print(f\"elapsed time{e}\")\n",
    "\n",
    "Y_test_pred = gs.predict(X_test_in)\n",
    "cmat = confusion_matrix(Y_test_pred, Y_test_in, labels=[0,1])\n",
    "print((cmat[0,0]+cmat[1,1])/len(Y_test_pred))\n",
    "print(cmat)"
   ]
  },
  {
   "cell_type": "code",
   "execution_count": 46,
   "metadata": {
    "collapsed": true
   },
   "outputs": [],
   "source": [
    "initial_params = {\n",
    "    'n_estimators':500,\n",
    "    'max_depth':4,\n",
    "    'min_child_weight':9,\n",
    "    'gamma':0\n",
    "}\n",
    "params = {\n",
    "    'subsample':[0.5,0.6,0.7,0.8,0.9,1.0]\n",
    "}"
   ]
  },
  {
   "cell_type": "code",
   "execution_count": 47,
   "metadata": {},
   "outputs": [
    {
     "name": "stdout",
     "output_type": "stream",
     "text": [
      "{'subsample': 1.0}\n",
      "0.926507244002\n",
      "elapsed time9511.5060338974\n",
      "0.905270917803\n",
      "[[2322  183]\n",
      " [  74  134]]\n"
     ]
    }
   ],
   "source": [
    "gs = GridSearchCV(estimator = XGBClassifier(**initial_params,seed=42),param_grid=params, scoring='roc_auc',cv=5,n_jobs=-1)\n",
    "gs.fit(X_train_in, Y_train_in)\n",
    "print(gs.best_params_)\n",
    "print(gs.best_score_)\n",
    "e = time.time()-s\n",
    "print(f\"elapsed time{e}\")\n",
    "\n",
    "Y_test_pred = gs.predict(X_test_in)\n",
    "cmat = confusion_matrix(Y_test_pred, Y_test_in, labels=[0,1])\n",
    "print((cmat[0,0]+cmat[1,1])/len(Y_test_pred))\n",
    "print(cmat)"
   ]
  },
  {
   "cell_type": "code",
   "execution_count": 49,
   "metadata": {
    "collapsed": true
   },
   "outputs": [],
   "source": [
    "initial_params = {\n",
    "    'n_estimators':500,\n",
    "    'max_depth':4,\n",
    "    'min_child_weight':9,\n",
    "    'gamma':0,\n",
    "    'subsample':1.0,\n",
    "}\n",
    "params = {\n",
    "    'colsample_bytree':[0.6,0.7,0.8,0.9,1.0]\n",
    "}"
   ]
  },
  {
   "cell_type": "code",
   "execution_count": 50,
   "metadata": {},
   "outputs": [
    {
     "name": "stdout",
     "output_type": "stream",
     "text": [
      "{'colsample_bytree': 0.6}\n",
      "0.926961051828\n",
      "elapsed time10826.95302605629\n",
      "0.906745300405\n",
      "[[2327  184]\n",
      " [  69  133]]\n"
     ]
    }
   ],
   "source": [
    "gs = GridSearchCV(estimator = XGBClassifier(**initial_params,seed=42),param_grid=params, scoring='roc_auc',cv=5,n_jobs=-1)\n",
    "gs.fit(X_train_in, Y_train_in)\n",
    "print(gs.best_params_)\n",
    "print(gs.best_score_)\n",
    "e = time.time()-s\n",
    "print(f\"elapsed time{e}\")\n",
    "\n",
    "Y_test_pred = gs.predict(X_test_in)\n",
    "cmat = confusion_matrix(Y_test_pred, Y_test_in, labels=[0,1])\n",
    "print((cmat[0,0]+cmat[1,1])/len(Y_test_pred))\n",
    "print(cmat)"
   ]
  },
  {
   "cell_type": "code",
   "execution_count": 51,
   "metadata": {
    "collapsed": true
   },
   "outputs": [],
   "source": [
    "initial_params = {\n",
    "    'n_estimators':500,\n",
    "    'max_depth':4,\n",
    "    'min_child_weight':9,\n",
    "    'gamma':0,\n",
    "    'subsample':1.0,\n",
    "    'colsample_bytree':0.6\n",
    "}\n",
    "params = {\n",
    "    'learning_rate':[0.5, 0.2, 0.1, 0.05]\n",
    "}"
   ]
  },
  {
   "cell_type": "code",
   "execution_count": 52,
   "metadata": {},
   "outputs": [
    {
     "name": "stdout",
     "output_type": "stream",
     "text": [
      "{'learning_rate': 0.1}\n",
      "0.926961051828\n",
      "elapsed time11388.557144165039\n",
      "0.906745300405\n",
      "[[2327  184]\n",
      " [  69  133]]\n"
     ]
    }
   ],
   "source": [
    "gs = GridSearchCV(estimator = XGBClassifier(**initial_params,seed=42),param_grid=params, scoring='roc_auc',cv=5,n_jobs=-1)\n",
    "gs.fit(X_train_in, Y_train_in)\n",
    "print(gs.best_params_)\n",
    "print(gs.best_score_)\n",
    "e = time.time()-s\n",
    "print(f\"elapsed time{e}\")\n",
    "\n",
    "Y_test_pred = gs.predict(X_test_in)\n",
    "cmat = confusion_matrix(Y_test_pred, Y_test_in, labels=[0,1])\n",
    "print((cmat[0,0]+cmat[1,1])/len(Y_test_pred))\n",
    "print(cmat)"
   ]
  },
  {
   "cell_type": "markdown",
   "metadata": {},
   "source": [
    "### 以上のパラメタでXGBoostの学習をする"
   ]
  },
  {
   "cell_type": "code",
   "execution_count": 3,
   "metadata": {
    "collapsed": true
   },
   "outputs": [],
   "source": [
    "params = {\n",
    "    'n_estimators':500,\n",
    "    'max_depth':4,\n",
    "    'min_child_weight':9,\n",
    "    'gamma':0,\n",
    "    'subsample':1.0,\n",
    "    'colsample_bytree':0.6,\n",
    "    'learning_rate':0.1\n",
    "}"
   ]
  },
  {
   "cell_type": "code",
   "execution_count": 4,
   "metadata": {},
   "outputs": [
    {
     "data": {
      "text/plain": [
       "XGBClassifier(base_score=0.5, booster='gbtree', colsample_bylevel=1,\n",
       "       colsample_bytree=0.6, gamma=0, learning_rate=0.1, max_delta_step=0,\n",
       "       max_depth=4, min_child_weight=9, missing=None, n_estimators=500,\n",
       "       n_jobs=1, nthread=None, objective='binary:logistic', random_state=0,\n",
       "       reg_alpha=0, reg_lambda=1, scale_pos_weight=1, seed=42, silent=True,\n",
       "       subsample=1.0)"
      ]
     },
     "execution_count": 4,
     "metadata": {},
     "output_type": "execute_result"
    }
   ],
   "source": [
    "xgboost_opt = XGBClassifier(**params, seed=42)\n",
    "xgboost_opt.fit(X_train_in, Y_train_in)"
   ]
  },
  {
   "cell_type": "code",
   "execution_count": 5,
   "metadata": {},
   "outputs": [
    {
     "name": "stdout",
     "output_type": "stream",
     "text": [
      "0.906745300405\n",
      "[[2327  184]\n",
      " [  69  133]]\n"
     ]
    }
   ],
   "source": [
    "Y_test_pred = xgboost_opt.predict(X_test_in)\n",
    "cmat = confusion_matrix(Y_test_pred, Y_test_in, labels=[0,1])\n",
    "print((cmat[0,0]+cmat[1,1])/len(Y_test_pred))\n",
    "print(cmat)"
   ]
  },
  {
   "cell_type": "code",
   "execution_count": 7,
   "metadata": {},
   "outputs": [
    {
     "name": "stdout",
     "output_type": "stream",
     "text": [
      "0.927667417571\n",
      "[[21069  1277]\n",
      " [  489  1580]]\n"
     ]
    }
   ],
   "source": [
    "Y_train_pred = xgboost_opt.predict(X_train_in)\n",
    "cmat = confusion_matrix(Y_train_pred, Y_train_in, labels=[0,1])\n",
    "print((cmat[0,0]+cmat[1,1])/len(Y_train_pred))\n",
    "print(cmat)"
   ]
  },
  {
   "cell_type": "markdown",
   "metadata": {},
   "source": [
    "# 試しにRandomForestに同じデータを食わせてみる"
   ]
  },
  {
   "cell_type": "code",
   "execution_count": 10,
   "metadata": {},
   "outputs": [
    {
     "name": "stdout",
     "output_type": "stream",
     "text": [
      "1.0\n",
      "[[21558     0]\n",
      " [    0  2857]]\n"
     ]
    }
   ],
   "source": [
    "rf = RandomForestClassifier(n_estimators = 300, random_state = 42)\n",
    "rf.fit(X_train_in, Y_train_in)"
   ]
  },
  {
   "cell_type": "code",
   "execution_count": 11,
   "metadata": {},
   "outputs": [
    {
     "name": "stdout",
     "output_type": "stream",
     "text": [
      "1.0\n",
      "[[21558     0]\n",
      " [    0  2857]]\n"
     ]
    }
   ],
   "source": [
    "Y_train_pred = rf.predict(X_train_in)\n",
    "cmat = confusion_matrix(Y_train_pred, Y_train_in, labels=[0,1])\n",
    "print((cmat[0,0]+cmat[1,1])/len(Y_train_pred))\n",
    "print(cmat)"
   ]
  },
  {
   "cell_type": "code",
   "execution_count": 12,
   "metadata": {},
   "outputs": [
    {
     "name": "stdout",
     "output_type": "stream",
     "text": [
      "0.909325469959\n",
      "[[2338  188]\n",
      " [  58  129]]\n"
     ]
    }
   ],
   "source": [
    "Y_test_pred = rf.predict(X_test_in)\n",
    "cmat = confusion_matrix(Y_test_pred, Y_test_in, labels=[0,1])\n",
    "print((cmat[0,0]+cmat[1,1])/len(Y_test_pred))\n",
    "print(cmat)"
   ]
  },
  {
   "cell_type": "markdown",
   "metadata": {},
   "source": [
    "## RandomForestで確率を取得してみる"
   ]
  },
  {
   "cell_type": "code",
   "execution_count": 27,
   "metadata": {
    "collapsed": true
   },
   "outputs": [],
   "source": [
    "X_test = pd.read_csv('pred_x.csv')\n",
    "X_test_in = X_test.values"
   ]
  },
  {
   "cell_type": "code",
   "execution_count": 28,
   "metadata": {
    "collapsed": true
   },
   "outputs": [],
   "source": [
    "Y_test_pred = rf.predict_proba(X_test_in)"
   ]
  },
  {
   "cell_type": "code",
   "execution_count": 29,
   "metadata": {},
   "outputs": [
    {
     "data": {
      "text/plain": [
       "array([[ 0.52333333,  0.47666667],\n",
       "       [ 0.51      ,  0.49      ],\n",
       "       [ 0.87666667,  0.12333333],\n",
       "       [ 0.98666667,  0.01333333],\n",
       "       [ 0.49      ,  0.51      ],\n",
       "       [ 0.76666667,  0.23333333],\n",
       "       [ 0.93666667,  0.06333333],\n",
       "       [ 0.84      ,  0.16      ],\n",
       "       [ 0.98666667,  0.01333333],\n",
       "       [ 0.42666667,  0.57333333],\n",
       "       [ 0.92666667,  0.07333333],\n",
       "       [ 0.74      ,  0.26      ],\n",
       "       [ 0.42666667,  0.57333333],\n",
       "       [ 0.97333333,  0.02666667],\n",
       "       [ 0.86333333,  0.13666667],\n",
       "       [ 0.28666667,  0.71333333],\n",
       "       [ 0.94666667,  0.05333333],\n",
       "       [ 0.85333333,  0.14666667],\n",
       "       [ 0.99666667,  0.00333333],\n",
       "       [ 0.99333333,  0.00666667],\n",
       "       [ 0.26666667,  0.73333333],\n",
       "       [ 0.98333333,  0.01666667],\n",
       "       [ 0.95      ,  0.05      ],\n",
       "       [ 0.7       ,  0.3       ],\n",
       "       [ 0.71333333,  0.28666667],\n",
       "       [ 0.91      ,  0.09      ],\n",
       "       [ 0.93666667,  0.06333333],\n",
       "       [ 0.72333333,  0.27666667],\n",
       "       [ 0.91333333,  0.08666667],\n",
       "       [ 0.96      ,  0.04      ],\n",
       "       [ 0.99      ,  0.01      ],\n",
       "       [ 0.66      ,  0.34      ],\n",
       "       [ 0.64666667,  0.35333333],\n",
       "       [ 0.98333333,  0.01666667],\n",
       "       [ 0.92666667,  0.07333333],\n",
       "       [ 0.80666667,  0.19333333],\n",
       "       [ 0.72666667,  0.27333333],\n",
       "       [ 0.77333333,  0.22666667],\n",
       "       [ 0.89333333,  0.10666667],\n",
       "       [ 0.66      ,  0.34      ],\n",
       "       [ 0.74      ,  0.26      ],\n",
       "       [ 0.87333333,  0.12666667],\n",
       "       [ 0.45666667,  0.54333333],\n",
       "       [ 0.37333333,  0.62666667],\n",
       "       [ 0.52333333,  0.47666667]])"
      ]
     },
     "execution_count": 29,
     "metadata": {},
     "output_type": "execute_result"
    }
   ],
   "source": [
    "Y_test_pred[0:45,0:2]"
   ]
  },
  {
   "cell_type": "code",
   "execution_count": 30,
   "metadata": {},
   "outputs": [],
   "source": [
    "submit_file = pd.read_csv('data/submit_sample.csv', names=['id','prob'])"
   ]
  },
  {
   "cell_type": "code",
   "execution_count": 31,
   "metadata": {},
   "outputs": [],
   "source": [
    "t = Y_test_pred[:,1]"
   ]
  },
  {
   "cell_type": "code",
   "execution_count": 32,
   "metadata": {},
   "outputs": [
    {
     "data": {
      "text/plain": [
       "(18083,)"
      ]
     },
     "execution_count": 32,
     "metadata": {},
     "output_type": "execute_result"
    }
   ],
   "source": [
    "t.shape"
   ]
  },
  {
   "cell_type": "code",
   "execution_count": 33,
   "metadata": {},
   "outputs": [
    {
     "data": {
      "text/plain": [
       "(18083, 2)"
      ]
     },
     "execution_count": 33,
     "metadata": {},
     "output_type": "execute_result"
    }
   ],
   "source": [
    "submit_file.shape"
   ]
  },
  {
   "cell_type": "code",
   "execution_count": 34,
   "metadata": {
    "collapsed": true
   },
   "outputs": [],
   "source": [
    "submit_file['prob']=t"
   ]
  },
  {
   "cell_type": "code",
   "execution_count": 35,
   "metadata": {},
   "outputs": [
    {
     "data": {
      "text/html": [
       "<div>\n",
       "<style>\n",
       "    .dataframe thead tr:only-child th {\n",
       "        text-align: right;\n",
       "    }\n",
       "\n",
       "    .dataframe thead th {\n",
       "        text-align: left;\n",
       "    }\n",
       "\n",
       "    .dataframe tbody tr th {\n",
       "        vertical-align: top;\n",
       "    }\n",
       "</style>\n",
       "<table border=\"1\" class=\"dataframe\">\n",
       "  <thead>\n",
       "    <tr style=\"text-align: right;\">\n",
       "      <th></th>\n",
       "      <th>id</th>\n",
       "      <th>prob</th>\n",
       "    </tr>\n",
       "  </thead>\n",
       "  <tbody>\n",
       "    <tr>\n",
       "      <th>0</th>\n",
       "      <td>1</td>\n",
       "      <td>0.476667</td>\n",
       "    </tr>\n",
       "    <tr>\n",
       "      <th>1</th>\n",
       "      <td>2</td>\n",
       "      <td>0.490000</td>\n",
       "    </tr>\n",
       "    <tr>\n",
       "      <th>2</th>\n",
       "      <td>3</td>\n",
       "      <td>0.123333</td>\n",
       "    </tr>\n",
       "    <tr>\n",
       "      <th>3</th>\n",
       "      <td>4</td>\n",
       "      <td>0.013333</td>\n",
       "    </tr>\n",
       "    <tr>\n",
       "      <th>4</th>\n",
       "      <td>5</td>\n",
       "      <td>0.510000</td>\n",
       "    </tr>\n",
       "  </tbody>\n",
       "</table>\n",
       "</div>"
      ],
      "text/plain": [
       "   id      prob\n",
       "0   1  0.476667\n",
       "1   2  0.490000\n",
       "2   3  0.123333\n",
       "3   4  0.013333\n",
       "4   5  0.510000"
      ]
     },
     "execution_count": 35,
     "metadata": {},
     "output_type": "execute_result"
    }
   ],
   "source": [
    "submit_file.head()"
   ]
  },
  {
   "cell_type": "code",
   "execution_count": 38,
   "metadata": {
    "collapsed": true
   },
   "outputs": [],
   "source": [
    "submit_file.to_csv('submit9_RF_python.csv', columns=['id','prob'], header=False, index=False)"
   ]
  },
  {
   "cell_type": "code",
   "execution_count": null,
   "metadata": {
    "collapsed": true
   },
   "outputs": [],
   "source": []
  }
 ],
 "metadata": {
  "kernelspec": {
   "display_name": "Python 3",
   "language": "python",
   "name": "python3"
  },
  "language_info": {
   "codemirror_mode": {
    "name": "ipython",
    "version": 3
   },
   "file_extension": ".py",
   "mimetype": "text/x-python",
   "name": "python",
   "nbconvert_exporter": "python",
   "pygments_lexer": "ipython3",
   "version": "3.6.3"
  }
 },
 "nbformat": 4,
 "nbformat_minor": 2
}
