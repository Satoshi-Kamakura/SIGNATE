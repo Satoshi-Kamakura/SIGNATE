{
 "cells": [
  {
   "cell_type": "code",
   "execution_count": 23,
   "metadata": {
    "collapsed": true
   },
   "outputs": [],
   "source": [
    "# データ解析のライブラリ\n",
    "import pandas as pd\n",
    "import numpy as np \n",
    "\n",
    "from sklearn.ensemble import RandomForestClassifier\n",
    "from sklearn.metrics import confusion_matrix \n",
    "from sklearn.model_selection import GridSearchCV "
   ]
  },
  {
   "cell_type": "code",
   "execution_count": 2,
   "metadata": {
    "collapsed": true
   },
   "outputs": [],
   "source": [
    "X_train = pd.read_csv('train_x.csv')\n",
    "Y_train = pd.read_csv('train_y.csv')\n",
    "X_test = pd.read_csv('test_x.csv')\n",
    "Y_test = pd.read_csv('test_y.csv')\n",
    "X_train_in = X_train.values\n",
    "Y_train_in = Y_train.values.ravel()\n",
    "X_test_in = X_test.values\n",
    "Y_test_in = Y_test.values.ravel()"
   ]
  },
  {
   "cell_type": "code",
   "execution_count": 3,
   "metadata": {},
   "outputs": [
    {
     "data": {
      "text/plain": [
       "RandomForestClassifier(bootstrap=True, class_weight=None, criterion='gini',\n",
       "            max_depth=None, max_features='auto', max_leaf_nodes=None,\n",
       "            min_impurity_decrease=0.0, min_impurity_split=None,\n",
       "            min_samples_leaf=1, min_samples_split=2,\n",
       "            min_weight_fraction_leaf=0.0, n_estimators=300, n_jobs=1,\n",
       "            oob_score=False, random_state=42, verbose=0, warm_start=False)"
      ]
     },
     "execution_count": 3,
     "metadata": {},
     "output_type": "execute_result"
    }
   ],
   "source": [
    "rf = RandomForestClassifier(n_estimators = 300, random_state = 42)\n",
    "rf.fit(X_train_in, Y_train_in)"
   ]
  },
  {
   "cell_type": "code",
   "execution_count": 4,
   "metadata": {},
   "outputs": [
    {
     "name": "stdout",
     "output_type": "stream",
     "text": [
      "訓練データ\n",
      "1.0\n",
      "[[21558     0]\n",
      " [    0  2857]]\n",
      "検証データ\n",
      "0.909325469959\n",
      "[[2338  188]\n",
      " [  58  129]]\n"
     ]
    }
   ],
   "source": [
    "Y_train_pred = rf.predict(X_train_in)\n",
    "cmat = confusion_matrix(Y_train_pred, Y_train_in, labels=[0,1])\n",
    "print('訓練データ')\n",
    "print((cmat[0,0]+cmat[1,1])/len(Y_train_pred))\n",
    "print(cmat)\n",
    "Y_test_pred = rf.predict(X_test_in)\n",
    "cmat = confusion_matrix(Y_test_pred, Y_test_in, labels=[0,1])\n",
    "print(\"検証データ\")\n",
    "print((cmat[0,0]+cmat[1,1])/len(Y_test_pred))\n",
    "print(cmat)"
   ]
  },
  {
   "cell_type": "markdown",
   "metadata": {},
   "source": [
    "### 過学習になっている。訓練データと検証データで同程度の正答率を探す"
   ]
  },
  {
   "cell_type": "code",
   "execution_count": 18,
   "metadata": {},
   "outputs": [
    {
     "name": "stdout",
     "output_type": "stream",
     "text": [
      "訓練データ\n",
      "0.900675814049\n",
      "[[21462  2329]\n",
      " [   96   528]]\n",
      "検証データ\n",
      "0.892738665684\n",
      "[[2384  279]\n",
      " [  12   38]]\n"
     ]
    }
   ],
   "source": [
    "rf = RandomForestClassifier(n_estimators = 100, max_depth=8, random_state = 42)\n",
    "rf.fit(X_train_in, Y_train_in)\n",
    "Y_train_pred = rf.predict(X_train_in)\n",
    "cmat = confusion_matrix(Y_train_pred, Y_train_in, labels=[0,1])\n",
    "print('訓練データ')\n",
    "print((cmat[0,0]+cmat[1,1])/len(Y_train_pred))\n",
    "print(cmat)\n",
    "Y_test_pred = rf.predict(X_test_in)\n",
    "cmat = confusion_matrix(Y_test_pred, Y_test_in, labels=[0,1])\n",
    "print(\"検証データ\")\n",
    "print((cmat[0,0]+cmat[1,1])/len(Y_test_pred))\n",
    "print(cmat)"
   ]
  },
  {
   "cell_type": "code",
   "execution_count": 9,
   "metadata": {},
   "outputs": [
    {
     "data": {
      "text/plain": [
       "RandomForestClassifier(bootstrap=True, class_weight=None, criterion='gini',\n",
       "            max_depth=None, max_features='auto', max_leaf_nodes=None,\n",
       "            min_impurity_decrease=0.0, min_impurity_split=None,\n",
       "            min_samples_leaf=1, min_samples_split=2,\n",
       "            min_weight_fraction_leaf=0.0, n_estimators=10, n_jobs=1,\n",
       "            oob_score=False, random_state=42, verbose=0, warm_start=False)"
      ]
     },
     "execution_count": 9,
     "metadata": {},
     "output_type": "execute_result"
    }
   ],
   "source": [
    "rf"
   ]
  },
  {
   "cell_type": "markdown",
   "metadata": {},
   "source": [
    "## GridSearchCVを使ってみる"
   ]
  },
  {
   "cell_type": "code",
   "execution_count": 30,
   "metadata": {
    "collapsed": true
   },
   "outputs": [],
   "source": [
    "X_train = pd.read_csv('train_all_x.csv')\n",
    "Y_train = pd.read_csv('train_all_y.csv')\n",
    "X_train_in = X_train.values\n",
    "Y_train_in = Y_train.values.ravel()"
   ]
  },
  {
   "cell_type": "code",
   "execution_count": 31,
   "metadata": {},
   "outputs": [],
   "source": [
    "initial_params = {\n",
    "    'random_state':42,\n",
    "}\n",
    "params = {\n",
    "    'max_depth':[5,7,9,11,13,15],\n",
    "    'n_estimators':[10,20,50,100]\n",
    "}"
   ]
  },
  {
   "cell_type": "code",
   "execution_count": 32,
   "metadata": {},
   "outputs": [
    {
     "name": "stdout",
     "output_type": "stream",
     "text": [
      "Fitting 3 folds for each of 24 candidates, totalling 72 fits\n"
     ]
    },
    {
     "name": "stderr",
     "output_type": "stream",
     "text": [
      "[Parallel(n_jobs=-1)]: Done  42 tasks      | elapsed:   19.2s\n",
      "[Parallel(n_jobs=-1)]: Done  72 out of  72 | elapsed:   44.4s finished\n"
     ]
    },
    {
     "data": {
      "text/plain": [
       "GridSearchCV(cv=3, error_score='raise',\n",
       "       estimator=RandomForestClassifier(bootstrap=True, class_weight=None, criterion='gini',\n",
       "            max_depth=None, max_features='auto', max_leaf_nodes=None,\n",
       "            min_impurity_decrease=0.0, min_impurity_split=None,\n",
       "            min_samples_leaf=1, min_samples_split=2,\n",
       "            min_weight_fraction_leaf=0.0, n_estimators=10, n_jobs=1,\n",
       "            oob_score=False, random_state=42, verbose=0, warm_start=False),\n",
       "       fit_params=None, iid=True, n_jobs=-1,\n",
       "       param_grid={'max_depth': [5, 7, 9, 11, 13, 15], 'n_estimators': [10, 20, 50, 100]},\n",
       "       pre_dispatch='2*n_jobs', refit=True, return_train_score='warn',\n",
       "       scoring='accuracy', verbose=1)"
      ]
     },
     "execution_count": 32,
     "metadata": {},
     "output_type": "execute_result"
    }
   ],
   "source": [
    "grid = GridSearchCV( estimator=RandomForestClassifier(**initial_params),\n",
    "                    param_grid=params,\n",
    "                    scoring=\"accuracy\",\n",
    "                    cv=3,\n",
    "                    verbose=1,\n",
    "                    n_jobs=-1)\n",
    "grid.fit(X_train_in, Y_train_in)"
   ]
  },
  {
   "cell_type": "code",
   "execution_count": 33,
   "metadata": {},
   "outputs": [
    {
     "name": "stdout",
     "output_type": "stream",
     "text": [
      "{'max_depth': 15, 'n_estimators': 50}\n",
      "0.902901168577\n"
     ]
    }
   ],
   "source": [
    "print(grid.best_params_)\n",
    "print(grid.best_score_)"
   ]
  },
  {
   "cell_type": "code",
   "execution_count": 35,
   "metadata": {
    "collapsed": true
   },
   "outputs": [],
   "source": [
    "initial_params = {\n",
    "    'random_state':42,\n",
    "}\n",
    "params = {\n",
    "    'max_depth':[13,15,20,30],\n",
    "    'n_estimators':[30,40,50,60,70,80,90]\n",
    "}"
   ]
  },
  {
   "cell_type": "code",
   "execution_count": 36,
   "metadata": {},
   "outputs": [
    {
     "name": "stdout",
     "output_type": "stream",
     "text": [
      "Fitting 3 folds for each of 28 candidates, totalling 84 fits\n"
     ]
    },
    {
     "name": "stderr",
     "output_type": "stream",
     "text": [
      "[Parallel(n_jobs=-1)]: Done  42 tasks      | elapsed:   39.6s\n",
      "[Parallel(n_jobs=-1)]: Done  84 out of  84 | elapsed:  1.5min finished\n"
     ]
    },
    {
     "data": {
      "text/plain": [
       "GridSearchCV(cv=3, error_score='raise',\n",
       "       estimator=RandomForestClassifier(bootstrap=True, class_weight=None, criterion='gini',\n",
       "            max_depth=None, max_features='auto', max_leaf_nodes=None,\n",
       "            min_impurity_decrease=0.0, min_impurity_split=None,\n",
       "            min_samples_leaf=1, min_samples_split=2,\n",
       "            min_weight_fraction_leaf=0.0, n_estimators=10, n_jobs=1,\n",
       "            oob_score=False, random_state=42, verbose=0, warm_start=False),\n",
       "       fit_params=None, iid=True, n_jobs=-1,\n",
       "       param_grid={'max_depth': [13, 15, 20, 30], 'n_estimators': [30, 40, 50, 60, 70, 80, 90]},\n",
       "       pre_dispatch='2*n_jobs', refit=True, return_train_score='warn',\n",
       "       scoring='accuracy', verbose=1)"
      ]
     },
     "execution_count": 36,
     "metadata": {},
     "output_type": "execute_result"
    }
   ],
   "source": [
    "grid = GridSearchCV( estimator=RandomForestClassifier(**initial_params),\n",
    "                    param_grid=params,\n",
    "                    scoring=\"accuracy\",\n",
    "                    cv=3,\n",
    "                    verbose=1,\n",
    "                    n_jobs=-1)\n",
    "grid.fit(X_train_in, Y_train_in)"
   ]
  },
  {
   "cell_type": "code",
   "execution_count": 37,
   "metadata": {},
   "outputs": [
    {
     "name": "stdout",
     "output_type": "stream",
     "text": [
      "{'max_depth': 30, 'n_estimators': 80}\n",
      "0.904744350647\n"
     ]
    }
   ],
   "source": [
    "print(grid.best_params_)\n",
    "print(grid.best_score_)"
   ]
  },
  {
   "cell_type": "code",
   "execution_count": 38,
   "metadata": {
    "collapsed": true
   },
   "outputs": [],
   "source": [
    "initial_params = {\n",
    "    'random_state':42,\n",
    "    'n_estimators':80\n",
    "}\n",
    "params = {\n",
    "    'max_depth':[25,30,35,40,50,75,100,200],\n",
    "}"
   ]
  },
  {
   "cell_type": "code",
   "execution_count": 40,
   "metadata": {
    "scrolled": true
   },
   "outputs": [
    {
     "name": "stdout",
     "output_type": "stream",
     "text": [
      "Fitting 5 folds for each of 8 candidates, totalling 40 fits\n"
     ]
    },
    {
     "name": "stderr",
     "output_type": "stream",
     "text": [
      "[Parallel(n_jobs=-1)]: Done  40 out of  40 | elapsed:  1.4min finished\n"
     ]
    },
    {
     "name": "stdout",
     "output_type": "stream",
     "text": [
      "{'max_depth': 30}\n",
      "0.90481807793\n"
     ]
    }
   ],
   "source": [
    "grid = GridSearchCV( estimator=RandomForestClassifier(**initial_params),\n",
    "                    param_grid=params,\n",
    "                    scoring=\"accuracy\",\n",
    "                    cv=5,\n",
    "                    verbose=1,\n",
    "                    n_jobs=-1)\n",
    "grid.fit(X_train_in, Y_train_in)\n",
    "print(grid.best_params_)\n",
    "print(grid.best_score_)"
   ]
  },
  {
   "cell_type": "code",
   "execution_count": 41,
   "metadata": {
    "collapsed": true
   },
   "outputs": [],
   "source": [
    "initial_params = {\n",
    "    'random_state':42,\n",
    "    'max_depth':30\n",
    "}\n",
    "params = {\n",
    "    'n_estimators':[70,80,90,100,150],\n",
    "}"
   ]
  },
  {
   "cell_type": "code",
   "execution_count": 42,
   "metadata": {},
   "outputs": [
    {
     "name": "stdout",
     "output_type": "stream",
     "text": [
      "Fitting 5 folds for each of 5 candidates, totalling 25 fits\n"
     ]
    },
    {
     "name": "stderr",
     "output_type": "stream",
     "text": [
      "[Parallel(n_jobs=-1)]: Done  25 out of  25 | elapsed:  1.5min finished\n"
     ]
    },
    {
     "name": "stdout",
     "output_type": "stream",
     "text": [
      "{'n_estimators': 150}\n",
      "0.905223577985\n"
     ]
    }
   ],
   "source": [
    "grid = GridSearchCV( estimator=RandomForestClassifier(**initial_params),\n",
    "                    param_grid=params,\n",
    "                    scoring=\"accuracy\",\n",
    "                    cv=5,\n",
    "                    verbose=1,\n",
    "                    n_jobs=-1)\n",
    "grid.fit(X_train_in, Y_train_in)\n",
    "print(grid.best_params_)\n",
    "print(grid.best_score_)"
   ]
  },
  {
   "cell_type": "code",
   "execution_count": 43,
   "metadata": {
    "collapsed": true
   },
   "outputs": [],
   "source": [
    "initial_params = {\n",
    "    'random_state':42,\n",
    "    'max_depth':30\n",
    "}\n",
    "params = {\n",
    "    'n_estimators':[140,150,200,300,500],\n",
    "}"
   ]
  },
  {
   "cell_type": "code",
   "execution_count": 44,
   "metadata": {},
   "outputs": [
    {
     "name": "stdout",
     "output_type": "stream",
     "text": [
      "Fitting 5 folds for each of 5 candidates, totalling 25 fits\n"
     ]
    },
    {
     "name": "stderr",
     "output_type": "stream",
     "text": [
      "[Parallel(n_jobs=-1)]: Done  25 out of  25 | elapsed:  3.0min finished\n"
     ]
    },
    {
     "name": "stdout",
     "output_type": "stream",
     "text": [
      "{'n_estimators': 150}\n",
      "0.905223577985\n"
     ]
    }
   ],
   "source": [
    "grid = GridSearchCV( estimator=RandomForestClassifier(**initial_params),\n",
    "                    param_grid=params,\n",
    "                    scoring=\"accuracy\",\n",
    "                    cv=5,\n",
    "                    verbose=1,\n",
    "                    n_jobs=-1)\n",
    "grid.fit(X_train_in, Y_train_in)\n",
    "print(grid.best_params_)\n",
    "print(grid.best_score_)"
   ]
  },
  {
   "cell_type": "code",
   "execution_count": 45,
   "metadata": {
    "collapsed": true
   },
   "outputs": [],
   "source": [
    "initial_params = {\n",
    "    'random_state':42,\n",
    "    'max_depth':30\n",
    "}\n",
    "params = {\n",
    "    'n_estimators':[145,150,160,170,180,190],\n",
    "}"
   ]
  },
  {
   "cell_type": "code",
   "execution_count": 46,
   "metadata": {},
   "outputs": [
    {
     "name": "stdout",
     "output_type": "stream",
     "text": [
      "Fitting 5 folds for each of 6 candidates, totalling 30 fits\n"
     ]
    },
    {
     "name": "stderr",
     "output_type": "stream",
     "text": [
      "[Parallel(n_jobs=-1)]: Done  30 out of  30 | elapsed:  3.0min finished\n"
     ]
    },
    {
     "name": "stdout",
     "output_type": "stream",
     "text": [
      "{'n_estimators': 145}\n",
      "0.905223577985\n"
     ]
    }
   ],
   "source": [
    "grid = GridSearchCV( estimator=RandomForestClassifier(**initial_params),\n",
    "                    param_grid=params,\n",
    "                    scoring=\"accuracy\",\n",
    "                    cv=5,\n",
    "                    verbose=1,\n",
    "                    n_jobs=-1)\n",
    "grid.fit(X_train_in, Y_train_in)\n",
    "print(grid.best_params_)\n",
    "print(grid.best_score_)"
   ]
  },
  {
   "cell_type": "code",
   "execution_count": 47,
   "metadata": {
    "collapsed": true
   },
   "outputs": [],
   "source": [
    "params = {\n",
    "    'random_state':42,\n",
    "    'max_depth':30,\n",
    "    'n_estimators':145\n",
    "}\n",
    "rf = RandomForestClassifier(**params)\n",
    "rf.fit(X_train_in, Y_train_in)\n",
    "\n",
    "X_test = pd.read_csv('pred_x.csv')\n",
    "X_test_in = X_test.values\n",
    "Y_test_pred = rf.predict_proba(X_test_in)\n",
    "\n",
    "submit_file = pd.read_csv('data/submit_sample.csv', names=['id','prob'])\n",
    "t = Y_test_pred[:,1]\n",
    "submit_file['prob']=t\n",
    "submit_file.to_csv('submit9_RF_python2.csv', columns=['id','prob'], header=False, index=False)"
   ]
  },
  {
   "cell_type": "code",
   "execution_count": 49,
   "metadata": {},
   "outputs": [
    {
     "data": {
      "text/html": [
       "<div>\n",
       "<style>\n",
       "    .dataframe thead tr:only-child th {\n",
       "        text-align: right;\n",
       "    }\n",
       "\n",
       "    .dataframe thead th {\n",
       "        text-align: left;\n",
       "    }\n",
       "\n",
       "    .dataframe tbody tr th {\n",
       "        vertical-align: top;\n",
       "    }\n",
       "</style>\n",
       "<table border=\"1\" class=\"dataframe\">\n",
       "  <thead>\n",
       "    <tr style=\"text-align: right;\">\n",
       "      <th></th>\n",
       "      <th>id</th>\n",
       "      <th>prob</th>\n",
       "    </tr>\n",
       "  </thead>\n",
       "  <tbody>\n",
       "    <tr>\n",
       "      <th>29</th>\n",
       "      <td>30</td>\n",
       "      <td>0.063188</td>\n",
       "    </tr>\n",
       "    <tr>\n",
       "      <th>30</th>\n",
       "      <td>31</td>\n",
       "      <td>0.014760</td>\n",
       "    </tr>\n",
       "    <tr>\n",
       "      <th>31</th>\n",
       "      <td>32</td>\n",
       "      <td>0.379592</td>\n",
       "    </tr>\n",
       "    <tr>\n",
       "      <th>32</th>\n",
       "      <td>33</td>\n",
       "      <td>0.324183</td>\n",
       "    </tr>\n",
       "    <tr>\n",
       "      <th>33</th>\n",
       "      <td>34</td>\n",
       "      <td>0.013916</td>\n",
       "    </tr>\n",
       "    <tr>\n",
       "      <th>34</th>\n",
       "      <td>35</td>\n",
       "      <td>0.082771</td>\n",
       "    </tr>\n",
       "    <tr>\n",
       "      <th>35</th>\n",
       "      <td>36</td>\n",
       "      <td>0.181420</td>\n",
       "    </tr>\n",
       "    <tr>\n",
       "      <th>36</th>\n",
       "      <td>37</td>\n",
       "      <td>0.264204</td>\n",
       "    </tr>\n",
       "    <tr>\n",
       "      <th>37</th>\n",
       "      <td>38</td>\n",
       "      <td>0.220690</td>\n",
       "    </tr>\n",
       "    <tr>\n",
       "      <th>38</th>\n",
       "      <td>39</td>\n",
       "      <td>0.130264</td>\n",
       "    </tr>\n",
       "    <tr>\n",
       "      <th>39</th>\n",
       "      <td>40</td>\n",
       "      <td>0.372414</td>\n",
       "    </tr>\n",
       "    <tr>\n",
       "      <th>40</th>\n",
       "      <td>41</td>\n",
       "      <td>0.215069</td>\n",
       "    </tr>\n",
       "    <tr>\n",
       "      <th>41</th>\n",
       "      <td>42</td>\n",
       "      <td>0.215763</td>\n",
       "    </tr>\n",
       "    <tr>\n",
       "      <th>42</th>\n",
       "      <td>43</td>\n",
       "      <td>0.740803</td>\n",
       "    </tr>\n",
       "    <tr>\n",
       "      <th>43</th>\n",
       "      <td>44</td>\n",
       "      <td>0.503845</td>\n",
       "    </tr>\n",
       "    <tr>\n",
       "      <th>44</th>\n",
       "      <td>45</td>\n",
       "      <td>0.554620</td>\n",
       "    </tr>\n",
       "    <tr>\n",
       "      <th>45</th>\n",
       "      <td>46</td>\n",
       "      <td>0.105555</td>\n",
       "    </tr>\n",
       "    <tr>\n",
       "      <th>46</th>\n",
       "      <td>47</td>\n",
       "      <td>0.455172</td>\n",
       "    </tr>\n",
       "    <tr>\n",
       "      <th>47</th>\n",
       "      <td>48</td>\n",
       "      <td>0.063828</td>\n",
       "    </tr>\n",
       "    <tr>\n",
       "      <th>48</th>\n",
       "      <td>49</td>\n",
       "      <td>0.289655</td>\n",
       "    </tr>\n",
       "    <tr>\n",
       "      <th>49</th>\n",
       "      <td>50</td>\n",
       "      <td>0.310345</td>\n",
       "    </tr>\n",
       "  </tbody>\n",
       "</table>\n",
       "</div>"
      ],
      "text/plain": [
       "    id      prob\n",
       "29  30  0.063188\n",
       "30  31  0.014760\n",
       "31  32  0.379592\n",
       "32  33  0.324183\n",
       "33  34  0.013916\n",
       "34  35  0.082771\n",
       "35  36  0.181420\n",
       "36  37  0.264204\n",
       "37  38  0.220690\n",
       "38  39  0.130264\n",
       "39  40  0.372414\n",
       "40  41  0.215069\n",
       "41  42  0.215763\n",
       "42  43  0.740803\n",
       "43  44  0.503845\n",
       "44  45  0.554620\n",
       "45  46  0.105555\n",
       "46  47  0.455172\n",
       "47  48  0.063828\n",
       "48  49  0.289655\n",
       "49  50  0.310345"
      ]
     },
     "execution_count": 49,
     "metadata": {},
     "output_type": "execute_result"
    }
   ],
   "source": [
    "submit_file[29:50]"
   ]
  }
 ],
 "metadata": {
  "kernelspec": {
   "display_name": "Python 3",
   "language": "python",
   "name": "python3"
  },
  "language_info": {
   "codemirror_mode": {
    "name": "ipython",
    "version": 3
   },
   "file_extension": ".py",
   "mimetype": "text/x-python",
   "name": "python",
   "nbconvert_exporter": "python",
   "pygments_lexer": "ipython3",
   "version": "3.6.3"
  }
 },
 "nbformat": 4,
 "nbformat_minor": 2
}
