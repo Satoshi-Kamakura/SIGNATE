{
 "cells": [
  {
   "cell_type": "markdown",
   "metadata": {},
   "source": [
    "# 特徴量を追加する"
   ]
  },
  {
   "cell_type": "code",
   "execution_count": 1,
   "metadata": {
    "collapsed": true
   },
   "outputs": [],
   "source": [
    "import pandas as pd\n",
    "import numpy as np\n",
    "from sklearn.model_selection import GridSearchCV \n",
    "# XGBoost\n",
    "import xgboost as xgb\n",
    "from xgboost import XGBRegressor\n",
    "from xgboost import XGBClassifier"
   ]
  },
  {
   "cell_type": "markdown",
   "metadata": {},
   "source": [
    "## データを加工する関数"
   ]
  },
  {
   "cell_type": "code",
   "execution_count": 2,
   "metadata": {
    "collapsed": true
   },
   "outputs": [],
   "source": [
    "def preprocess( data ):\n",
    "    data2 = data.copy()\n",
    "    # doorsとpersonsに非数値があるため、置換する\n",
    "    # 置換後の型がobjectになっているのでintに変換する\n",
    "    data2['doors'] = data2['doors'].replace({\"5more\":\"5\"}).astype(int)\n",
    "    data2['persons'] = data2['persons'].replace({\"more\":'5'}).astype(int)\n",
    "    \n",
    "    # buying, maint, lug_boot, safetyをそれぞれ数値に変換\n",
    "    data2['buying']=data2['buying'].map({'low': 1, 'med': 2, 'high': 3, 'vhigh': 4});\n",
    "    data2['maint']=data2['maint'].map({'low': 1, 'med': 2, 'high': 3, 'vhigh': 4});\n",
    "    data2['lug_boot']=data2['lug_boot'].map({'small': 1, 'med': 2, 'big': 3});\n",
    "    data2['safety']=data2['safety'].map({'low': 1, 'med': 2, 'high': 3});\n",
    "    \n",
    "    # 定員とトランクの大きさを足して容量とする。\n",
    "    data2['capacity']=data2['persons']+data2['lug_boot']\n",
    "    \n",
    "    # 売値から整備代を引いて、コストとする\n",
    "    data2['cost']=data2['buying']-data2['maint']\n",
    "    \n",
    "    return data2"
   ]
  },
  {
   "cell_type": "markdown",
   "metadata": {},
   "source": [
    "## 訓練データを読み込み、目的変数と説明変数に分ける"
   ]
  },
  {
   "cell_type": "code",
   "execution_count": 3,
   "metadata": {
    "collapsed": true
   },
   "outputs": [],
   "source": [
    "train = pd.read_table(\"data/train.tsv\")\n",
    "Y_train = train['class'].copy()\n",
    "Y_train = Y_train.map({'unacc':1, 'acc':2, 'good':3, 'vgood':4 })\n",
    "X_train = preprocess( train.loc[:, [\"buying\", \"maint\", 'doors', 'persons',\"lug_boot\", \"safety\"]] )"
   ]
  },
  {
   "cell_type": "markdown",
   "metadata": {},
   "source": [
    "### ハイパーパラメタのチューニング"
   ]
  },
  {
   "cell_type": "code",
   "execution_count": null,
   "metadata": {
    "collapsed": true
   },
   "outputs": [],
   "source": []
  },
  {
   "cell_type": "code",
   "execution_count": 4,
   "metadata": {},
   "outputs": [
    {
     "data": {
      "text/plain": [
       "XGBClassifier(base_score=0.5, booster='gbtree', colsample_bylevel=1,\n",
       "       colsample_bytree=0.6, gamma=0, learning_rate=0.1, max_delta_step=0,\n",
       "       max_depth=4, min_child_weight=9, missing=None, n_estimators=600,\n",
       "       n_jobs=1, nthread=None, objective='multi:softprob', random_state=0,\n",
       "       reg_alpha=0, reg_lambda=1, scale_pos_weight=1, seed=42, silent=True,\n",
       "       subsample=1.0)"
      ]
     },
     "execution_count": 4,
     "metadata": {},
     "output_type": "execute_result"
    }
   ],
   "source": [
    "params = {\n",
    "    'n_estimators':600,\n",
    "    'max_depth':4,\n",
    "    'min_child_weight':9,\n",
    "    'gamma':0,\n",
    "    'subsample':1.0,\n",
    "    'colsample_bytree':0.6,\n",
    "    'learning_rate':0.1\n",
    "}\n",
    "xgboost_opt = XGBClassifier(**params, seed=42)\n",
    "xgboost_opt.fit(X_train,Y_train)"
   ]
  },
  {
   "cell_type": "markdown",
   "metadata": {},
   "source": [
    "## テストデータを読み、訓練データと同じ加工をする"
   ]
  },
  {
   "cell_type": "code",
   "execution_count": 5,
   "metadata": {
    "collapsed": true
   },
   "outputs": [],
   "source": [
    "test = pd.read_table('data/test.tsv')\n",
    "X_test = preprocess( test.loc[:, [\"buying\", \"maint\", 'doors', 'persons',\"lug_boot\", \"safety\"]] )"
   ]
  },
  {
   "cell_type": "code",
   "execution_count": 6,
   "metadata": {
    "collapsed": true
   },
   "outputs": [],
   "source": [
    "Y_test = xgboost_opt.predict(X_test)"
   ]
  },
  {
   "cell_type": "code",
   "execution_count": 7,
   "metadata": {
    "collapsed": true
   },
   "outputs": [],
   "source": [
    "submit = pd.read_csv('data/sample_submit.csv',names=['id','result'])\n",
    "submit['result']=Y_test\n",
    "submit['result']=submit['result'].map({1:'unacc', 2:'acc', 3:'good', 4:'vgood'})\n",
    "submit.to_csv('output/submit5.csv',  header=False, index=False)"
   ]
  },
  {
   "cell_type": "markdown",
   "metadata": {},
   "source": [
    "### 結果確認用のファイルを生成する"
   ]
  },
  {
   "cell_type": "code",
   "execution_count": 14,
   "metadata": {
    "collapsed": true
   },
   "outputs": [],
   "source": [
    "X_test['result']=submit['result']\n",
    "X_test['id']=submit['id']\n",
    "out=X_test.loc[:,[\"id\",\"buying\", \"maint\", 'doors', 'persons',\"lug_boot\", \"safety\",\"result\"]]\n",
    "out.to_csv('output/submit5_confirmation.csv',header=True)"
   ]
  },
  {
   "cell_type": "code",
   "execution_count": null,
   "metadata": {
    "collapsed": true
   },
   "outputs": [],
   "source": []
  }
 ],
 "metadata": {
  "kernelspec": {
   "display_name": "Python 3",
   "language": "python",
   "name": "python3"
  },
  "language_info": {
   "codemirror_mode": {
    "name": "ipython",
    "version": 3
   },
   "file_extension": ".py",
   "mimetype": "text/x-python",
   "name": "python",
   "nbconvert_exporter": "python",
   "pygments_lexer": "ipython3",
   "version": "3.6.3"
  }
 },
 "nbformat": 4,
 "nbformat_minor": 2
}
