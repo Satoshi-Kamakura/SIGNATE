{
 "cells": [
  {
   "cell_type": "code",
   "execution_count": 5,
   "metadata": {
    "collapsed": true
   },
   "outputs": [],
   "source": [
    "import pandas as pd\n",
    "import numpy as np\n",
    "from sklearn.ensemble import RandomForestClassifier\n",
    "from sklearn.model_selection import GridSearchCV \n",
    "# XGBoost\n",
    "import xgboost as xgb\n",
    "from xgboost import XGBRegressor\n",
    "from xgboost import XGBClassifier\n",
    "# Time\n",
    "import time"
   ]
  },
  {
   "cell_type": "code",
   "execution_count": 3,
   "metadata": {},
   "outputs": [],
   "source": [
    "train = pd.read_csv(\"output/train_preprocessed.csv\")\n",
    "Y_train = train[\"y\"]\n",
    "X_train = train.loc[:,['buying', 'maint', 'doors', 'persons', 'lug_boot', 'safety']]\n",
    "y_train = Y_train.values.ravel()"
   ]
  },
  {
   "cell_type": "code",
   "execution_count": 12,
   "metadata": {},
   "outputs": [
    {
     "data": {
      "text/plain": [
       "numpy.int64"
      ]
     },
     "execution_count": 12,
     "metadata": {},
     "output_type": "execute_result"
    }
   ],
   "source": [
    "type(y_train[1])"
   ]
  },
  {
   "cell_type": "code",
   "execution_count": null,
   "metadata": {
    "collapsed": true
   },
   "outputs": [],
   "source": []
  },
  {
   "cell_type": "code",
   "execution_count": 16,
   "metadata": {
    "collapsed": true
   },
   "outputs": [],
   "source": [
    "params = { 'n_estimators':[650,700,800,900,1000]}"
   ]
  },
  {
   "cell_type": "code",
   "execution_count": 17,
   "metadata": {},
   "outputs": [
    {
     "name": "stdout",
     "output_type": "stream",
     "text": [
      "{'n_estimators': 1000}\n",
      "0.97337962963\n",
      "elapsed time15.532185792922974\n"
     ]
    }
   ],
   "source": [
    "s = time.time()\n",
    "gs = GridSearchCV(estimator = XGBClassifier(seed=42),param_grid=params, cv=5,n_jobs=-1)\n",
    "gs.fit(X_train, y_train)\n",
    "print(gs.best_params_)\n",
    "print(gs.best_score_)\n",
    "e = time.time()-s\n",
    "print(f\"elapsed time{e}\")"
   ]
  },
  {
   "cell_type": "code",
   "execution_count": 18,
   "metadata": {
    "collapsed": true
   },
   "outputs": [],
   "source": [
    "initial_params = {\n",
    "    'n_estimators':500\n",
    "}"
   ]
  },
  {
   "cell_type": "code",
   "execution_count": 23,
   "metadata": {
    "collapsed": true
   },
   "outputs": [],
   "source": [
    "params={\n",
    "    'max_depth':[2,3,4,5],\n",
    "    'min_child_weight':[1,2,3]\n",
    "}"
   ]
  },
  {
   "cell_type": "code",
   "execution_count": 24,
   "metadata": {},
   "outputs": [
    {
     "name": "stdout",
     "output_type": "stream",
     "text": [
      "{'max_depth': 4, 'min_child_weight': 1}\n",
      "0.978009259259\n",
      "elapsed time331.98365902900696\n"
     ]
    }
   ],
   "source": [
    "gs = GridSearchCV(estimator = XGBClassifier(**initial_params,seed=42),param_grid=params, cv=5,n_jobs=-1)\n",
    "gs.fit(X_train, y_train)\n",
    "print(gs.best_params_)\n",
    "print(gs.best_score_)\n",
    "e = time.time()-s\n",
    "print(f\"elapsed time{e}\")"
   ]
  },
  {
   "cell_type": "code",
   "execution_count": null,
   "metadata": {
    "collapsed": true
   },
   "outputs": [],
   "source": [
    "initial_params = {\n",
    "    'n_estimators':500,\n",
    "    'max_depth':4,\n",
    "    'min_child_weight':1,\n",
    "}"
   ]
  },
  {
   "cell_type": "code",
   "execution_count": 26,
   "metadata": {},
   "outputs": [],
   "source": [
    "params = {\n",
    "    'gamma':[0.0,0.1,0.2],\n",
    "    'subsample':[0.5,0.6,0.7,0.8,0.9,1.0]\n",
    "}"
   ]
  },
  {
   "cell_type": "code",
   "execution_count": 27,
   "metadata": {},
   "outputs": [
    {
     "name": "stdout",
     "output_type": "stream",
     "text": [
      "{'gamma': 0.1, 'subsample': 0.9}\n",
      "0.97337962963\n",
      "elapsed time480.78655886650085\n"
     ]
    }
   ],
   "source": [
    "gs = GridSearchCV(estimator = XGBClassifier(**initial_params,seed=42),param_grid=params, cv=5,n_jobs=-1)\n",
    "gs.fit(X_train, y_train)\n",
    "print(gs.best_params_)\n",
    "print(gs.best_score_)\n",
    "e = time.time()-s\n",
    "print(f\"elapsed time{e}\")"
   ]
  },
  {
   "cell_type": "code",
   "execution_count": 28,
   "metadata": {
    "collapsed": true
   },
   "outputs": [],
   "source": [
    "initial_params = {\n",
    "    'n_estimators':500,\n",
    "    'max_depth':4,\n",
    "    'min_child_weight':1,\n",
    "    'gamma':0.1,\n",
    "    'subsample':0.9,\n",
    "}"
   ]
  },
  {
   "cell_type": "code",
   "execution_count": 29,
   "metadata": {
    "collapsed": true
   },
   "outputs": [],
   "source": [
    "params = {\n",
    "    'colsample_bytree':[0.6,0.7,0.8,0.9,1.0],\n",
    "    'learning_rate':[0.5, 0.2, 0.1, 0.05]\n",
    "}"
   ]
  },
  {
   "cell_type": "code",
   "execution_count": 30,
   "metadata": {},
   "outputs": [
    {
     "name": "stdout",
     "output_type": "stream",
     "text": [
      "{'colsample_bytree': 0.9, 'learning_rate': 0.5}\n",
      "0.974537037037\n",
      "elapsed time613.8585259914398\n"
     ]
    }
   ],
   "source": [
    "gs = GridSearchCV(estimator = XGBClassifier(**initial_params,seed=42),param_grid=params, cv=5,n_jobs=-1)\n",
    "gs.fit(X_train, y_train)\n",
    "print(gs.best_params_)\n",
    "print(gs.best_score_)\n",
    "e = time.time()-s\n",
    "print(f\"elapsed time{e}\")"
   ]
  },
  {
   "cell_type": "code",
   "execution_count": 31,
   "metadata": {
    "collapsed": true
   },
   "outputs": [],
   "source": [
    "initial_params = {\n",
    "    'n_estimators':500,\n",
    "    'max_depth':4,\n",
    "    'min_child_weight':1,\n",
    "    'gamma':0.1,\n",
    "    'subsample':0.9,\n",
    "    'colsample_bytree':0.9\n",
    "}"
   ]
  },
  {
   "cell_type": "code",
   "execution_count": 33,
   "metadata": {
    "collapsed": true
   },
   "outputs": [],
   "source": [
    "params = {\n",
    "    'learning_rate':[0.7,0.6,0.5, 0.4,0.3,0.2, 0.1]\n",
    "}"
   ]
  },
  {
   "cell_type": "code",
   "execution_count": 34,
   "metadata": {},
   "outputs": [
    {
     "name": "stdout",
     "output_type": "stream",
     "text": [
      "{'learning_rate': 0.7}\n",
      "0.975694444444\n",
      "elapsed time717.944874048233\n"
     ]
    }
   ],
   "source": [
    "gs = GridSearchCV(estimator = XGBClassifier(**initial_params,seed=42),param_grid=params, cv=5,n_jobs=-1)\n",
    "gs.fit(X_train, y_train)\n",
    "print(gs.best_params_)\n",
    "print(gs.best_score_)\n",
    "e = time.time()-s\n",
    "print(f\"elapsed time{e}\")"
   ]
  },
  {
   "cell_type": "code",
   "execution_count": 36,
   "metadata": {},
   "outputs": [],
   "source": [
    "initial_params = {\n",
    "    'n_estimators':500,\n",
    "    'max_depth':4,\n",
    "    'min_child_weight':1,\n",
    "    'gamma':0.1,\n",
    "    'subsample':0.9,\n",
    "    'colsample_bytree':0.9,\n",
    "    'learning_rate':0.7\n",
    "}\n",
    "initial_params = {\n",
    "    'n_estimators':500,\n",
    "    'max_depth':4,\n",
    "    'min_child_weight':1,\n",
    "    'colsample_bytree':0.9,\n",
    "    'learning_rate':0.7\n",
    "}"
   ]
  },
  {
   "cell_type": "code",
   "execution_count": 38,
   "metadata": {
    "collapsed": true
   },
   "outputs": [],
   "source": [
    "params = {\n",
    "    'gamma':[0.0,0.1,0.2],\n",
    "    'subsample':[0.5,0.6,0.7,0.8,0.9,1.0]\n",
    "}"
   ]
  },
  {
   "cell_type": "code",
   "execution_count": 40,
   "metadata": {},
   "outputs": [
    {
     "name": "stdout",
     "output_type": "stream",
     "text": [
      "{'gamma': 0.1, 'subsample': 0.7}\n",
      "0.979166666667\n",
      "elapsed time1320.5113530158997\n"
     ]
    }
   ],
   "source": [
    "gs = GridSearchCV(estimator = XGBClassifier(**initial_params,seed=42),param_grid=params, scoring = 'accuracy', cv=5,n_jobs=-1)\n",
    "gs.fit(X_train, y_train)\n",
    "print(gs.best_params_)\n",
    "print(gs.best_score_)\n",
    "e = time.time()-s\n",
    "print(f\"elapsed time{e}\")"
   ]
  },
  {
   "cell_type": "code",
   "execution_count": 41,
   "metadata": {
    "collapsed": true
   },
   "outputs": [],
   "source": [
    "initial_params = {\n",
    "    'n_estimators':500,\n",
    "    'max_depth':4,\n",
    "    'min_child_weight':1,\n",
    "    'gamma':0.1,\n",
    "    'subsample':0.7,\n",
    "    'colsample_bytree':0.9,\n",
    "    'learning_rate':0.7\n",
    "}"
   ]
  },
  {
   "cell_type": "code",
   "execution_count": 42,
   "metadata": {
    "collapsed": true
   },
   "outputs": [],
   "source": [
    "params = {\n",
    "    'n_estimators':[400,500,600,700,800,900,1000]\n",
    "}"
   ]
  },
  {
   "cell_type": "code",
   "execution_count": 43,
   "metadata": {},
   "outputs": [
    {
     "name": "stdout",
     "output_type": "stream",
     "text": [
      "{'n_estimators': 600}\n",
      "0.980324074074\n",
      "elapsed time1419.8896079063416\n"
     ]
    }
   ],
   "source": [
    "gs = GridSearchCV(estimator = XGBClassifier(**initial_params,seed=42),param_grid=params, scoring = 'accuracy', cv=5,n_jobs=-1)\n",
    "gs.fit(X_train, y_train)\n",
    "print(gs.best_params_)\n",
    "print(gs.best_score_)\n",
    "e = time.time()-s\n",
    "print(f\"elapsed time{e}\")"
   ]
  },
  {
   "cell_type": "markdown",
   "metadata": {},
   "source": [
    "## パラメータ決定"
   ]
  },
  {
   "cell_type": "code",
   "execution_count": 44,
   "metadata": {
    "collapsed": true
   },
   "outputs": [],
   "source": [
    "params = {\n",
    "    'n_estimators':600,\n",
    "    'max_depth':4,\n",
    "    'min_child_weight':9,\n",
    "    'gamma':0,\n",
    "    'subsample':1.0,\n",
    "    'colsample_bytree':0.6,\n",
    "    'learning_rate':0.1\n",
    "}"
   ]
  },
  {
   "cell_type": "code",
   "execution_count": 45,
   "metadata": {},
   "outputs": [
    {
     "data": {
      "text/plain": [
       "XGBClassifier(base_score=0.5, booster='gbtree', colsample_bylevel=1,\n",
       "       colsample_bytree=0.6, gamma=0, learning_rate=0.1, max_delta_step=0,\n",
       "       max_depth=4, min_child_weight=9, missing=None, n_estimators=600,\n",
       "       n_jobs=1, nthread=None, objective='multi:softprob', random_state=0,\n",
       "       reg_alpha=0, reg_lambda=1, scale_pos_weight=1, seed=42, silent=True,\n",
       "       subsample=1.0)"
      ]
     },
     "execution_count": 45,
     "metadata": {},
     "output_type": "execute_result"
    }
   ],
   "source": [
    "xgboost_opt = XGBClassifier(**params, seed=42)\n",
    "xgboost_opt.fit(X_train,y_train)"
   ]
  },
  {
   "cell_type": "code",
   "execution_count": 46,
   "metadata": {
    "collapsed": true
   },
   "outputs": [],
   "source": [
    "test = pd.read_csv(\"output/test_preprocessed.csv\")\n",
    "X_test = test.loc[:,['buying', 'maint', 'doors', 'persons', 'lug_boot', 'safety']]"
   ]
  },
  {
   "cell_type": "code",
   "execution_count": 48,
   "metadata": {},
   "outputs": [],
   "source": [
    "y_test = xgboost_opt.predict(X_test)"
   ]
  },
  {
   "cell_type": "code",
   "execution_count": 49,
   "metadata": {
    "collapsed": true
   },
   "outputs": [],
   "source": [
    "submit_file = pd.read_csv('data/sample_submit.csv', names=['id','result'])"
   ]
  },
  {
   "cell_type": "code",
   "execution_count": 50,
   "metadata": {
    "collapsed": true
   },
   "outputs": [],
   "source": [
    "submit_file['result']=y_test\n",
    "submit_file.to_csv('submit3_XGBoost_with_GridSearchCV.csv',  header=False, index=False)"
   ]
  },
  {
   "cell_type": "code",
   "execution_count": null,
   "metadata": {
    "collapsed": true
   },
   "outputs": [],
   "source": []
  }
 ],
 "metadata": {
  "kernelspec": {
   "display_name": "Python 3",
   "language": "python",
   "name": "python3"
  },
  "language_info": {
   "codemirror_mode": {
    "name": "ipython",
    "version": 3
   },
   "file_extension": ".py",
   "mimetype": "text/x-python",
   "name": "python",
   "nbconvert_exporter": "python",
   "pygments_lexer": "ipython3",
   "version": "3.6.3"
  }
 },
 "nbformat": 4,
 "nbformat_minor": 2
}
