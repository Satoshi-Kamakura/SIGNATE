{
 "cells": [
  {
   "cell_type": "markdown",
   "metadata": {},
   "source": [
    "# submit5(特徴量追加)に対してパラメタチューニングする"
   ]
  },
  {
   "cell_type": "code",
   "execution_count": 1,
   "metadata": {
    "collapsed": true
   },
   "outputs": [],
   "source": [
    "import pandas as pd\n",
    "import numpy as np\n",
    "from sklearn.model_selection import GridSearchCV \n",
    "# XGBoost\n",
    "import xgboost as xgb\n",
    "from xgboost import XGBRegressor\n",
    "from xgboost import XGBClassifier"
   ]
  },
  {
   "cell_type": "markdown",
   "metadata": {},
   "source": [
    "## データを加工する関数"
   ]
  },
  {
   "cell_type": "code",
   "execution_count": 2,
   "metadata": {
    "collapsed": true
   },
   "outputs": [],
   "source": [
    "def preprocess( data ):\n",
    "    data2 = data.copy()\n",
    "    # doorsとpersonsに非数値があるため、置換する\n",
    "    # 置換後の型がobjectになっているのでintに変換する\n",
    "    data2['doors'] = data2['doors'].replace({\"5more\":\"5\"}).astype(int)\n",
    "    data2['persons'] = data2['persons'].replace({\"more\":'5'}).astype(int)\n",
    "    \n",
    "    # buying, maint, lug_boot, safetyをそれぞれ数値に変換\n",
    "    data2['buying']=data2['buying'].map({'low': 1, 'med': 2, 'high': 3, 'vhigh': 4});\n",
    "    data2['maint']=data2['maint'].map({'low': 1, 'high': 2, 'med': 3, 'vhigh': 4});\n",
    "    data2['lug_boot']=data2['lug_boot'].map({'small': 1, 'med': 2, 'big': 3});\n",
    "    data2['safety']=data2['safety'].map({'low': 1, 'med': 2, 'high': 3});\n",
    "    \n",
    "    # 定員とトランクの大きさを足して容量とする。\n",
    "    data2['capacity']=data2['persons']+data2['lug_boot']\n",
    "    \n",
    "    # 売値から整備代を引いて、コストとする\n",
    "    data2['cost']=data2['buying']-data2['maint']\n",
    "    \n",
    "    return data2"
   ]
  },
  {
   "cell_type": "markdown",
   "metadata": {},
   "source": [
    "## 訓練データを読み込み、目的変数と説明変数に分ける"
   ]
  },
  {
   "cell_type": "code",
   "execution_count": 3,
   "metadata": {},
   "outputs": [],
   "source": [
    "train = pd.read_csv(\"data/train.tsv\", sep='\\t')\n",
    "Y_train = train['class'].copy()\n",
    "Y_train = Y_train.map({'unacc':1, 'acc':2, 'good':3, 'vgood':4 })\n",
    "X_train = preprocess( train.loc[:, [\"buying\", \"maint\", 'doors', 'persons',\"lug_boot\", \"safety\"]] )"
   ]
  },
  {
   "cell_type": "markdown",
   "metadata": {},
   "source": [
    "## パラメタチューニングする"
   ]
  },
  {
   "cell_type": "code",
   "execution_count": 4,
   "metadata": {
    "collapsed": true
   },
   "outputs": [],
   "source": [
    "initial_params = {\n",
    "}\n",
    "params={\n",
    "    'max_depth':[2,3,4,5,6],\n",
    "    'min_child_weight':[1,2,3,4]\n",
    "}"
   ]
  },
  {
   "cell_type": "code",
   "execution_count": 5,
   "metadata": {},
   "outputs": [
    {
     "name": "stdout",
     "output_type": "stream",
     "text": [
      "{'max_depth': 6, 'min_child_weight': 1}\n",
      "0.967592592593\n"
     ]
    }
   ],
   "source": [
    "gs = GridSearchCV(estimator = XGBClassifier(**initial_params,seed=42),param_grid=params, cv=5,n_jobs=-1)\n",
    "gs.fit(X_train, Y_train)\n",
    "print(gs.best_params_)\n",
    "print(gs.best_score_)"
   ]
  },
  {
   "cell_type": "code",
   "execution_count": 6,
   "metadata": {
    "collapsed": true
   },
   "outputs": [],
   "source": [
    "initial_params = {\n",
    "    'min_child_weight':1\n",
    "}\n",
    "params={\n",
    "    'max_depth':[5,6,7,8,9,10],\n",
    "}"
   ]
  },
  {
   "cell_type": "code",
   "execution_count": 7,
   "metadata": {},
   "outputs": [
    {
     "name": "stdout",
     "output_type": "stream",
     "text": [
      "{'max_depth': 7}\n",
      "0.971064814815\n"
     ]
    }
   ],
   "source": [
    "gs = GridSearchCV(estimator = XGBClassifier(**initial_params,seed=42),param_grid=params, cv=5,n_jobs=-1)\n",
    "gs.fit(X_train, Y_train)\n",
    "print(gs.best_params_)\n",
    "print(gs.best_score_)"
   ]
  },
  {
   "cell_type": "code",
   "execution_count": 8,
   "metadata": {
    "collapsed": true
   },
   "outputs": [],
   "source": [
    "initial_params = {\n",
    "    'min_child_weight':1,\n",
    "    'max_depth':8,\n",
    "}\n",
    "params={\n",
    "    'gamma':[0.0,0.1,0.2],\n",
    "    'subsample':[0.5,0.6,0.7,0.8,0.9,1.0]\n",
    "}"
   ]
  },
  {
   "cell_type": "code",
   "execution_count": 9,
   "metadata": {},
   "outputs": [
    {
     "name": "stdout",
     "output_type": "stream",
     "text": [
      "{'gamma': 0.1, 'subsample': 1.0}\n",
      "0.974537037037\n"
     ]
    }
   ],
   "source": [
    "gs = GridSearchCV(estimator = XGBClassifier(**initial_params,seed=42),param_grid=params, cv=5,n_jobs=-1)\n",
    "gs.fit(X_train, Y_train)\n",
    "print(gs.best_params_)\n",
    "print(gs.best_score_)"
   ]
  },
  {
   "cell_type": "code",
   "execution_count": 10,
   "metadata": {},
   "outputs": [
    {
     "name": "stdout",
     "output_type": "stream",
     "text": [
      "{'gamma': 0.1}\n",
      "0.969907407407\n"
     ]
    }
   ],
   "source": [
    "initial_params = {\n",
    "    'min_child_weight':1,\n",
    "    'max_depth':8,\n",
    "    'subsample':0.9\n",
    "}\n",
    "params={\n",
    "    'gamma':[0.1,0.2,0.3,0.4,0.5,0.75,1.0],\n",
    "}\n",
    "gs = GridSearchCV(estimator = XGBClassifier(**initial_params,seed=42),param_grid=params, cv=5,n_jobs=-1)\n",
    "gs.fit(X_train, Y_train)\n",
    "print(gs.best_params_)\n",
    "print(gs.best_score_)"
   ]
  },
  {
   "cell_type": "code",
   "execution_count": 11,
   "metadata": {
    "collapsed": true
   },
   "outputs": [],
   "source": [
    "initial_params = {\n",
    "    'min_child_weight':1,\n",
    "    'max_depth':8,\n",
    "    'gamma':0.2,\n",
    "    'subsample':0.9,\n",
    "}\n",
    "params = {\n",
    "    'colsample_bytree':[0.6,0.7,0.8,0.9,1.0],\n",
    "    'learning_rate':[0.5, 0.2, 0.1, 0.05]\n",
    "}"
   ]
  },
  {
   "cell_type": "code",
   "execution_count": 12,
   "metadata": {},
   "outputs": [
    {
     "name": "stdout",
     "output_type": "stream",
     "text": [
      "{'colsample_bytree': 1.0, 'learning_rate': 0.5}\n",
      "0.972222222222\n"
     ]
    }
   ],
   "source": [
    "gs = GridSearchCV(estimator = XGBClassifier(**initial_params,seed=42),param_grid=params, cv=5,n_jobs=-1)\n",
    "gs.fit(X_train, Y_train)\n",
    "print(gs.best_params_)\n",
    "print(gs.best_score_)"
   ]
  },
  {
   "cell_type": "code",
   "execution_count": 13,
   "metadata": {
    "collapsed": true
   },
   "outputs": [],
   "source": [
    "initial_params = {\n",
    "    'min_child_weight':1,\n",
    "    'max_depth':8,\n",
    "    'gamma':0.2,\n",
    "    'subsample':0.9,\n",
    "    'colsample_bytree': 0.9,\n",
    "    'learning_rate': 0.2,\n",
    "}\n",
    "params = {\n",
    "    'n_estimators':[400,500,600,700,800,900,1000]\n",
    "}"
   ]
  },
  {
   "cell_type": "code",
   "execution_count": 14,
   "metadata": {},
   "outputs": [
    {
     "name": "stdout",
     "output_type": "stream",
     "text": [
      "{'n_estimators': 400}\n",
      "0.971064814815\n"
     ]
    }
   ],
   "source": [
    "gs = GridSearchCV(estimator = XGBClassifier(**initial_params,seed=42),param_grid=params, cv=5,n_jobs=-1)\n",
    "gs.fit(X_train, Y_train)\n",
    "print(gs.best_params_)\n",
    "print(gs.best_score_)"
   ]
  },
  {
   "cell_type": "code",
   "execution_count": 15,
   "metadata": {
    "collapsed": true
   },
   "outputs": [],
   "source": [
    "initial_params = {\n",
    "    'min_child_weight':1,\n",
    "    'max_depth':8,\n",
    "    'gamma':0.2,\n",
    "    'subsample':0.9,\n",
    "    'colsample_bytree': 0.9,\n",
    "    'learning_rate': 0.2,\n",
    "}\n",
    "params = {\n",
    "    'n_estimators':[100,200,400,300,500,600,700]\n",
    "}"
   ]
  },
  {
   "cell_type": "code",
   "execution_count": 16,
   "metadata": {},
   "outputs": [
    {
     "name": "stdout",
     "output_type": "stream",
     "text": [
      "{'n_estimators': 400}\n",
      "0.971064814815\n"
     ]
    }
   ],
   "source": [
    "gs = GridSearchCV(estimator = XGBClassifier(**initial_params,seed=42),param_grid=params, cv=5,n_jobs=-1)\n",
    "gs.fit(X_train, Y_train)\n",
    "print(gs.best_params_)\n",
    "print(gs.best_score_)"
   ]
  },
  {
   "cell_type": "markdown",
   "metadata": {},
   "source": [
    "### 上記までで決定したパラメタで学習する"
   ]
  },
  {
   "cell_type": "code",
   "execution_count": 17,
   "metadata": {},
   "outputs": [
    {
     "data": {
      "text/plain": [
       "XGBClassifier(base_score=0.5, booster='gbtree', colsample_bylevel=1,\n",
       "       colsample_bytree=0.9, gamma=0.2, learning_rate=0.2,\n",
       "       max_delta_step=0, max_depth=8, min_child_weight=1, missing=None,\n",
       "       n_estimators=100, n_jobs=1, nthread=None,\n",
       "       objective='multi:softprob', random_state=0, reg_alpha=0,\n",
       "       reg_lambda=1, scale_pos_weight=1, seed=42, silent=True,\n",
       "       subsample=0.9)"
      ]
     },
     "execution_count": 17,
     "metadata": {},
     "output_type": "execute_result"
    }
   ],
   "source": [
    "params = {\n",
    "    'n_estimators': 100,\n",
    "    'min_child_weight':1,\n",
    "    'max_depth':8,\n",
    "    'gamma':0.2,\n",
    "    'subsample':0.9,\n",
    "    'colsample_bytree': 0.9,\n",
    "    'learning_rate': 0.2,\n",
    "}\n",
    "xgboost_opt = XGBClassifier(**params, seed=42)\n",
    "xgboost_opt.fit(X_train,Y_train)"
   ]
  },
  {
   "cell_type": "markdown",
   "metadata": {},
   "source": [
    "## テストデータを読み、訓練データと同じ加工をする"
   ]
  },
  {
   "cell_type": "code",
   "execution_count": 18,
   "metadata": {
    "collapsed": true
   },
   "outputs": [],
   "source": [
    "test = pd.read_csv('data/test.tsv', sep='\\t')\n",
    "X_test = preprocess( test.loc[:, [\"buying\", \"maint\", 'doors', 'persons',\"lug_boot\", \"safety\"]] )"
   ]
  },
  {
   "cell_type": "code",
   "execution_count": 19,
   "metadata": {
    "collapsed": true
   },
   "outputs": [],
   "source": [
    "Y_test = xgboost_opt.predict(X_test)"
   ]
  },
  {
   "cell_type": "code",
   "execution_count": 20,
   "metadata": {
    "collapsed": true
   },
   "outputs": [],
   "source": [
    "submit = pd.read_csv('data/sample_submit.csv',names=['id','result'])\n",
    "submit['result']=Y_test\n",
    "submit['result']=submit['result'].map({1:'unacc', 2:'acc', 3:'good', 4:'vgood'})\n",
    "submit.to_csv('output/submit6.csv',  header=False, index=False)"
   ]
  },
  {
   "cell_type": "markdown",
   "metadata": {},
   "source": [
    "### 結果確認用のファイルを生成する"
   ]
  },
  {
   "cell_type": "code",
   "execution_count": 21,
   "metadata": {
    "collapsed": true
   },
   "outputs": [],
   "source": [
    "X_test['result']=submit['result']\n",
    "X_test['id']=submit['id']\n",
    "out=X_test.loc[:,[\"id\",\"buying\", \"maint\", 'doors', 'persons',\"lug_boot\", \"safety\",\"result\"]]\n",
    "out.to_csv('output/submit6_confirmation.csv',header=True)"
   ]
  },
  {
   "cell_type": "code",
   "execution_count": null,
   "metadata": {
    "collapsed": true
   },
   "outputs": [],
   "source": []
  }
 ],
 "metadata": {
  "kernelspec": {
   "display_name": "Python 3",
   "language": "python",
   "name": "python3"
  },
  "language_info": {
   "codemirror_mode": {
    "name": "ipython",
    "version": 3
   },
   "file_extension": ".py",
   "mimetype": "text/x-python",
   "name": "python",
   "nbconvert_exporter": "python",
   "pygments_lexer": "ipython3",
   "version": "3.6.3"
  }
 },
 "nbformat": 4,
 "nbformat_minor": 2
}
