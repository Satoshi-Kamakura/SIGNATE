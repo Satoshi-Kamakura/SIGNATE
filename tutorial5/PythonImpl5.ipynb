{
 "cells": [
  {
   "cell_type": "markdown",
   "metadata": {},
   "source": [
    "# 複数の乱数でアンサンブル学習をする"
   ]
  },
  {
   "cell_type": "markdown",
   "metadata": {},
   "source": [
    "二つの関数を作る\n",
    "-  データの前処理関数\n",
    "- 指定の乱数で学習、予測して結果を返す関数"
   ]
  },
  {
   "cell_type": "code",
   "execution_count": 1,
   "metadata": {},
   "outputs": [],
   "source": [
    "import pandas as pd\n",
    "import numpy as np\n",
    "from sklearn.model_selection import GridSearchCV \n",
    "# XGBoost\n",
    "import xgboost as xgb\n",
    "from xgboost import XGBRegressor\n",
    "from xgboost import XGBClassifier\n",
    "#\n",
    "import random\n",
    "import sys"
   ]
  },
  {
   "cell_type": "code",
   "execution_count": 2,
   "metadata": {
    "collapsed": true
   },
   "outputs": [],
   "source": [
    "def preprocess( data ):\n",
    "    data2 = data.copy()\n",
    "    # doorsとpersonsに非数値があるため、置換する\n",
    "    # 置換後の型がobjectになっているのでintに変換する\n",
    "    data2['doors'] = data2['doors'].replace({\"5more\":\"5\"}).astype(int)\n",
    "    data2['persons'] = data2['persons'].replace({\"more\":'5'}).astype(int)\n",
    "    \n",
    "    # buying, maint, lug_boot, safetyをそれぞれ数値に変換\n",
    "    data2['buying']=data2['buying'].map({'low': 1, 'med': 2, 'high': 3, 'vhigh': 4});\n",
    "    data2['maint']=data2['maint'].map({'low': 1, 'high': 2, 'med': 3, 'vhigh': 4});\n",
    "    data2['lug_boot']=data2['lug_boot'].map({'small': 1, 'med': 2, 'big': 3});\n",
    "    data2['safety']=data2['safety'].map({'low': 1, 'med': 2, 'high': 3});\n",
    "    \n",
    "    # 定員とトランクの大きさを足して容量とする。\n",
    "    data2['capacity']=data2['persons']+data2['lug_boot']\n",
    "    \n",
    "    # 売値から整備代を引いて、コストとする\n",
    "    data2['cost']=data2['buying']-data2['maint']\n",
    "    \n",
    "    return data2"
   ]
  },
  {
   "cell_type": "code",
   "execution_count": 3,
   "metadata": {},
   "outputs": [],
   "source": [
    "def learn( X_train, Y_train, param, rnd_num ):\n",
    "    model = XGBClassifier( **param, seed=rnd_num)\n",
    "    model.fit(X_train, Y_train )\n",
    "    return model"
   ]
  },
  {
   "cell_type": "code",
   "execution_count": 4,
   "metadata": {
    "collapsed": true
   },
   "outputs": [],
   "source": [
    "train = pd.read_csv(\"data/train.tsv\", sep='\\t')\n",
    "Y_train = train['class'].copy()\n",
    "Y_train = Y_train.map({'unacc':1, 'acc':2, 'good':3, 'vgood':4 })\n",
    "X_train = preprocess( train.loc[:, [\"buying\", \"maint\", 'doors', 'persons',\"lug_boot\", \"safety\"]] )\n",
    "\n",
    "test = pd.read_csv('data/test.tsv', sep='\\t')\n",
    "X_test = preprocess( test.loc[:, [\"buying\", \"maint\", 'doors', 'persons',\"lug_boot\", \"safety\"]] )"
   ]
  },
  {
   "cell_type": "code",
   "execution_count": 5,
   "metadata": {},
   "outputs": [],
   "source": [
    "init_param = {\n",
    "    'n_estimators': 100,\n",
    "    'min_child_weight':1,\n",
    "    'max_depth':8,\n",
    "    'gamma':0.2,\n",
    "    'subsample':0.9,\n",
    "    'colsample_bytree': 0.9,\n",
    "    'learning_rate': 0.2,\n",
    "}\n",
    "acc_ans = np.ndarray([])\n",
    "max_iter = 1000\n",
    "for iter in range(max_iter):\n",
    "    num = random.randint(0, 65535)\n",
    "    model = learn(X_train, Y_train, init_param, num )\n",
    "    ans = model.predict(X_test)\n",
    "    acc_ans = acc_ans + ans\n",
    "\n",
    "acc_ans = (acc_ans / max_iter).round().astype(int)"
   ]
  },
  {
   "cell_type": "markdown",
   "metadata": {},
   "source": [
    "### 答えを用意する"
   ]
  },
  {
   "cell_type": "code",
   "execution_count": 6,
   "metadata": {
    "collapsed": true
   },
   "outputs": [],
   "source": [
    "submit = pd.read_csv('data/sample_submit.csv',names=['id','result'])\n",
    "submit['result']=acc_ans\n",
    "submit['result']=submit['result'].map({1:'unacc', 2:'acc', 3:'good', 4:'vgood'})\n",
    "submit.to_csv('output/submit7.csv',  header=False, index=False)"
   ]
  },
  {
   "cell_type": "code",
   "execution_count": null,
   "metadata": {
    "collapsed": true
   },
   "outputs": [],
   "source": []
  }
 ],
 "metadata": {
  "kernelspec": {
   "display_name": "Python 3",
   "language": "python",
   "name": "python3"
  },
  "language_info": {
   "codemirror_mode": {
    "name": "ipython",
    "version": 3
   },
   "file_extension": ".py",
   "mimetype": "text/x-python",
   "name": "python",
   "nbconvert_exporter": "python",
   "pygments_lexer": "ipython3",
   "version": "3.6.3"
  }
 },
 "nbformat": 4,
 "nbformat_minor": 2
}
